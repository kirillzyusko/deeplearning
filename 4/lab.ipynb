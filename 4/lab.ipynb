{
  "nbformat": 4,
  "nbformat_minor": 0,
  "metadata": {
    "kernelspec": {
      "name": "python3",
      "display_name": "Python 3"
    },
    "colab": {
      "name": "lab.ipynb",
      "provenance": []
    },
    "accelerator": "GPU"
  },
  "cells": [
    {
      "cell_type": "markdown",
      "metadata": {
        "collapsed": true,
        "id": "WZfImSn8R0d0",
        "colab_type": "text"
      },
      "source": [
        "<b>Google Colab</b> <a href=\"https://colab.research.google.com/github/kirillzyusko/deeplearning/blob/master/4/lab.ipynb\">link</a>"
      ]
    },
    {
      "cell_type": "markdown",
      "metadata": {
        "id": "scuK4S5oxDjd",
        "colab_type": "text"
      },
      "source": [
        "# **Part 1-1: Download and extract SVNH dataset**"
      ]
    },
    {
      "cell_type": "markdown",
      "metadata": {
        "id": "j-I8uLCijgCi",
        "colab_type": "text"
      },
      "source": [
        "Publication: https://arxiv.org/abs/1312.6082"
      ]
    },
    {
      "cell_type": "code",
      "metadata": {
        "id": "EGGxcFMNxLuf",
        "colab_type": "code",
        "colab": {}
      },
      "source": [
        "!wget \"http://ufldl.stanford.edu/housenumbers/train_32x32.mat\"\n",
        "!wget \"http://ufldl.stanford.edu/housenumbers/test_32x32.mat\"\n",
        "!wget \"http://ufldl.stanford.edu/housenumbers/extra_32x32.mat\""
      ],
      "execution_count": 0,
      "outputs": []
    },
    {
      "cell_type": "code",
      "metadata": {
        "id": "Io0ZugHgg5d5",
        "colab_type": "code",
        "colab": {}
      },
      "source": [
        "!wget \"http://ufldl.stanford.edu/housenumbers/train.tar.gz\"\n",
        "!wget \"http://ufldl.stanford.edu/housenumbers/test.tar.gz\"\n",
        "!wget \"http://ufldl.stanford.edu/housenumbers/extra.tar.gz\""
      ],
      "execution_count": 0,
      "outputs": []
    },
    {
      "cell_type": "markdown",
      "metadata": {
        "id": "IrCRUpSRxjGY",
        "colab_type": "text"
      },
      "source": [
        "Extract .zip"
      ]
    },
    {
      "cell_type": "code",
      "metadata": {
        "id": "jFMtD6dShW0O",
        "colab_type": "code",
        "colab": {}
      },
      "source": [
        "!mkdir train\n",
        "!mkdir test\n",
        "!mkdir extra\n",
        "!tar xvzf train.tar.gz -C train\n",
        "!tar xvzf test.tar.gz -C test\n",
        "!tar xvzf extra.tar.gz -C extra"
      ],
      "execution_count": 0,
      "outputs": []
    },
    {
      "cell_type": "code",
      "metadata": {
        "id": "ZXejvzHg0bs8",
        "colab_type": "code",
        "outputId": "fc21a9ab-847f-484c-8a38-acfe88a9a7d5",
        "colab": {
          "base_uri": "https://localhost:8080/",
          "height": 68
        }
      },
      "source": [
        "%ls"
      ],
      "execution_count": 29,
      "outputs": [
        {
          "output_type": "stream",
          "text": [
            "\u001b[0m\u001b[01;34mextra\u001b[0m/           initial.h5    test_32x32.mat  train_32x32.mat\n",
            "extra_32x32.mat  \u001b[01;34msample_data\u001b[0m/  test.tar.gz     train.tar.gz\n",
            "extra.tar.gz     \u001b[01;34mtest\u001b[0m/         \u001b[01;34mtrain\u001b[0m/\n"
          ],
          "name": "stdout"
        }
      ]
    },
    {
      "cell_type": "markdown",
      "metadata": {
        "id": "OUhraxUgYIde",
        "colab_type": "text"
      },
      "source": [
        "Read data:"
      ]
    },
    {
      "cell_type": "code",
      "metadata": {
        "id": "3-sNrRBhYIrK",
        "colab_type": "code",
        "colab": {}
      },
      "source": [
        "from scipy.io import loadmat\n",
        "\n",
        "train = loadmat('train_32x32.mat')\n",
        "test = loadmat('test_32x32.mat')\n",
        "extra = loadmat('test_32x32.mat')\n",
        "\n",
        "X_train = train['X']\n",
        "y_train = train['y']\n",
        "X_test = test['X']\n",
        "y_test = test['y']"
      ],
      "execution_count": 0,
      "outputs": []
    },
    {
      "cell_type": "markdown",
      "metadata": {
        "id": "1m21tl9FYffM",
        "colab_type": "text"
      },
      "source": [
        "Check the data:"
      ]
    },
    {
      "cell_type": "code",
      "metadata": {
        "id": "5BngddA_Yfnv",
        "colab_type": "code",
        "colab": {
          "base_uri": "https://localhost:8080/",
          "height": 85
        },
        "outputId": "748b2c1d-6125-4066-bdd1-943d3cf66d42"
      },
      "source": [
        "print(\"X_train.shape: \", X_train.shape)\n",
        "print(\"y_train.shape: \", y_train.shape)\n",
        "print(\"X_test.shape: \", X_test.shape)\n",
        "print(\"y_test.shape: \", y_test.shape)"
      ],
      "execution_count": 7,
      "outputs": [
        {
          "output_type": "stream",
          "text": [
            "X_train.shape:  (32, 32, 3, 73257)\n",
            "y_train.shape:  (73257, 1)\n",
            "X_test.shape:  (32, 32, 3, 26032)\n",
            "y_test.shape:  (26032, 1)\n"
          ],
          "name": "stdout"
        }
      ]
    },
    {
      "cell_type": "markdown",
      "metadata": {
        "id": "1Eg6RA9FYyXX",
        "colab_type": "text"
      },
      "source": [
        "Since we now know the structure of the data, we can visulize it:"
      ]
    },
    {
      "cell_type": "code",
      "metadata": {
        "id": "XMp2L75nZBVg",
        "colab_type": "code",
        "colab": {
          "base_uri": "https://localhost:8080/",
          "height": 264
        },
        "outputId": "c9873d0e-0847-40ba-984c-df0af458e93e"
      },
      "source": [
        "import matplotlib.pyplot as plt\n",
        "\n",
        "X_train = X_train[:,:,:,:]\n",
        "X_test = X_test[:,:,:,:]\n",
        "\n",
        "start = 50\n",
        "\n",
        "fig, ax = plt.subplots(3, 4)\n",
        "for row in range(3):\n",
        "    for col in range(4):\n",
        "        ax[row, col].imshow(X_train[:,:,:,start+row*3+col])\n",
        "        ax[row, col].axis('off')\n",
        "        ax[row, col].set_title('{}'.format(y_train[start+row*3+col, 0]))\n",
        "plt.show()"
      ],
      "execution_count": 8,
      "outputs": [
        {
          "output_type": "display_data",
          "data": {
            "image/png": "[encoded data removed]",
            "text/plain": [
              "<Figure size 432x288 with 12 Axes>"
            ]
          },
          "metadata": {
            "tags": []
          }
        }
      ]
    },
    {
      "cell_type": "markdown",
      "metadata": {
        "id": "5MnyJ9RivnXy",
        "colab_type": "text"
      },
      "source": [
        "# **Part 1-2: Download and extract MNIST dataset**"
      ]
    },
    {
      "cell_type": "code",
      "metadata": {
        "id": "msJXdVAswWal",
        "colab_type": "code",
        "colab": {}
      },
      "source": [
        "from keras.datasets import mnist\n",
        "\n",
        "\n",
        "# the data, split between train and test sets\n",
        "(x_train_mnist, y_train_mnist), (x_test_mnist, y_test_mnist) = mnist.load_data()\n",
        "\n",
        "x_train_mnist = x_train_mnist / 255\n",
        "y_train_mnist = y_train_mnist / 255\n",
        "x_test_mnist = x_test_mnist / 255\n",
        "y_test_mnist = y_test_mnist / 255"
      ],
      "execution_count": 0,
      "outputs": []
    },
    {
      "cell_type": "markdown",
      "metadata": {
        "id": "tFYwZL8bw6_K",
        "colab_type": "text"
      },
      "source": [
        "# **Part 1-3: Build a NN model**"
      ]
    },
    {
      "cell_type": "markdown",
      "metadata": {
        "id": "T4xcM6yExHr7",
        "colab_type": "text"
      },
      "source": [
        "Const declaration"
      ]
    },
    {
      "cell_type": "code",
      "metadata": {
        "id": "GffKLgrvxAcj",
        "colab_type": "code",
        "colab": {}
      },
      "source": [
        "IMAGE_WIDTH=128\n",
        "IMAGE_HEIGHT=128\n",
        "IMAGE_CHANNELS=3"
      ],
      "execution_count": 0,
      "outputs": []
    },
    {
      "cell_type": "markdown",
      "metadata": {
        "id": "myktRoIgxLPy",
        "colab_type": "text"
      },
      "source": [
        "NN model"
      ]
    },
    {
      "cell_type": "code",
      "metadata": {
        "id": "zu9LWMckxMPq",
        "colab_type": "code",
        "colab": {
          "base_uri": "https://localhost:8080/",
          "height": 1000
        },
        "outputId": "c90bd205-0c1f-4dae-8b08-0678818f4602"
      },
      "source": [
        "from keras import Input, Model\n",
        "from keras.models import Sequential\n",
        "from keras.layers import Conv2D, MaxPooling2D, Dropout, Flatten, Dense, Activation, BatchNormalization\n",
        "\n",
        "model = Sequential()\n",
        "\n",
        "# input layer\n",
        "input = Input(shape=(IMAGE_WIDTH, IMAGE_HEIGHT, IMAGE_CHANNELS), name=\"input\")\n",
        "\n",
        "# 1 layer\n",
        "hidden1 = Conv2D(32, (3,3), activation='relu')(input)\n",
        "hidden1 = BatchNormalization()(hidden1)\n",
        "hidden1 = MaxPooling2D(padding='same')(hidden1)\n",
        "hidden1 = Dropout(0.25)(hidden1)\n",
        "\n",
        "# 2 layer\n",
        "hidden2 = Conv2D(64, (3,3), activation='relu')(hidden1)\n",
        "hidden2 = BatchNormalization()(hidden2)\n",
        "hidden2 = MaxPooling2D(padding='same',strides=1)(hidden2)\n",
        "hidden2 = Dropout(0.25)(hidden2)\n",
        "\n",
        "# 3 layer\n",
        "hidden3 = Conv2D(128, (3,3), activation='relu')(hidden2)\n",
        "hidden3 = BatchNormalization()(hidden3)\n",
        "hidden3 = MaxPooling2D(padding='same')(hidden3)\n",
        "hidden3 = Dropout(0.25)(hidden3)\n",
        "\n",
        "# 4 layer\n",
        "hidden4 = Conv2D(192, (3,3), activation='relu')(hidden3)\n",
        "hidden4 = BatchNormalization()(hidden4)\n",
        "hidden4 = MaxPooling2D(padding='same',strides=1)(hidden4)\n",
        "hidden4 = Dropout(0.25)(hidden4)\n",
        "\n",
        "# 5 layer\n",
        "hidden5 = Conv2D(192, (3,3), activation='relu')(hidden4)\n",
        "hidden5 = BatchNormalization()(hidden5)\n",
        "hidden5 = MaxPooling2D(padding=\"same\")(hidden5)\n",
        "hidden5 = Dropout(0.25)(hidden5)\n",
        "\n",
        "# 6 layer\n",
        "hidden6 = Conv2D(192, (3,3), activation='relu')(hidden5)\n",
        "hidden6 = BatchNormalization()(hidden6)\n",
        "hidden6 = MaxPooling2D(padding='same',strides=1)(hidden6)\n",
        "hidden6 = Dropout(0.25)(hidden6)\n",
        "\n",
        "# 7 layer\n",
        "hidden7 = Conv2D(192, (3,3), activation='relu')(hidden6)\n",
        "hidden7 = BatchNormalization()(hidden7)\n",
        "hidden7 = MaxPooling2D(padding='same')(hidden7)\n",
        "hidden7 = Dropout(0.25)(hidden7)\n",
        "\n",
        "# 8 layer\n",
        "hidden8 = Conv2D(192, (3,3), activation='relu')(hidden7)\n",
        "hidden8 = BatchNormalization()(hidden8)\n",
        "hidden8 = MaxPooling2D(padding='same',strides=1)(hidden8)\n",
        "hidden8 = Dropout(0.25)(hidden8)\n",
        "\n",
        "# flatten layer\n",
        "flatten = Flatten()(hidden8)\n",
        "\n",
        "# 1 dense layer\n",
        "dense1 = Dense(4096, activation='relu')(flatten)\n",
        "\n",
        "# 2 dense layer\n",
        "dense2 = Dense(4096, activation='relu')(dense1)\n",
        "\n",
        "# output layers\n",
        "length = Dense(6, activation='softmax', name='length')(dense2)\n",
        "digit1 = Dense(11, activation='softmax', name='digit1')(dense2)\n",
        "digit2 = Dense(11, activation='softmax', name='digit2')(dense2)\n",
        "digit3 = Dense(11, activation='softmax', name='digit3')(dense2)\n",
        "digit4 = Dense(11, activation='softmax', name='digit4')(dense2)\n",
        "digit5 = Dense(11, activation='softmax', name='digit5')(dense2)\n",
        "\n",
        "model = Model(inputs=input, outputs=[length,digit1,digit2,digit3,digit4,digit5])\n",
        "\n",
        "model.summary()\n",
        "\n",
        "# use sparse, since it allows not use one-hot encoding\n",
        "model.compile(loss='sparse_categorical_crossentropy', optimizer='rmsprop', metrics=['acc'])\n",
        "\n",
        "model.save_weights('initial.h5')"
      ],
      "execution_count": 24,
      "outputs": [
        {
          "output_type": "stream",
          "text": [
            "Model: \"model_1\"\n",
            "__________________________________________________________________________________________________\n",
            "Layer (type)                    Output Shape         Param #     Connected to                     \n",
            "==================================================================================================\n",
            "input (InputLayer)              (None, 128, 128, 3)  0                                            \n",
            "__________________________________________________________________________________________________\n",
            "conv2d_23 (Conv2D)              (None, 126, 126, 32) 896         input[0][0]                      \n",
            "__________________________________________________________________________________________________\n",
            "batch_normalization_22 (BatchNo (None, 126, 126, 32) 128         conv2d_23[0][0]                  \n",
            "__________________________________________________________________________________________________\n",
            "max_pooling2d_22 (MaxPooling2D) (None, 63, 63, 32)   0           batch_normalization_22[0][0]     \n",
            "__________________________________________________________________________________________________\n",
            "dropout_22 (Dropout)            (None, 63, 63, 32)   0           max_pooling2d_22[0][0]           \n",
            "__________________________________________________________________________________________________\n",
            "conv2d_24 (Conv2D)              (None, 61, 61, 64)   18496       dropout_22[0][0]                 \n",
            "__________________________________________________________________________________________________\n",
            "batch_normalization_23 (BatchNo (None, 61, 61, 64)   256         conv2d_24[0][0]                  \n",
            "__________________________________________________________________________________________________\n",
            "max_pooling2d_23 (MaxPooling2D) (None, 61, 61, 64)   0           batch_normalization_23[0][0]     \n",
            "__________________________________________________________________________________________________\n",
            "dropout_23 (Dropout)            (None, 61, 61, 64)   0           max_pooling2d_23[0][0]           \n",
            "__________________________________________________________________________________________________\n",
            "conv2d_25 (Conv2D)              (None, 59, 59, 128)  73856       dropout_23[0][0]                 \n",
            "__________________________________________________________________________________________________\n",
            "batch_normalization_24 (BatchNo (None, 59, 59, 128)  512         conv2d_25[0][0]                  \n",
            "__________________________________________________________________________________________________\n",
            "max_pooling2d_24 (MaxPooling2D) (None, 30, 30, 128)  0           batch_normalization_24[0][0]     \n",
            "__________________________________________________________________________________________________\n",
            "dropout_24 (Dropout)            (None, 30, 30, 128)  0           max_pooling2d_24[0][0]           \n",
            "__________________________________________________________________________________________________\n",
            "conv2d_26 (Conv2D)              (None, 28, 28, 192)  221376      dropout_24[0][0]                 \n",
            "__________________________________________________________________________________________________\n",
            "batch_normalization_25 (BatchNo (None, 28, 28, 192)  768         conv2d_26[0][0]                  \n",
            "__________________________________________________________________________________________________\n",
            "max_pooling2d_25 (MaxPooling2D) (None, 28, 28, 192)  0           batch_normalization_25[0][0]     \n",
            "__________________________________________________________________________________________________\n",
            "dropout_25 (Dropout)            (None, 28, 28, 192)  0           max_pooling2d_25[0][0]           \n",
            "__________________________________________________________________________________________________\n",
            "conv2d_27 (Conv2D)              (None, 26, 26, 192)  331968      dropout_25[0][0]                 \n",
            "__________________________________________________________________________________________________\n",
            "batch_normalization_26 (BatchNo (None, 26, 26, 192)  768         conv2d_27[0][0]                  \n",
            "__________________________________________________________________________________________________\n",
            "max_pooling2d_26 (MaxPooling2D) (None, 13, 13, 192)  0           batch_normalization_26[0][0]     \n",
            "__________________________________________________________________________________________________\n",
            "dropout_26 (Dropout)            (None, 13, 13, 192)  0           max_pooling2d_26[0][0]           \n",
            "__________________________________________________________________________________________________\n",
            "conv2d_28 (Conv2D)              (None, 11, 11, 192)  331968      dropout_26[0][0]                 \n",
            "__________________________________________________________________________________________________\n",
            "batch_normalization_27 (BatchNo (None, 11, 11, 192)  768         conv2d_28[0][0]                  \n",
            "__________________________________________________________________________________________________\n",
            "max_pooling2d_27 (MaxPooling2D) (None, 11, 11, 192)  0           batch_normalization_27[0][0]     \n",
            "__________________________________________________________________________________________________\n",
            "dropout_27 (Dropout)            (None, 11, 11, 192)  0           max_pooling2d_27[0][0]           \n",
            "__________________________________________________________________________________________________\n",
            "conv2d_29 (Conv2D)              (None, 9, 9, 192)    331968      dropout_27[0][0]                 \n",
            "__________________________________________________________________________________________________\n",
            "batch_normalization_28 (BatchNo (None, 9, 9, 192)    768         conv2d_29[0][0]                  \n",
            "__________________________________________________________________________________________________\n",
            "max_pooling2d_28 (MaxPooling2D) (None, 5, 5, 192)    0           batch_normalization_28[0][0]     \n",
            "__________________________________________________________________________________________________\n",
            "dropout_28 (Dropout)            (None, 5, 5, 192)    0           max_pooling2d_28[0][0]           \n",
            "__________________________________________________________________________________________________\n",
            "conv2d_30 (Conv2D)              (None, 3, 3, 192)    331968      dropout_28[0][0]                 \n",
            "__________________________________________________________________________________________________\n",
            "batch_normalization_29 (BatchNo (None, 3, 3, 192)    768         conv2d_30[0][0]                  \n",
            "__________________________________________________________________________________________________\n",
            "max_pooling2d_29 (MaxPooling2D) (None, 3, 3, 192)    0           batch_normalization_29[0][0]     \n",
            "__________________________________________________________________________________________________\n",
            "dropout_29 (Dropout)            (None, 3, 3, 192)    0           max_pooling2d_29[0][0]           \n",
            "__________________________________________________________________________________________________\n",
            "flatten_3 (Flatten)             (None, 1728)         0           dropout_29[0][0]                 \n",
            "__________________________________________________________________________________________________\n",
            "dense_5 (Dense)                 (None, 4096)         7081984     flatten_3[0][0]                  \n",
            "__________________________________________________________________________________________________\n",
            "dense_6 (Dense)                 (None, 4096)         16781312    dense_5[0][0]                    \n",
            "__________________________________________________________________________________________________\n",
            "length (Dense)                  (None, 6)            24582       dense_6[0][0]                    \n",
            "__________________________________________________________________________________________________\n",
            "digit1 (Dense)                  (None, 11)           45067       dense_6[0][0]                    \n",
            "__________________________________________________________________________________________________\n",
            "digit2 (Dense)                  (None, 11)           45067       dense_6[0][0]                    \n",
            "__________________________________________________________________________________________________\n",
            "digit3 (Dense)                  (None, 11)           45067       dense_6[0][0]                    \n",
            "__________________________________________________________________________________________________\n",
            "digit4 (Dense)                  (None, 11)           45067       dense_6[0][0]                    \n",
            "__________________________________________________________________________________________________\n",
            "digit5 (Dense)                  (None, 11)           45067       dense_6[0][0]                    \n",
            "==================================================================================================\n",
            "Total params: 25,760,445\n",
            "Trainable params: 25,758,077\n",
            "Non-trainable params: 2,368\n",
            "__________________________________________________________________________________________________\n"
          ],
          "name": "stdout"
        }
      ]
    },
    {
      "cell_type": "markdown",
      "metadata": {
        "id": "jx9JdwO0NLOY",
        "colab_type": "text"
      },
      "source": [
        "# **Part 1: Train on mnist dataset**"
      ]
    },
    {
      "cell_type": "code",
      "metadata": {
        "id": "OWFivKKXOb8H",
        "colab_type": "code",
        "colab": {}
      },
      "source": [
        ""
      ],
      "execution_count": 0,
      "outputs": []
    },
    {
      "cell_type": "markdown",
      "metadata": {
        "id": "wsAP49KyZuOc",
        "colab_type": "text"
      },
      "source": [
        "# **Part 2: Train on svnh dataset**"
      ]
    },
    {
      "cell_type": "markdown",
      "metadata": {
        "id": "4u2k1ln56J95",
        "colab_type": "text"
      },
      "source": [
        ""
      ]
    },
    {
      "cell_type": "code",
      "metadata": {
        "id": "hP-DeFoc6JGf",
        "colab_type": "code",
        "colab": {
          "base_uri": "https://localhost:8080/",
          "height": 34
        },
        "outputId": "c65b3b35-c181-4494-9568-2dff4659c8fd"
      },
      "source": [
        "import h5py\n",
        "\n",
        "a = h5py.File('train/train/digitStruct.mat',\"r\")['digitStruct']['name']\n",
        "\n",
        "print(a)"
      ],
      "execution_count": 33,
      "outputs": [
        {
          "output_type": "stream",
          "text": [
            "<HDF5 dataset \"name\": shape (33402, 1), type \"|O\">\n"
          ],
          "name": "stdout"
        }
      ]
    },
    {
      "cell_type": "markdown",
      "metadata": {
        "id": "s6zekj_a6H9D",
        "colab_type": "text"
      },
      "source": [
        "Image generator:"
      ]
    },
    {
      "cell_type": "code",
      "metadata": {
        "id": "CqVZM_hUZxjR",
        "colab_type": "code",
        "colab": {}
      },
      "source": [
        "from keras.preprocessing.image import ImageDataGenerator\n",
        "\n",
        "image_generator = ImageDataGenerator(\n",
        "  rescale=1./255\n",
        ")"
      ],
      "execution_count": 0,
      "outputs": []
    },
    {
      "cell_type": "markdown",
      "metadata": {
        "id": "_9B7UM7G4UcU",
        "colab_type": "text"
      },
      "source": [
        "# **Part 3: ?**"
      ]
    },
    {
      "cell_type": "code",
      "metadata": {
        "id": "Ao8z6i6p4XsI",
        "colab_type": "code",
        "colab": {}
      },
      "source": [
        ""
      ],
      "execution_count": 0,
      "outputs": []
    },
    {
      "cell_type": "markdown",
      "metadata": {
        "id": "FCiwhOILhYoD",
        "colab_type": "text"
      },
      "source": [
        "# **Part 4: Export model to tensorflow lite**"
      ]
    },
    {
      "cell_type": "markdown",
      "metadata": {
        "id": "Z0K7UsUBI-Qv",
        "colab_type": "text"
      },
      "source": [
        "Convert model to tensorflow lite, in order to use it on weak devices:"
      ]
    },
    {
      "cell_type": "code",
      "metadata": {
        "id": "U5PXgXl1I3OZ",
        "colab_type": "code",
        "colab": {}
      },
      "source": [
        "from tensorflow.contrib import lite\n",
        "\n",
        "converter = lite.TFLiteConverter.from_keras_model_file('initial.h5')\n",
        "tfmodel = converter.convert()\n",
        "\n",
        "open(\"model.tflite\",\"wb\").write(tfmodel)"
      ],
      "execution_count": 0,
      "outputs": []
    },
    {
      "cell_type": "markdown",
      "metadata": {
        "id": "CR9eR7PC8WTF",
        "colab_type": "text"
      },
      "source": [
        "# **Afterward. Test result**"
      ]
    },
    {
      "cell_type": "markdown",
      "metadata": {
        "id": "SbIxwXX88e0d",
        "colab_type": "text"
      },
      "source": [
        "Write here about my results. Attach various screenshots."
      ]
    },
    {
      "cell_type": "markdown",
      "metadata": {
        "id": "-LT1oHDLoTL5",
        "colab_type": "text"
      },
      "source": [
        "# **Resources**"
      ]
    },
    {
      "cell_type": "markdown",
      "metadata": {
        "id": "IUcNhp97oXxW",
        "colab_type": "text"
      },
      "source": [
        "- Publication from youtube link: https://arxiv.org/abs/1312.6082\n",
        "- https://github.com/penny4860/Yolo-digit-detector\n",
        "- https://github.com/dyckia/SVHN-CNN/blob/master/SVHN.ipynb"
      ]
    }
  ]
}