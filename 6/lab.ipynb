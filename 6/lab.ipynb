{
  "nbformat": 4,
  "nbformat_minor": 0,
  "metadata": {
    "kernelspec": {
      "name": "python3",
      "display_name": "Python 3"
    },
    "colab": {
      "name": "lab.ipynb",
      "provenance": []
    },
    "accelerator": "GPU"
  },
  "cells": [
    {
      "cell_type": "markdown",
      "metadata": {
        "collapsed": true,
        "id": "WZfImSn8R0d0",
        "colab_type": "text"
      },
      "source": [
        "<b>Google Colab</b> <a href=\"https://colab.research.google.com/github/kirillzyusko/deeplearning/blob/master/6/lab.ipynb\">link</a>"
      ]
    },
    {
      "cell_type": "markdown",
      "metadata": {
        "id": "jALamvtBs_59",
        "colab_type": "text"
      },
      "source": [
        "Authorize google + kaggle"
      ]
    },
    {
      "cell_type": "code",
      "metadata": {
        "id": "SBIxqfvSR0d2",
        "colab_type": "code",
        "outputId": "59b3a981-252d-4441-8252-47cb3b9cbdda",
        "colab": {
          "base_uri": "https://localhost:8080/",
          "height": 34
        }
      },
      "source": [
        "from googleapiclient.discovery import build\n",
        "import io, os\n",
        "from googleapiclient.http import MediaIoBaseDownload\n",
        "from google.colab import auth\n",
        "auth.authenticate_user()\n",
        "drive_service = build('drive', 'v3')\n",
        "results = drive_service.files().list(\n",
        "        q=\"name = 'kaggle.json'\", fields=\"files(id)\").execute()\n",
        "kaggle_api_key = results.get('files', [])\n",
        "filename = \"/content/.kaggle/kaggle.json\"\n",
        "os.makedirs(os.path.dirname(filename), exist_ok=True)\n",
        "request = drive_service.files().get_media(fileId=kaggle_api_key[0]['id'])\n",
        "fh = io.FileIO(filename, 'wb')\n",
        "downloader = MediaIoBaseDownload(fh, request)\n",
        "done = False\n",
        "while done is False:\n",
        "    status, done = downloader.next_chunk()\n",
        "    print(\"Download %d%%.\" % int(status.progress() * 100))\n",
        "os.chmod(filename, 600)"
      ],
      "execution_count": 1,
      "outputs": [
        {
          "output_type": "stream",
          "text": [
            "Download 100%.\n"
          ],
          "name": "stdout"
        }
      ]
    },
    {
      "cell_type": "markdown",
      "metadata": {
        "id": "vRXF9HEfw-Lq",
        "colab_type": "text"
      },
      "source": [
        "Be sure, that we authorized and have an access to kaggle"
      ]
    },
    {
      "cell_type": "code",
      "metadata": {
        "id": "EHH44E0AR0d5",
        "colab_type": "code",
        "outputId": "dc1cf861-e352-44cd-eae5-1c02646237e1",
        "colab": {
          "base_uri": "https://localhost:8080/",
          "height": 34
        }
      },
      "source": [
        "%ls /content/.kaggle/"
      ],
      "execution_count": 2,
      "outputs": [
        {
          "output_type": "stream",
          "text": [
            "\u001b[0m\u001b[01;32mkaggle.json\u001b[0m*\n"
          ],
          "name": "stdout"
        }
      ]
    },
    {
      "cell_type": "markdown",
      "metadata": {
        "id": "scuK4S5oxDjd",
        "colab_type": "text"
      },
      "source": [
        "# **Part 1: Download dataset, extract, split, check data distribution**"
      ]
    },
    {
      "cell_type": "code",
      "metadata": {
        "id": "EGGxcFMNxLuf",
        "colab_type": "code",
        "outputId": "6d65c35d-0568-4f65-8d9b-0c39273f8bd9",
        "colab": {
          "base_uri": "https://localhost:8080/",
          "height": 67
        }
      },
      "source": [
        "!mkdir ~/.kaggle\n",
        "!cp /content/.kaggle/kaggle.json ~/.kaggle/kaggle.json\n",
        "!kaggle datasets download datamunge/sign-language-mnist -p /content/kaggle/signlanguage"
      ],
      "execution_count": 3,
      "outputs": [
        {
          "output_type": "stream",
          "text": [
            "Downloading sign-language-mnist.zip to /content/kaggle/signlanguage\n",
            " 78% 49.0M/62.6M [00:02<00:01, 12.9MB/s]\n",
            "100% 62.6M/62.6M [00:02<00:00, 23.3MB/s]\n"
          ],
          "name": "stdout"
        }
      ]
    },
    {
      "cell_type": "markdown",
      "metadata": {
        "id": "IrCRUpSRxjGY",
        "colab_type": "text"
      },
      "source": [
        "Extract .zip"
      ]
    },
    {
      "cell_type": "code",
      "metadata": {
        "id": "8vqOKF6azu8E",
        "colab_type": "code",
        "outputId": "30c24168-b99b-4cec-b378-cb48a6bfac5c",
        "colab": {
          "base_uri": "https://localhost:8080/",
          "height": 151
        }
      },
      "source": [
        "!unzip kaggle/signlanguage/sign-language-mnist.zip -d data"
      ],
      "execution_count": 4,
      "outputs": [
        {
          "output_type": "stream",
          "text": [
            "Archive:  kaggle/signlanguage/sign-language-mnist.zip\n",
            "  inflating: data/amer_sign2.png     \n",
            "  inflating: data/amer_sign3.png     \n",
            "  inflating: data/american_sign_language.PNG  \n",
            "  inflating: data/sign_mnist_test.csv  \n",
            "  inflating: data/sign_mnist_test/sign_mnist_test.csv  \n",
            "  inflating: data/sign_mnist_train.csv  \n",
            "  inflating: data/sign_mnist_train/sign_mnist_train.csv  \n"
          ],
          "name": "stdout"
        }
      ]
    },
    {
      "cell_type": "code",
      "metadata": {
        "id": "ZXejvzHg0bs8",
        "colab_type": "code",
        "outputId": "1c4d0939-6f86-4ec1-cc4b-6e342070b7c8",
        "colab": {
          "base_uri": "https://localhost:8080/",
          "height": 34
        }
      },
      "source": [
        "%ls"
      ],
      "execution_count": 5,
      "outputs": [
        {
          "output_type": "stream",
          "text": [
            "adc.json  \u001b[0m\u001b[01;34mdata\u001b[0m/  \u001b[01;34mkaggle\u001b[0m/  \u001b[01;34msample_data\u001b[0m/\n"
          ],
          "name": "stdout"
        }
      ]
    },
    {
      "cell_type": "code",
      "metadata": {
        "id": "TMvk2CF40ieg",
        "colab_type": "code",
        "colab": {}
      },
      "source": [
        "import pandas as pd\n",
        "import os\n",
        "from sklearn.model_selection import train_test_split\n",
        "\n",
        "TRAIN_PATH = './data/sign_mnist_train.csv'\n",
        "TEST_PATH = './data/sign_mnist_test.csv'\n",
        "\n",
        "IMAGE_WIDTH=28\n",
        "IMAGE_HEIGHT=28\n",
        "IMAGE_SIZE=(IMAGE_WIDTH, IMAGE_HEIGHT)\n",
        "IMAGE_CHANNELS=1\n",
        "\n",
        "train = pd.read_csv(TRAIN_PATH)\n",
        "test = pd.read_csv(TEST_PATH)\n",
        "\n",
        "train, val = train_test_split(train, test_size=0.2, random_state=42)\n",
        "\n",
        "\n",
        "def split_dataset_to_x_y(df):\n",
        "    y = pd.concat([df['label'], pd.get_dummies(df['label'], prefix='label')], axis=1)\n",
        "    df.drop(['label'], axis=1, inplace=True)\n",
        "    y.drop(['label'], axis=1, inplace=True)\n",
        "    X = (df / 255).values.reshape((df.shape[0], IMAGE_HEIGHT, IMAGE_WIDTH, IMAGE_CHANNELS))  # data scaling & reshaping\n",
        "\n",
        "    return X, y\n",
        "\n",
        "\n",
        "X_train, y_train = split_dataset_to_x_y(train)\n",
        "X_val, y_val = split_dataset_to_x_y(val)\n",
        "X_test, y_test = split_dataset_to_x_y(test)"
      ],
      "execution_count": 0,
      "outputs": []
    },
    {
      "cell_type": "markdown",
      "metadata": {
        "id": "WO6wDC9XMjNP",
        "colab_type": "text"
      },
      "source": [
        "Check data distribution"
      ]
    },
    {
      "cell_type": "code",
      "metadata": {
        "id": "jDZwfbvhMz8o",
        "colab_type": "code",
        "colab": {
          "base_uri": "https://localhost:8080/",
          "height": 285
        },
        "outputId": "d611de25-ee07-4757-f3a4-d90617d78e7b"
      },
      "source": [
        "y_test.value_counts().plot.bar()"
      ],
      "execution_count": 14,
      "outputs": [
        {
          "output_type": "execute_result",
          "data": {
            "text/plain": [
              "<matplotlib.axes._subplots.AxesSubplot at 0x7f5cb63ed550>"
            ]
          },
          "metadata": {
            "tags": []
          },
          "execution_count": 14
        },
        {
          "output_type": "display_data",
          "data": {
            "image/png": "[encoded data removed]",
            "text/plain": [
              "<Figure size 432x288 with 1 Axes>"
            ]
          },
          "metadata": {
            "tags": []
          }
        }
      ]
    },
    {
      "cell_type": "code",
      "metadata": {
        "id": "LsUNBunlM9Bk",
        "colab_type": "code",
        "colab": {
          "base_uri": "https://localhost:8080/",
          "height": 285
        },
        "outputId": "10183760-1ff5-4f79-d7d3-cf8d06d3e4f4"
      },
      "source": [
        "y_val.value_counts().plot.bar()"
      ],
      "execution_count": 15,
      "outputs": [
        {
          "output_type": "execute_result",
          "data": {
            "text/plain": [
              "<matplotlib.axes._subplots.AxesSubplot at 0x7f5cb4ce1eb8>"
            ]
          },
          "metadata": {
            "tags": []
          },
          "execution_count": 15
        },
        {
          "output_type": "display_data",
          "data": {
            "image/png": "[encoded data removed]",
            "text/plain": [
              "<Figure size 432x288 with 1 Axes>"
            ]
          },
          "metadata": {
            "tags": []
          }
        }
      ]
    },
    {
      "cell_type": "code",
      "metadata": {
        "id": "5h6wx_p0NBRW",
        "colab_type": "code",
        "colab": {
          "base_uri": "https://localhost:8080/",
          "height": 285
        },
        "outputId": "eb390097-b0bd-432f-fea5-30f6b56f855b"
      },
      "source": [
        "y_train.value_counts().plot.bar()"
      ],
      "execution_count": 16,
      "outputs": [
        {
          "output_type": "execute_result",
          "data": {
            "text/plain": [
              "<matplotlib.axes._subplots.AxesSubplot at 0x7f5cb4c5d940>"
            ]
          },
          "metadata": {
            "tags": []
          },
          "execution_count": 16
        },
        {
          "output_type": "display_data",
          "data": {
            "image/png": "[encoded data removed]",
            "text/plain": [
              "<Figure size 432x288 with 1 Axes>"
            ]
          },
          "metadata": {
            "tags": []
          }
        }
      ]
    },
    {
      "cell_type": "markdown",
      "metadata": {
        "id": "jx9JdwO0NLOY",
        "colab_type": "text"
      },
      "source": [
        "# **Part 2: DNN model**"
      ]
    },
    {
      "cell_type": "code",
      "metadata": {
        "id": "LCj7TIb6NO5R",
        "colab_type": "code",
        "colab": {
          "base_uri": "https://localhost:8080/",
          "height": 722
        },
        "outputId": "a484da77-8b96-43e7-b1c5-c0e04d75e4a4"
      },
      "source": [
        "from keras.models import Sequential\n",
        "from keras.layers import Conv2D, MaxPooling2D, Dropout, Flatten, Dense, Activation, BatchNormalization\n",
        "\n",
        "LABELS = len(set(y_train))\n",
        "\n",
        "model = Sequential()\n",
        "\n",
        "model.add(Conv2D(32, (3, 3), activation='relu', input_shape=(IMAGE_WIDTH, IMAGE_HEIGHT, IMAGE_CHANNELS)))\n",
        "model.add(BatchNormalization())\n",
        "model.add(MaxPooling2D(pool_size=(2, 2)))\n",
        "model.add(Dropout(0.25))\n",
        "\n",
        "model.add(Conv2D(64, (3, 3), activation='relu'))\n",
        "model.add(BatchNormalization())\n",
        "model.add(MaxPooling2D(pool_size=(2, 2)))\n",
        "model.add(Dropout(0.25))\n",
        "\n",
        "model.add(Conv2D(128, (3, 3), activation='relu'))\n",
        "model.add(BatchNormalization())\n",
        "model.add(MaxPooling2D(pool_size=(2, 2)))\n",
        "model.add(Dropout(0.25))\n",
        "\n",
        "model.add(Flatten())\n",
        "model.add(Dense(512, activation='relu'))\n",
        "model.add(BatchNormalization())\n",
        "model.add(Dropout(0.5))\n",
        "model.add(Dense(LABELS, activation='softmax')) # 2 classes: dog and cat\n",
        "\n",
        "model.compile(loss='categorical_crossentropy', optimizer='rmsprop', metrics=['acc'])\n",
        "\n",
        "model.summary()\n",
        "\n",
        "model.save_weights('initial.h5')"
      ],
      "execution_count": 62,
      "outputs": [
        {
          "output_type": "stream",
          "text": [
            "Model: \"sequential_8\"\n",
            "_________________________________________________________________\n",
            "Layer (type)                 Output Shape              Param #   \n",
            "=================================================================\n",
            "conv2d_20 (Conv2D)           (None, 26, 26, 32)        320       \n",
            "_________________________________________________________________\n",
            "batch_normalization_27 (Batc (None, 26, 26, 32)        128       \n",
            "_________________________________________________________________\n",
            "max_pooling2d_20 (MaxPooling (None, 13, 13, 32)        0         \n",
            "_________________________________________________________________\n",
            "dropout_27 (Dropout)         (None, 13, 13, 32)        0         \n",
            "_________________________________________________________________\n",
            "conv2d_21 (Conv2D)           (None, 11, 11, 64)        18496     \n",
            "_________________________________________________________________\n",
            "batch_normalization_28 (Batc (None, 11, 11, 64)        256       \n",
            "_________________________________________________________________\n",
            "max_pooling2d_21 (MaxPooling (None, 5, 5, 64)          0         \n",
            "_________________________________________________________________\n",
            "dropout_28 (Dropout)         (None, 5, 5, 64)          0         \n",
            "_________________________________________________________________\n",
            "conv2d_22 (Conv2D)           (None, 3, 3, 128)         73856     \n",
            "_________________________________________________________________\n",
            "batch_normalization_29 (Batc (None, 3, 3, 128)         512       \n",
            "_________________________________________________________________\n",
            "max_pooling2d_22 (MaxPooling (None, 1, 1, 128)         0         \n",
            "_________________________________________________________________\n",
            "dropout_29 (Dropout)         (None, 1, 1, 128)         0         \n",
            "_________________________________________________________________\n",
            "flatten_8 (Flatten)          (None, 128)               0         \n",
            "_________________________________________________________________\n",
            "dense_15 (Dense)             (None, 512)               66048     \n",
            "_________________________________________________________________\n",
            "batch_normalization_30 (Batc (None, 512)               2048      \n",
            "_________________________________________________________________\n",
            "dropout_30 (Dropout)         (None, 512)               0         \n",
            "_________________________________________________________________\n",
            "dense_16 (Dense)             (None, 24)                12312     \n",
            "=================================================================\n",
            "Total params: 173,976\n",
            "Trainable params: 172,504\n",
            "Non-trainable params: 1,472\n",
            "_________________________________________________________________\n"
          ],
          "name": "stdout"
        }
      ]
    },
    {
      "cell_type": "markdown",
      "metadata": {
        "id": "ifky2VHCOYJ6",
        "colab_type": "text"
      },
      "source": [
        "Train without data augmentation:"
      ]
    },
    {
      "cell_type": "code",
      "metadata": {
        "id": "OWFivKKXOb8H",
        "colab_type": "code",
        "colab": {
          "base_uri": "https://localhost:8080/",
          "height": 1000
        },
        "outputId": "cb2deb47-5e9e-4b83-e8c1-0a5c21d0c359"
      },
      "source": [
        "from keras.preprocessing.image import ImageDataGenerator\n",
        "\n",
        "datagen = ImageDataGenerator()\n",
        "\n",
        "# compute quantities required for featurewise normalization\n",
        "# (std, mean, and principal components if ZCA whitening is applied)\n",
        "datagen.fit(X_train)\n",
        "\n",
        "model.load_weights('initial.h5')\n",
        "# fits the model on batches:\n",
        "model.fit_generator(\n",
        "    datagen.flow(X_train, y_train, batch_size=32),\n",
        "    steps_per_epoch=len(X_train) / 32,\n",
        "    validation_data=datagen.flow(X_val, y_val),\n",
        "    validation_steps=len(X_val) / 32,\n",
        "    epochs=30\n",
        ")"
      ],
      "execution_count": 64,
      "outputs": [
        {
          "output_type": "stream",
          "text": [
            "Epoch 1/30\n",
            "687/686 [==============================] - 7s 11ms/step - loss: 1.2216 - acc: 0.6321 - val_loss: 0.1633 - val_acc: 0.9445\n",
            "Epoch 2/30\n",
            "687/686 [==============================] - 7s 11ms/step - loss: 0.2422 - acc: 0.9202 - val_loss: 0.0158 - val_acc: 0.9978\n",
            "Epoch 3/30\n",
            "687/686 [==============================] - 7s 11ms/step - loss: 0.1168 - acc: 0.9619 - val_loss: 0.0688 - val_acc: 0.9765\n",
            "Epoch 4/30\n",
            "687/686 [==============================] - 7s 11ms/step - loss: 0.0794 - acc: 0.9744 - val_loss: 0.0070 - val_acc: 0.9976\n",
            "Epoch 5/30\n",
            "687/686 [==============================] - 7s 10ms/step - loss: 0.0557 - acc: 0.9812 - val_loss: 0.0118 - val_acc: 0.9969\n",
            "Epoch 6/30\n",
            "687/686 [==============================] - 7s 11ms/step - loss: 0.0543 - acc: 0.9815 - val_loss: 0.0138 - val_acc: 0.9956\n",
            "Epoch 7/30\n",
            "687/686 [==============================] - 7s 10ms/step - loss: 0.0456 - acc: 0.9857 - val_loss: 0.0087 - val_acc: 0.9967\n",
            "Epoch 8/30\n",
            "687/686 [==============================] - 7s 10ms/step - loss: 0.0386 - acc: 0.9870 - val_loss: 0.0209 - val_acc: 0.9942\n",
            "Epoch 9/30\n",
            "687/686 [==============================] - 7s 10ms/step - loss: 0.0415 - acc: 0.9861 - val_loss: 0.0839 - val_acc: 0.9749\n",
            "Epoch 10/30\n",
            "687/686 [==============================] - 7s 11ms/step - loss: 0.0368 - acc: 0.9883 - val_loss: 0.0527 - val_acc: 0.9814\n",
            "Epoch 11/30\n",
            "687/686 [==============================] - 7s 10ms/step - loss: 0.0313 - acc: 0.9899 - val_loss: 1.2744e-04 - val_acc: 1.0000\n",
            "Epoch 12/30\n",
            "687/686 [==============================] - 8s 11ms/step - loss: 0.0334 - acc: 0.9893 - val_loss: 0.0142 - val_acc: 0.9958\n",
            "Epoch 13/30\n",
            "687/686 [==============================] - 7s 10ms/step - loss: 0.0303 - acc: 0.9906 - val_loss: 0.0048 - val_acc: 0.9984\n",
            "Epoch 14/30\n",
            "687/686 [==============================] - 7s 10ms/step - loss: 0.0298 - acc: 0.9908 - val_loss: 0.4804 - val_acc: 0.9073\n",
            "Epoch 15/30\n",
            "687/686 [==============================] - 7s 10ms/step - loss: 0.0272 - acc: 0.9915 - val_loss: 3.7448e-04 - val_acc: 0.9998\n",
            "Epoch 16/30\n",
            "687/686 [==============================] - 7s 11ms/step - loss: 0.0260 - acc: 0.9920 - val_loss: 0.0340 - val_acc: 0.9902\n",
            "Epoch 17/30\n",
            "687/686 [==============================] - 7s 11ms/step - loss: 0.0262 - acc: 0.9919 - val_loss: 0.0013 - val_acc: 0.9998\n",
            "Epoch 18/30\n",
            "687/686 [==============================] - 7s 11ms/step - loss: 0.0232 - acc: 0.9929 - val_loss: 4.2096e-05 - val_acc: 1.0000\n",
            "Epoch 19/30\n",
            "687/686 [==============================] - 7s 11ms/step - loss: 0.0271 - acc: 0.9920 - val_loss: 0.0116 - val_acc: 0.9964\n",
            "Epoch 20/30\n",
            "687/686 [==============================] - 7s 11ms/step - loss: 0.0189 - acc: 0.9940 - val_loss: 5.1648e-04 - val_acc: 0.9998\n",
            "Epoch 21/30\n",
            "687/686 [==============================] - 7s 10ms/step - loss: 0.0238 - acc: 0.9929 - val_loss: 7.1794e-04 - val_acc: 0.9998\n",
            "Epoch 22/30\n",
            "687/686 [==============================] - 7s 11ms/step - loss: 0.0254 - acc: 0.9933 - val_loss: 0.0088 - val_acc: 0.9960\n",
            "Epoch 23/30\n",
            "687/686 [==============================] - 7s 10ms/step - loss: 0.0232 - acc: 0.9929 - val_loss: 3.1356e-06 - val_acc: 1.0000\n",
            "Epoch 24/30\n",
            "687/686 [==============================] - 7s 10ms/step - loss: 0.0192 - acc: 0.9942 - val_loss: 8.1671e-04 - val_acc: 0.9996\n",
            "Epoch 25/30\n",
            "687/686 [==============================] - 7s 10ms/step - loss: 0.0191 - acc: 0.9950 - val_loss: 0.0087 - val_acc: 0.9967\n",
            "Epoch 26/30\n",
            "687/686 [==============================] - 7s 10ms/step - loss: 0.0174 - acc: 0.9949 - val_loss: 0.0035 - val_acc: 0.9991\n",
            "Epoch 27/30\n",
            "687/686 [==============================] - 8s 11ms/step - loss: 0.0215 - acc: 0.9939 - val_loss: 7.5623e-04 - val_acc: 0.9996\n",
            "Epoch 28/30\n",
            "687/686 [==============================] - 7s 11ms/step - loss: 0.0236 - acc: 0.9936 - val_loss: 0.0057 - val_acc: 0.9980\n",
            "Epoch 29/30\n",
            "687/686 [==============================] - 8s 11ms/step - loss: 0.0150 - acc: 0.9955 - val_loss: 4.3286e-05 - val_acc: 1.0000\n",
            "Epoch 30/30\n",
            "687/686 [==============================] - 7s 11ms/step - loss: 0.0220 - acc: 0.9936 - val_loss: 0.0044 - val_acc: 0.9987\n"
          ],
          "name": "stdout"
        },
        {
          "output_type": "execute_result",
          "data": {
            "text/plain": [
              "<keras.callbacks.History at 0x7f5bfaec3fd0>"
            ]
          },
          "metadata": {
            "tags": []
          },
          "execution_count": 64
        }
      ]
    },
    {
      "cell_type": "markdown",
      "metadata": {
        "id": "lngISppHdQ1h",
        "colab_type": "text"
      },
      "source": [
        "Model evaluate:"
      ]
    },
    {
      "cell_type": "code",
      "metadata": {
        "id": "3oDH6LlBdOv7",
        "colab_type": "code",
        "colab": {
          "base_uri": "https://localhost:8080/",
          "height": 50
        },
        "outputId": "2d07dc65-d488-42e7-e65d-b4d73b11ebf9"
      },
      "source": [
        "score, acc = model.evaluate(X_test, y_test, verbose=1)\n",
        "print(score, acc)"
      ],
      "execution_count": 65,
      "outputs": [
        {
          "output_type": "stream",
          "text": [
            "7172/7172 [==============================] - 1s 83us/step\n",
            "0.25073102802432856 0.9563580591187953\n"
          ],
          "name": "stdout"
        }
      ]
    },
    {
      "cell_type": "markdown",
      "metadata": {
        "id": "wsAP49KyZuOc",
        "colab_type": "text"
      },
      "source": [
        "# **Part 3: Applying data augmentation**"
      ]
    },
    {
      "cell_type": "code",
      "metadata": {
        "id": "CqVZM_hUZxjR",
        "colab_type": "code",
        "colab": {
          "base_uri": "https://localhost:8080/",
          "height": 1000
        },
        "outputId": "afe55643-8fae-4c0b-dbc0-3e8b244a7a0d"
      },
      "source": [
        "datagen = ImageDataGenerator(\n",
        "    shear_range=0.2,\n",
        "    zoom_range=0.2,\n",
        "    rotation_range=20,\n",
        ")\n",
        "\n",
        "# compute quantities required for featurewise normalization\n",
        "# (std, mean, and principal components if ZCA whitening is applied)\n",
        "datagen.fit(X_train)\n",
        "\n",
        "model.load_weights('initial.h5')\n",
        "# fits the model on batches with real-time data augmentation:\n",
        "model.fit_generator(\n",
        "    datagen.flow(X_train, y_train, batch_size=32),\n",
        "    steps_per_epoch=len(X_train) / 32,\n",
        "    validation_data=datagen.flow(X_val, y_val),\n",
        "    validation_steps=len(X_val) / 32,\n",
        "    epochs=30\n",
        ")"
      ],
      "execution_count": 68,
      "outputs": [
        {
          "output_type": "stream",
          "text": [
            "Epoch 1/30\n",
            "687/686 [==============================] - 11s 15ms/step - loss: 1.7613 - acc: 0.4785 - val_loss: 0.7118 - val_acc: 0.7689\n",
            "Epoch 2/30\n",
            "687/686 [==============================] - 11s 15ms/step - loss: 0.7002 - acc: 0.7633 - val_loss: 0.4348 - val_acc: 0.8523\n",
            "Epoch 3/30\n",
            "687/686 [==============================] - 11s 15ms/step - loss: 0.4524 - acc: 0.8482 - val_loss: 1.2142 - val_acc: 0.6760\n",
            "Epoch 4/30\n",
            "687/686 [==============================] - 10s 15ms/step - loss: 0.3506 - acc: 0.8836 - val_loss: 0.3035 - val_acc: 0.8913\n",
            "Epoch 5/30\n",
            "687/686 [==============================] - 11s 16ms/step - loss: 0.2956 - acc: 0.8992 - val_loss: 0.1584 - val_acc: 0.9463\n",
            "Epoch 6/30\n",
            "687/686 [==============================] - 11s 15ms/step - loss: 0.2563 - acc: 0.9158 - val_loss: 1.3237 - val_acc: 0.6529\n",
            "Epoch 7/30\n",
            "687/686 [==============================] - 10s 15ms/step - loss: 0.2285 - acc: 0.9255 - val_loss: 0.0633 - val_acc: 0.9805\n",
            "Epoch 8/30\n",
            "687/686 [==============================] - 10s 15ms/step - loss: 0.2066 - acc: 0.9318 - val_loss: 0.1517 - val_acc: 0.9465\n",
            "Epoch 9/30\n",
            "687/686 [==============================] - 10s 15ms/step - loss: 0.1913 - acc: 0.9365 - val_loss: 0.0626 - val_acc: 0.9812\n",
            "Epoch 10/30\n",
            "687/686 [==============================] - 10s 15ms/step - loss: 0.1816 - acc: 0.9401 - val_loss: 0.1645 - val_acc: 0.9445\n",
            "Epoch 11/30\n",
            "687/686 [==============================] - 10s 15ms/step - loss: 0.1669 - acc: 0.9464 - val_loss: 0.1806 - val_acc: 0.9463\n",
            "Epoch 12/30\n",
            "687/686 [==============================] - 11s 16ms/step - loss: 0.1502 - acc: 0.9504 - val_loss: 0.0621 - val_acc: 0.9796\n",
            "Epoch 13/30\n",
            "687/686 [==============================] - 10s 15ms/step - loss: 0.1548 - acc: 0.9511 - val_loss: 0.0868 - val_acc: 0.9685\n",
            "Epoch 14/30\n",
            "687/686 [==============================] - 10s 15ms/step - loss: 0.1435 - acc: 0.9536 - val_loss: 0.0664 - val_acc: 0.9778\n",
            "Epoch 15/30\n",
            "687/686 [==============================] - 11s 15ms/step - loss: 0.1386 - acc: 0.9549 - val_loss: 0.1045 - val_acc: 0.9663\n",
            "Epoch 16/30\n",
            "687/686 [==============================] - 11s 16ms/step - loss: 0.1320 - acc: 0.9572 - val_loss: 0.0495 - val_acc: 0.9832\n",
            "Epoch 17/30\n",
            "687/686 [==============================] - 11s 15ms/step - loss: 0.1291 - acc: 0.9580 - val_loss: 0.0269 - val_acc: 0.9894\n",
            "Epoch 18/30\n",
            "687/686 [==============================] - 11s 16ms/step - loss: 0.1225 - acc: 0.9610 - val_loss: 0.0361 - val_acc: 0.9863\n",
            "Epoch 19/30\n",
            "687/686 [==============================] - 10s 15ms/step - loss: 0.1194 - acc: 0.9625 - val_loss: 0.0802 - val_acc: 0.9732\n",
            "Epoch 20/30\n",
            "687/686 [==============================] - 10s 15ms/step - loss: 0.1240 - acc: 0.9620 - val_loss: 0.0288 - val_acc: 0.9898\n",
            "Epoch 21/30\n",
            "687/686 [==============================] - 10s 15ms/step - loss: 0.1154 - acc: 0.9640 - val_loss: 0.0354 - val_acc: 0.9891\n",
            "Epoch 22/30\n",
            "687/686 [==============================] - 10s 15ms/step - loss: 0.1032 - acc: 0.9667 - val_loss: 0.0253 - val_acc: 0.9911\n",
            "Epoch 23/30\n",
            "687/686 [==============================] - 10s 15ms/step - loss: 0.1025 - acc: 0.9670 - val_loss: 0.0373 - val_acc: 0.9887\n",
            "Epoch 24/30\n",
            "687/686 [==============================] - 10s 15ms/step - loss: 0.1021 - acc: 0.9675 - val_loss: 0.0216 - val_acc: 0.9927\n",
            "Epoch 25/30\n",
            "687/686 [==============================] - 10s 15ms/step - loss: 0.1024 - acc: 0.9678 - val_loss: 0.0089 - val_acc: 0.9967\n",
            "Epoch 26/30\n",
            "687/686 [==============================] - 10s 15ms/step - loss: 0.1063 - acc: 0.9684 - val_loss: 0.0169 - val_acc: 0.9942\n",
            "Epoch 27/30\n",
            "687/686 [==============================] - 11s 15ms/step - loss: 0.1019 - acc: 0.9675 - val_loss: 0.0547 - val_acc: 0.9814\n",
            "Epoch 28/30\n",
            "687/686 [==============================] - 11s 15ms/step - loss: 0.0963 - acc: 0.9694 - val_loss: 0.0141 - val_acc: 0.9956\n",
            "Epoch 29/30\n",
            "687/686 [==============================] - 10s 15ms/step - loss: 0.0915 - acc: 0.9725 - val_loss: 0.0367 - val_acc: 0.9893\n",
            "Epoch 30/30\n",
            "687/686 [==============================] - 11s 15ms/step - loss: 0.0960 - acc: 0.9699 - val_loss: 0.0638 - val_acc: 0.9778\n"
          ],
          "name": "stdout"
        },
        {
          "output_type": "execute_result",
          "data": {
            "text/plain": [
              "<keras.callbacks.History at 0x7f5bfaecb668>"
            ]
          },
          "metadata": {
            "tags": []
          },
          "execution_count": 68
        }
      ]
    },
    {
      "cell_type": "markdown",
      "metadata": {
        "id": "62m3cyt9dke2",
        "colab_type": "text"
      },
      "source": [
        "Model evaluation"
      ]
    },
    {
      "cell_type": "code",
      "metadata": {
        "id": "TzpVv_6adnwM",
        "colab_type": "code",
        "colab": {
          "base_uri": "https://localhost:8080/",
          "height": 50
        },
        "outputId": "8b98f85c-06c5-4e8d-c57e-83287802b92f"
      },
      "source": [
        "score, acc = model.evaluate(X_test, y_test, verbose=1)\n",
        "print(score, acc)"
      ],
      "execution_count": 69,
      "outputs": [
        {
          "output_type": "stream",
          "text": [
            "7172/7172 [==============================] - 1s 88us/step\n",
            "0.1272765828419629 0.9553820412716119\n"
          ],
          "name": "stdout"
        }
      ]
    },
    {
      "cell_type": "markdown",
      "metadata": {
        "id": "FCiwhOILhYoD",
        "colab_type": "text"
      },
      "source": [
        "# **Part 4: Using transfer learning**"
      ]
    },
    {
      "cell_type": "code",
      "metadata": {
        "id": "yqpN9RyyhTIA",
        "colab_type": "code",
        "colab": {
          "base_uri": "https://localhost:8080/",
          "height": 558
        },
        "outputId": "ecf0274f-b7d1-404d-8419-078150676d4e"
      },
      "source": [
        "from keras.models import Model\n",
        "from keras.applications.vgg16 import VGG16\n",
        "import numpy as np\n",
        "import cv2\n",
        "\n",
        "def x_to_vgg_input(X):\n",
        "    x = [i for i in X]\n",
        "    #x = [cv2.cvtColor(cv2.resize(i, (32,32)), cv2.COLOR_GRAY2BGR) for i in X]\n",
        "    #x = np.concatenate([arr[np.newaxis] for arr in x]).astype('float32')\n",
        "    #x = [np.repeat(i[..., np.newaxis], 3, -1) for i in x]\n",
        "    #x = np.repeat(x[..., np.newaxis], 3, -1)\n",
        "    print(len(x[0]))\n",
        "    return x\n",
        "\n",
        "# load model\n",
        "vgg = VGG16(include_top=False, input_shape=(32, 32, 3))\n",
        "# mark loaded layers as not trainable\n",
        "for layer in vgg.layers:\n",
        "\tlayer.trainable = False\n",
        "\n",
        "# define a new output layer to connect with the last fc layer in vgg\n",
        "x = Flatten()(vgg.layers[-1].output)\n",
        "class1 = Dense(512, activation='relu', kernel_initializer='he_uniform')(x)\n",
        "bn = BatchNormalization()(class1)\n",
        "do = Dropout(0.5)(bn)\n",
        "output_layer = Dense(LABELS, activation='softmax', name='predictions')(do)\n",
        "\n",
        "# combine the original VGG model with the new output layer\n",
        "vgg = Model(inputs=vgg.input, outputs=output_layer)\n",
        "\n",
        "vgg.compile(loss='categorical_crossentropy', optimizer='rmsprop', metrics=['acc'])\n",
        "x_to_vgg_input(X_train)\n",
        "vgg.fit(\n",
        "    x=x_to_vgg_input(X_train),\n",
        "    y=y_train,\n",
        "    batch_size=32,\n",
        "    steps_per_epoch=len(X_train) / 32,\n",
        "    epochs=30\n",
        ")"
      ],
      "execution_count": 93,
      "outputs": [
        {
          "output_type": "stream",
          "text": [
            "28\n",
            "28\n"
          ],
          "name": "stdout"
        },
        {
          "output_type": "error",
          "ename": "ValueError",
          "evalue": "ignored",
          "traceback": [
            "\u001b[0;31m---------------------------------------------------------------------------\u001b[0m",
            "\u001b[0;31mValueError\u001b[0m                                Traceback (most recent call last)",
            "\u001b[0;32m<ipython-input-93-12b0a7825bf9>\u001b[0m in \u001b[0;36m<module>\u001b[0;34m()\u001b[0m\n\u001b[1;32m     36\u001b[0m     \u001b[0mbatch_size\u001b[0m\u001b[0;34m=\u001b[0m\u001b[0;36m32\u001b[0m\u001b[0;34m,\u001b[0m\u001b[0;34m\u001b[0m\u001b[0;34m\u001b[0m\u001b[0m\n\u001b[1;32m     37\u001b[0m     \u001b[0msteps_per_epoch\u001b[0m\u001b[0;34m=\u001b[0m\u001b[0mlen\u001b[0m\u001b[0;34m(\u001b[0m\u001b[0mX_train\u001b[0m\u001b[0;34m)\u001b[0m \u001b[0;34m/\u001b[0m \u001b[0;36m32\u001b[0m\u001b[0;34m,\u001b[0m\u001b[0;34m\u001b[0m\u001b[0;34m\u001b[0m\u001b[0m\n\u001b[0;32m---> 38\u001b[0;31m     \u001b[0mepochs\u001b[0m\u001b[0;34m=\u001b[0m\u001b[0;36m30\u001b[0m\u001b[0;34m\u001b[0m\u001b[0;34m\u001b[0m\u001b[0m\n\u001b[0m\u001b[1;32m     39\u001b[0m )\n",
            "\u001b[0;32m/usr/local/lib/python3.6/dist-packages/keras/engine/training.py\u001b[0m in \u001b[0;36mfit\u001b[0;34m(self, x, y, batch_size, epochs, verbose, callbacks, validation_split, validation_data, shuffle, class_weight, sample_weight, initial_epoch, steps_per_epoch, validation_steps, validation_freq, max_queue_size, workers, use_multiprocessing, **kwargs)\u001b[0m\n\u001b[1;32m   1087\u001b[0m             \u001b[0msample_weight\u001b[0m\u001b[0;34m=\u001b[0m\u001b[0msample_weight\u001b[0m\u001b[0;34m,\u001b[0m\u001b[0;34m\u001b[0m\u001b[0;34m\u001b[0m\u001b[0m\n\u001b[1;32m   1088\u001b[0m             \u001b[0mclass_weight\u001b[0m\u001b[0;34m=\u001b[0m\u001b[0mclass_weight\u001b[0m\u001b[0;34m,\u001b[0m\u001b[0;34m\u001b[0m\u001b[0;34m\u001b[0m\u001b[0m\n\u001b[0;32m-> 1089\u001b[0;31m             batch_size=batch_size)\n\u001b[0m\u001b[1;32m   1090\u001b[0m \u001b[0;34m\u001b[0m\u001b[0m\n\u001b[1;32m   1091\u001b[0m         \u001b[0;31m# Prepare validation data.\u001b[0m\u001b[0;34m\u001b[0m\u001b[0;34m\u001b[0m\u001b[0;34m\u001b[0m\u001b[0m\n",
            "\u001b[0;32m/usr/local/lib/python3.6/dist-packages/keras/engine/training.py\u001b[0m in \u001b[0;36m_standardize_user_data\u001b[0;34m(self, x, y, sample_weight, class_weight, check_array_lengths, batch_size)\u001b[0m\n\u001b[1;32m    755\u001b[0m             \u001b[0mfeed_input_shapes\u001b[0m\u001b[0;34m,\u001b[0m\u001b[0;34m\u001b[0m\u001b[0;34m\u001b[0m\u001b[0m\n\u001b[1;32m    756\u001b[0m             \u001b[0mcheck_batch_axis\u001b[0m\u001b[0;34m=\u001b[0m\u001b[0;32mFalse\u001b[0m\u001b[0;34m,\u001b[0m  \u001b[0;31m# Don't enforce the batch size.\u001b[0m\u001b[0;34m\u001b[0m\u001b[0;34m\u001b[0m\u001b[0m\n\u001b[0;32m--> 757\u001b[0;31m             exception_prefix='input')\n\u001b[0m\u001b[1;32m    758\u001b[0m \u001b[0;34m\u001b[0m\u001b[0m\n\u001b[1;32m    759\u001b[0m         \u001b[0;32mif\u001b[0m \u001b[0my\u001b[0m \u001b[0;32mis\u001b[0m \u001b[0;32mnot\u001b[0m \u001b[0;32mNone\u001b[0m\u001b[0;34m:\u001b[0m\u001b[0;34m\u001b[0m\u001b[0;34m\u001b[0m\u001b[0m\n",
            "\u001b[0;32m/usr/local/lib/python3.6/dist-packages/keras/engine/training_utils.py\u001b[0m in \u001b[0;36mstandardize_input_data\u001b[0;34m(data, names, shapes, check_batch_axis, exception_prefix)\u001b[0m\n\u001b[1;32m    103\u001b[0m                 \u001b[0;34m'Expected to see '\u001b[0m \u001b[0;34m+\u001b[0m \u001b[0mstr\u001b[0m\u001b[0;34m(\u001b[0m\u001b[0mlen\u001b[0m\u001b[0;34m(\u001b[0m\u001b[0mnames\u001b[0m\u001b[0;34m)\u001b[0m\u001b[0;34m)\u001b[0m \u001b[0;34m+\u001b[0m \u001b[0;34m' array(s), '\u001b[0m\u001b[0;34m\u001b[0m\u001b[0;34m\u001b[0m\u001b[0m\n\u001b[1;32m    104\u001b[0m                 \u001b[0;34m'but instead got the following list of '\u001b[0m \u001b[0;34m+\u001b[0m\u001b[0;34m\u001b[0m\u001b[0;34m\u001b[0m\u001b[0m\n\u001b[0;32m--> 105\u001b[0;31m                 str(len(data)) + ' arrays: ' + str(data)[:200] + '...')\n\u001b[0m\u001b[1;32m    106\u001b[0m         \u001b[0;32melif\u001b[0m \u001b[0mlen\u001b[0m\u001b[0;34m(\u001b[0m\u001b[0mnames\u001b[0m\u001b[0;34m)\u001b[0m \u001b[0;34m>\u001b[0m \u001b[0;36m1\u001b[0m\u001b[0;34m:\u001b[0m\u001b[0;34m\u001b[0m\u001b[0;34m\u001b[0m\u001b[0m\n\u001b[1;32m    107\u001b[0m             raise ValueError(\n",
            "\u001b[0;31mValueError\u001b[0m: Error when checking model input: the list of Numpy arrays that you are passing to your model is not the size the model expected. Expected to see 1 array(s), but instead got the following list of 21964 arrays: [array([[[0.38039216],\n        [0.25490196],\n        [0.50196078],\n        [0.17254902],\n        [0.06666667],\n        [0.2627451 ],\n        [0.25098039],\n        [0.25882353],\n        [0.27058824],\n ..."
          ]
        }
      ]
    }
  ]
}