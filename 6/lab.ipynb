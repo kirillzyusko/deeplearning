{
  "nbformat": 4,
  "nbformat_minor": 0,
  "metadata": {
    "kernelspec": {
      "name": "python3",
      "display_name": "Python 3"
    },
    "colab": {
      "name": "lab.ipynb",
      "provenance": []
    },
    "accelerator": "GPU"
  },
  "cells": [
    {
      "cell_type": "markdown",
      "metadata": {
        "collapsed": true,
        "id": "WZfImSn8R0d0",
        "colab_type": "text"
      },
      "source": [
        "<b>Google Colab</b> <a href=\"https://colab.research.google.com/github/kirillzyusko/deeplearning/blob/master/6/lab.ipynb\">link</a>"
      ]
    },
    {
      "cell_type": "markdown",
      "metadata": {
        "id": "jALamvtBs_59",
        "colab_type": "text"
      },
      "source": [
        "Authorize google + kaggle"
      ]
    },
    {
      "cell_type": "code",
      "metadata": {
        "id": "SBIxqfvSR0d2",
        "colab_type": "code",
        "outputId": "a04e97c4-d96d-4139-9a7f-822026ef5f47",
        "colab": {
          "base_uri": "https://localhost:8080/",
          "height": 34
        }
      },
      "source": [
        "from googleapiclient.discovery import build\n",
        "import io, os\n",
        "from googleapiclient.http import MediaIoBaseDownload\n",
        "from google.colab import auth\n",
        "auth.authenticate_user()\n",
        "drive_service = build('drive', 'v3')\n",
        "results = drive_service.files().list(\n",
        "        q=\"name = 'kaggle.json'\", fields=\"files(id)\").execute()\n",
        "kaggle_api_key = results.get('files', [])\n",
        "filename = \"/content/.kaggle/kaggle.json\"\n",
        "os.makedirs(os.path.dirname(filename), exist_ok=True)\n",
        "request = drive_service.files().get_media(fileId=kaggle_api_key[0]['id'])\n",
        "fh = io.FileIO(filename, 'wb')\n",
        "downloader = MediaIoBaseDownload(fh, request)\n",
        "done = False\n",
        "while done is False:\n",
        "    status, done = downloader.next_chunk()\n",
        "    print(\"Download %d%%.\" % int(status.progress() * 100))\n",
        "os.chmod(filename, 600)"
      ],
      "execution_count": 1,
      "outputs": [
        {
          "output_type": "stream",
          "text": [
            "Download 100%.\n"
          ],
          "name": "stdout"
        }
      ]
    },
    {
      "cell_type": "markdown",
      "metadata": {
        "id": "vRXF9HEfw-Lq",
        "colab_type": "text"
      },
      "source": [
        "Be sure, that we authorized and have an access to kaggle"
      ]
    },
    {
      "cell_type": "code",
      "metadata": {
        "id": "EHH44E0AR0d5",
        "colab_type": "code",
        "outputId": "bb550c2c-5a04-483c-a4f2-4231383f1fc9",
        "colab": {
          "base_uri": "https://localhost:8080/",
          "height": 34
        }
      },
      "source": [
        "%ls /content/.kaggle/"
      ],
      "execution_count": 2,
      "outputs": [
        {
          "output_type": "stream",
          "text": [
            "\u001b[0m\u001b[01;32mkaggle.json\u001b[0m*\n"
          ],
          "name": "stdout"
        }
      ]
    },
    {
      "cell_type": "markdown",
      "metadata": {
        "id": "scuK4S5oxDjd",
        "colab_type": "text"
      },
      "source": [
        "# **Part 1: Download dataset, extract, split, check data distribution**"
      ]
    },
    {
      "cell_type": "code",
      "metadata": {
        "id": "EGGxcFMNxLuf",
        "colab_type": "code",
        "outputId": "bc5c2101-db8d-4b0b-ebdb-d8703877a594",
        "colab": {
          "base_uri": "https://localhost:8080/",
          "height": 67
        }
      },
      "source": [
        "!mkdir ~/.kaggle\n",
        "!cp /content/.kaggle/kaggle.json ~/.kaggle/kaggle.json\n",
        "!kaggle datasets download datamunge/sign-language-mnist -p /content/kaggle/signlanguage"
      ],
      "execution_count": 3,
      "outputs": [
        {
          "output_type": "stream",
          "text": [
            "Downloading sign-language-mnist.zip to /content/kaggle/signlanguage\n",
            " 53% 33.0M/62.6M [00:01<00:01, 26.5MB/s]\n",
            "100% 62.6M/62.6M [00:01<00:00, 44.6MB/s]\n"
          ],
          "name": "stdout"
        }
      ]
    },
    {
      "cell_type": "markdown",
      "metadata": {
        "id": "IrCRUpSRxjGY",
        "colab_type": "text"
      },
      "source": [
        "Extract .zip"
      ]
    },
    {
      "cell_type": "code",
      "metadata": {
        "id": "8vqOKF6azu8E",
        "colab_type": "code",
        "outputId": "82f31db9-1ea8-4b35-a715-57c3e8f82b18",
        "colab": {
          "base_uri": "https://localhost:8080/",
          "height": 151
        }
      },
      "source": [
        "!unzip kaggle/signlanguage/sign-language-mnist.zip -d data"
      ],
      "execution_count": 4,
      "outputs": [
        {
          "output_type": "stream",
          "text": [
            "Archive:  kaggle/signlanguage/sign-language-mnist.zip\n",
            "  inflating: data/amer_sign2.png     \n",
            "  inflating: data/amer_sign3.png     \n",
            "  inflating: data/american_sign_language.PNG  \n",
            "  inflating: data/sign_mnist_test.csv  \n",
            "  inflating: data/sign_mnist_test/sign_mnist_test.csv  \n",
            "  inflating: data/sign_mnist_train.csv  \n",
            "  inflating: data/sign_mnist_train/sign_mnist_train.csv  \n"
          ],
          "name": "stdout"
        }
      ]
    },
    {
      "cell_type": "code",
      "metadata": {
        "id": "ZXejvzHg0bs8",
        "colab_type": "code",
        "outputId": "9528845d-4eab-4a21-e3ee-0ffb6d814407",
        "colab": {
          "base_uri": "https://localhost:8080/",
          "height": 34
        }
      },
      "source": [
        "%ls"
      ],
      "execution_count": 5,
      "outputs": [
        {
          "output_type": "stream",
          "text": [
            "adc.json  \u001b[0m\u001b[01;34mdata\u001b[0m/  \u001b[01;34mkaggle\u001b[0m/  \u001b[01;34msample_data\u001b[0m/\n"
          ],
          "name": "stdout"
        }
      ]
    },
    {
      "cell_type": "code",
      "metadata": {
        "id": "TMvk2CF40ieg",
        "colab_type": "code",
        "colab": {}
      },
      "source": [
        "import pandas as pd\n",
        "import os\n",
        "from sklearn.model_selection import train_test_split\n",
        "\n",
        "TRAIN_PATH = './data/sign_mnist_train.csv'\n",
        "TEST_PATH = './data/sign_mnist_test.csv'\n",
        "\n",
        "IMAGE_WIDTH=28\n",
        "IMAGE_HEIGHT=28\n",
        "IMAGE_SIZE=(IMAGE_WIDTH, IMAGE_HEIGHT)\n",
        "IMAGE_CHANNELS=1\n",
        "\n",
        "train = pd.read_csv(TRAIN_PATH)\n",
        "test = pd.read_csv(TEST_PATH)\n",
        "\n",
        "# train, val = train_test_split(train, test_size=0.2, random_state=42)\n",
        "\n",
        "\n",
        "def split_dataset_to_x_y(df, is_numpy=True):\n",
        "    y = pd.concat([df['label'], pd.get_dummies(df['label'], prefix='label')], axis=1)\n",
        "    df.drop(['label'], axis=1, inplace=True)\n",
        "    y.drop(['label'], axis=1, inplace=True)\n",
        "    X = (df / 255).values.reshape((df.shape[0], IMAGE_HEIGHT, IMAGE_WIDTH, IMAGE_CHANNELS))  # data scaling & reshaping\n",
        "\n",
        "    return X, y.to_numpy() if is_numpy else y\n",
        "\n",
        "\n",
        "X, Y = split_dataset_to_x_y(train)\n",
        "X_test, Y_test = split_dataset_to_x_y(test, is_numpy=False)\n",
        "\n",
        "LABELS = 24"
      ],
      "execution_count": 0,
      "outputs": []
    },
    {
      "cell_type": "markdown",
      "metadata": {
        "id": "WO6wDC9XMjNP",
        "colab_type": "text"
      },
      "source": [
        "Check data distribution"
      ]
    },
    {
      "cell_type": "code",
      "metadata": {
        "id": "jDZwfbvhMz8o",
        "colab_type": "code",
        "outputId": "d611de25-ee07-4757-f3a4-d90617d78e7b",
        "colab": {
          "base_uri": "https://localhost:8080/",
          "height": 285
        }
      },
      "source": [
        "y_test.value_counts().plot.bar()"
      ],
      "execution_count": 0,
      "outputs": [
        {
          "output_type": "execute_result",
          "data": {
            "text/plain": [
              "<matplotlib.axes._subplots.AxesSubplot at 0x7f5cb63ed550>"
            ]
          },
          "metadata": {
            "tags": []
          },
          "execution_count": 14
        },
        {
          "output_type": "display_data",
          "data": {
            "image/png": "[encoded data removed]",
            "text/plain": [
              "<Figure size 432x288 with 1 Axes>"
            ]
          },
          "metadata": {
            "tags": []
          }
        }
      ]
    },
    {
      "cell_type": "code",
      "metadata": {
        "id": "LsUNBunlM9Bk",
        "colab_type": "code",
        "outputId": "10183760-1ff5-4f79-d7d3-cf8d06d3e4f4",
        "colab": {
          "base_uri": "https://localhost:8080/",
          "height": 285
        }
      },
      "source": [
        "y_val.value_counts().plot.bar()"
      ],
      "execution_count": 0,
      "outputs": [
        {
          "output_type": "execute_result",
          "data": {
            "text/plain": [
              "<matplotlib.axes._subplots.AxesSubplot at 0x7f5cb4ce1eb8>"
            ]
          },
          "metadata": {
            "tags": []
          },
          "execution_count": 15
        },
        {
          "output_type": "display_data",
          "data": {
            "image/png": "[encoded data removed]",
            "text/plain": [
              "<Figure size 432x288 with 1 Axes>"
            ]
          },
          "metadata": {
            "tags": []
          }
        }
      ]
    },
    {
      "cell_type": "code",
      "metadata": {
        "id": "5h6wx_p0NBRW",
        "colab_type": "code",
        "outputId": "eb390097-b0bd-432f-fea5-30f6b56f855b",
        "colab": {
          "base_uri": "https://localhost:8080/",
          "height": 285
        }
      },
      "source": [
        "y_train.value_counts().plot.bar()"
      ],
      "execution_count": 0,
      "outputs": [
        {
          "output_type": "execute_result",
          "data": {
            "text/plain": [
              "<matplotlib.axes._subplots.AxesSubplot at 0x7f5cb4c5d940>"
            ]
          },
          "metadata": {
            "tags": []
          },
          "execution_count": 16
        },
        {
          "output_type": "display_data",
          "data": {
            "image/png": "[encoded data removed]",
            "text/plain": [
              "<Figure size 432x288 with 1 Axes>"
            ]
          },
          "metadata": {
            "tags": []
          }
        }
      ]
    },
    {
      "cell_type": "markdown",
      "metadata": {
        "id": "jx9JdwO0NLOY",
        "colab_type": "text"
      },
      "source": [
        "# **Part 2: DNN model**"
      ]
    },
    {
      "cell_type": "code",
      "metadata": {
        "id": "LCj7TIb6NO5R",
        "colab_type": "code",
        "outputId": "fbd9d8a1-6a36-492a-eb6e-aa989cfe808a",
        "colab": {
          "base_uri": "https://localhost:8080/",
          "height": 1000
        }
      },
      "source": [
        "from keras.models import Sequential\n",
        "from keras.layers import Conv2D, MaxPooling2D, Dropout, Flatten, Dense, Activation, BatchNormalization\n",
        "\n",
        "model = Sequential()\n",
        "\n",
        "model.add(Conv2D(32, (3, 3), activation='relu', input_shape=(IMAGE_WIDTH, IMAGE_HEIGHT, IMAGE_CHANNELS)))\n",
        "model.add(BatchNormalization())\n",
        "model.add(MaxPooling2D(pool_size=(2, 2)))\n",
        "model.add(Dropout(0.25))\n",
        "\n",
        "model.add(Conv2D(64, (3, 3), activation='relu'))\n",
        "model.add(BatchNormalization())\n",
        "model.add(MaxPooling2D(pool_size=(2, 2)))\n",
        "model.add(Dropout(0.25))\n",
        "\n",
        "model.add(Conv2D(128, (3, 3), activation='relu'))\n",
        "model.add(BatchNormalization())\n",
        "model.add(MaxPooling2D(pool_size=(2, 2)))\n",
        "model.add(Dropout(0.25))\n",
        "\n",
        "model.add(Flatten())\n",
        "model.add(Dense(512, activation='relu'))\n",
        "model.add(BatchNormalization())\n",
        "model.add(Dropout(0.5))\n",
        "model.add(Dense(LABELS, activation='softmax')) # 2 classes: dog and cat\n",
        "\n",
        "model.compile(loss='categorical_crossentropy', optimizer='rmsprop', metrics=['acc'])\n",
        "\n",
        "model.summary()\n",
        "\n",
        "model.save_weights('initial.h5')"
      ],
      "execution_count": 8,
      "outputs": [
        {
          "output_type": "stream",
          "text": [
            "Using TensorFlow backend.\n"
          ],
          "name": "stderr"
        },
        {
          "output_type": "display_data",
          "data": {
            "text/html": [
              "<p style=\"color: red;\">\n",
              "The default version of TensorFlow in Colab will soon switch to TensorFlow 2.x.<br>\n",
              "We recommend you <a href=\"https://www.tensorflow.org/guide/migrate\" target=\"_blank\">upgrade</a> now \n",
              "or ensure your notebook will continue to use TensorFlow 1.x via the <code>%tensorflow_version 1.x</code> magic:\n",
              "<a href=\"https://colab.research.google.com/notebooks/tensorflow_version.ipynb\" target=\"_blank\">more info</a>.</p>\n"
            ],
            "text/plain": [
              "<IPython.core.display.HTML object>"
            ]
          },
          "metadata": {
            "tags": []
          }
        },
        {
          "output_type": "stream",
          "text": [
            "WARNING:tensorflow:From /usr/local/lib/python3.6/dist-packages/keras/backend/tensorflow_backend.py:66: The name tf.get_default_graph is deprecated. Please use tf.compat.v1.get_default_graph instead.\n",
            "\n",
            "WARNING:tensorflow:From /usr/local/lib/python3.6/dist-packages/keras/backend/tensorflow_backend.py:541: The name tf.placeholder is deprecated. Please use tf.compat.v1.placeholder instead.\n",
            "\n",
            "WARNING:tensorflow:From /usr/local/lib/python3.6/dist-packages/keras/backend/tensorflow_backend.py:4432: The name tf.random_uniform is deprecated. Please use tf.random.uniform instead.\n",
            "\n",
            "WARNING:tensorflow:From /usr/local/lib/python3.6/dist-packages/keras/backend/tensorflow_backend.py:190: The name tf.get_default_session is deprecated. Please use tf.compat.v1.get_default_session instead.\n",
            "\n",
            "WARNING:tensorflow:From /usr/local/lib/python3.6/dist-packages/keras/backend/tensorflow_backend.py:197: The name tf.ConfigProto is deprecated. Please use tf.compat.v1.ConfigProto instead.\n",
            "\n",
            "WARNING:tensorflow:From /usr/local/lib/python3.6/dist-packages/keras/backend/tensorflow_backend.py:203: The name tf.Session is deprecated. Please use tf.compat.v1.Session instead.\n",
            "\n",
            "WARNING:tensorflow:From /usr/local/lib/python3.6/dist-packages/keras/backend/tensorflow_backend.py:207: The name tf.global_variables is deprecated. Please use tf.compat.v1.global_variables instead.\n",
            "\n",
            "WARNING:tensorflow:From /usr/local/lib/python3.6/dist-packages/keras/backend/tensorflow_backend.py:216: The name tf.is_variable_initialized is deprecated. Please use tf.compat.v1.is_variable_initialized instead.\n",
            "\n",
            "WARNING:tensorflow:From /usr/local/lib/python3.6/dist-packages/keras/backend/tensorflow_backend.py:223: The name tf.variables_initializer is deprecated. Please use tf.compat.v1.variables_initializer instead.\n",
            "\n",
            "WARNING:tensorflow:From /usr/local/lib/python3.6/dist-packages/keras/backend/tensorflow_backend.py:2041: The name tf.nn.fused_batch_norm is deprecated. Please use tf.compat.v1.nn.fused_batch_norm instead.\n",
            "\n",
            "WARNING:tensorflow:From /usr/local/lib/python3.6/dist-packages/keras/backend/tensorflow_backend.py:148: The name tf.placeholder_with_default is deprecated. Please use tf.compat.v1.placeholder_with_default instead.\n",
            "\n",
            "WARNING:tensorflow:From /usr/local/lib/python3.6/dist-packages/keras/backend/tensorflow_backend.py:4267: The name tf.nn.max_pool is deprecated. Please use tf.nn.max_pool2d instead.\n",
            "\n",
            "WARNING:tensorflow:From /usr/local/lib/python3.6/dist-packages/keras/backend/tensorflow_backend.py:3733: calling dropout (from tensorflow.python.ops.nn_ops) with keep_prob is deprecated and will be removed in a future version.\n",
            "Instructions for updating:\n",
            "Please use `rate` instead of `keep_prob`. Rate should be set to `rate = 1 - keep_prob`.\n",
            "WARNING:tensorflow:From /usr/local/lib/python3.6/dist-packages/keras/optimizers.py:793: The name tf.train.Optimizer is deprecated. Please use tf.compat.v1.train.Optimizer instead.\n",
            "\n",
            "WARNING:tensorflow:From /usr/local/lib/python3.6/dist-packages/keras/backend/tensorflow_backend.py:3576: The name tf.log is deprecated. Please use tf.math.log instead.\n",
            "\n",
            "Model: \"sequential_1\"\n",
            "_________________________________________________________________\n",
            "Layer (type)                 Output Shape              Param #   \n",
            "=================================================================\n",
            "conv2d_1 (Conv2D)            (None, 26, 26, 32)        320       \n",
            "_________________________________________________________________\n",
            "batch_normalization_1 (Batch (None, 26, 26, 32)        128       \n",
            "_________________________________________________________________\n",
            "max_pooling2d_1 (MaxPooling2 (None, 13, 13, 32)        0         \n",
            "_________________________________________________________________\n",
            "dropout_1 (Dropout)          (None, 13, 13, 32)        0         \n",
            "_________________________________________________________________\n",
            "conv2d_2 (Conv2D)            (None, 11, 11, 64)        18496     \n",
            "_________________________________________________________________\n",
            "batch_normalization_2 (Batch (None, 11, 11, 64)        256       \n",
            "_________________________________________________________________\n",
            "max_pooling2d_2 (MaxPooling2 (None, 5, 5, 64)          0         \n",
            "_________________________________________________________________\n",
            "dropout_2 (Dropout)          (None, 5, 5, 64)          0         \n",
            "_________________________________________________________________\n",
            "conv2d_3 (Conv2D)            (None, 3, 3, 128)         73856     \n",
            "_________________________________________________________________\n",
            "batch_normalization_3 (Batch (None, 3, 3, 128)         512       \n",
            "_________________________________________________________________\n",
            "max_pooling2d_3 (MaxPooling2 (None, 1, 1, 128)         0         \n",
            "_________________________________________________________________\n",
            "dropout_3 (Dropout)          (None, 1, 1, 128)         0         \n",
            "_________________________________________________________________\n",
            "flatten_1 (Flatten)          (None, 128)               0         \n",
            "_________________________________________________________________\n",
            "dense_1 (Dense)              (None, 512)               66048     \n",
            "_________________________________________________________________\n",
            "batch_normalization_4 (Batch (None, 512)               2048      \n",
            "_________________________________________________________________\n",
            "dropout_4 (Dropout)          (None, 512)               0         \n",
            "_________________________________________________________________\n",
            "dense_2 (Dense)              (None, 24)                12312     \n",
            "=================================================================\n",
            "Total params: 173,976\n",
            "Trainable params: 172,504\n",
            "Non-trainable params: 1,472\n",
            "_________________________________________________________________\n"
          ],
          "name": "stdout"
        }
      ]
    },
    {
      "cell_type": "markdown",
      "metadata": {
        "id": "ifky2VHCOYJ6",
        "colab_type": "text"
      },
      "source": [
        "Train without data augmentation:"
      ]
    },
    {
      "cell_type": "code",
      "metadata": {
        "id": "OWFivKKXOb8H",
        "colab_type": "code",
        "outputId": "843cfd24-c104-4852-876c-32a722d8da4c",
        "colab": {
          "base_uri": "https://localhost:8080/",
          "height": 1000
        }
      },
      "source": [
        "from keras.preprocessing.image import ImageDataGenerator\n",
        "from sklearn.model_selection import KFold\n",
        "\n",
        "n_folds = 10\n",
        "skf = KFold(n_folds, shuffle=True).split(X)\n",
        "\n",
        "datagen = ImageDataGenerator()\n",
        "datagen.fit(X)\n",
        "# compute quantities required for featurewise normalization\n",
        "# (std, mean, and principal components if ZCA whitening is applied)\n",
        "\n",
        "model.load_weights('initial.h5')\n",
        "\n",
        "for train_index, test_index in skf:\n",
        "    x_train,x_test=X[train_index],X[test_index]\n",
        "    y_train,y_test=Y[train_index],Y[test_index]\n",
        "    model.fit_generator(\n",
        "      datagen.flow(x_train, y_train, batch_size=32),\n",
        "      steps_per_epoch=len(x_train) / 32,\n",
        "      validation_data=datagen.flow(x_test, y_test),\n",
        "      validation_steps=len(x_test) / 32,\n",
        "      epochs=3\n",
        "    )"
      ],
      "execution_count": 42,
      "outputs": [
        {
          "output_type": "stream",
          "text": [
            "Epoch 1/3\n",
            "773/772 [==============================] - 7s 9ms/step - loss: 1.2126 - acc: 0.6373 - val_loss: 0.1387 - val_acc: 0.9599\n",
            "Epoch 2/3\n",
            "773/772 [==============================] - 7s 9ms/step - loss: 0.2359 - acc: 0.9206 - val_loss: 0.0832 - val_acc: 0.9720\n",
            "Epoch 3/3\n",
            "773/772 [==============================] - 7s 9ms/step - loss: 0.1167 - acc: 0.9611 - val_loss: 0.1063 - val_acc: 0.9654\n",
            "Epoch 1/3\n",
            "773/772 [==============================] - 7s 9ms/step - loss: 0.0874 - acc: 0.9722 - val_loss: 0.0085 - val_acc: 0.9964\n",
            "Epoch 2/3\n",
            "773/772 [==============================] - 7s 9ms/step - loss: 0.0606 - acc: 0.9795 - val_loss: 0.0477 - val_acc: 0.9825\n",
            "Epoch 3/3\n",
            "773/772 [==============================] - 7s 9ms/step - loss: 0.0590 - acc: 0.9814 - val_loss: 0.0521 - val_acc: 0.9843\n",
            "Epoch 1/3\n",
            "773/772 [==============================] - 7s 9ms/step - loss: 0.0460 - acc: 0.9857 - val_loss: 0.0062 - val_acc: 0.9971\n",
            "Epoch 2/3\n",
            "773/772 [==============================] - 7s 9ms/step - loss: 0.0429 - acc: 0.9854 - val_loss: 0.2548 - val_acc: 0.9297\n",
            "Epoch 3/3\n",
            "773/772 [==============================] - 7s 9ms/step - loss: 0.0405 - acc: 0.9873 - val_loss: 7.3353e-04 - val_acc: 1.0000\n",
            "Epoch 1/3\n",
            "773/772 [==============================] - 7s 9ms/step - loss: 0.0310 - acc: 0.9901 - val_loss: 8.6260e-04 - val_acc: 0.9996\n",
            "Epoch 2/3\n",
            "773/772 [==============================] - 7s 9ms/step - loss: 0.0327 - acc: 0.9902 - val_loss: 0.0521 - val_acc: 0.9865\n",
            "Epoch 3/3\n",
            "773/772 [==============================] - 7s 9ms/step - loss: 0.0298 - acc: 0.9912 - val_loss: 5.3144e-04 - val_acc: 0.9996\n",
            "Epoch 1/3\n",
            "773/772 [==============================] - 7s 9ms/step - loss: 0.0293 - acc: 0.9910 - val_loss: 0.0069 - val_acc: 0.9982\n",
            "Epoch 2/3\n",
            "773/772 [==============================] - 7s 9ms/step - loss: 0.0319 - acc: 0.9913 - val_loss: 0.0049 - val_acc: 0.9978\n",
            "Epoch 3/3\n",
            "773/772 [==============================] - 7s 9ms/step - loss: 0.0236 - acc: 0.9924 - val_loss: 6.3637e-06 - val_acc: 1.0000\n",
            "Epoch 1/3\n",
            "773/772 [==============================] - 7s 9ms/step - loss: 0.0260 - acc: 0.9919 - val_loss: 0.0139 - val_acc: 0.9945\n",
            "Epoch 2/3\n",
            "773/772 [==============================] - 7s 9ms/step - loss: 0.0197 - acc: 0.9945 - val_loss: 1.1208e-04 - val_acc: 1.0000\n",
            "Epoch 3/3\n",
            "773/772 [==============================] - 7s 9ms/step - loss: 0.0225 - acc: 0.9929 - val_loss: 0.0067 - val_acc: 0.9982\n",
            "Epoch 1/3\n",
            "773/772 [==============================] - 7s 9ms/step - loss: 0.0194 - acc: 0.9937 - val_loss: 0.0871 - val_acc: 0.9734\n",
            "Epoch 2/3\n",
            "773/772 [==============================] - 7s 9ms/step - loss: 0.0205 - acc: 0.9931 - val_loss: 8.4198e-07 - val_acc: 1.0000\n",
            "Epoch 3/3\n",
            "773/772 [==============================] - 7s 9ms/step - loss: 0.0167 - acc: 0.9944 - val_loss: 1.2897e-05 - val_acc: 1.0000\n",
            "Epoch 1/3\n",
            "773/772 [==============================] - 7s 9ms/step - loss: 0.0274 - acc: 0.9928 - val_loss: 0.0171 - val_acc: 0.9945\n",
            "Epoch 2/3\n",
            "773/772 [==============================] - 7s 9ms/step - loss: 0.0239 - acc: 0.9928 - val_loss: 0.0125 - val_acc: 0.9971\n",
            "Epoch 3/3\n",
            "773/772 [==============================] - 7s 9ms/step - loss: 0.0218 - acc: 0.9939 - val_loss: 0.0206 - val_acc: 0.9927\n",
            "Epoch 1/3\n",
            "773/772 [==============================] - 7s 9ms/step - loss: 0.0174 - acc: 0.9945 - val_loss: 8.0928e-05 - val_acc: 1.0000\n",
            "Epoch 2/3\n",
            "773/772 [==============================] - 7s 9ms/step - loss: 0.0208 - acc: 0.9944 - val_loss: 1.3877e-05 - val_acc: 1.0000\n",
            "Epoch 3/3\n",
            "773/772 [==============================] - 7s 9ms/step - loss: 0.0232 - acc: 0.9934 - val_loss: 6.2000e-05 - val_acc: 1.0000\n",
            "Epoch 1/3\n",
            "773/772 [==============================] - 7s 9ms/step - loss: 0.0174 - acc: 0.9940 - val_loss: 4.5417e-06 - val_acc: 1.0000\n",
            "Epoch 2/3\n",
            "773/772 [==============================] - 7s 9ms/step - loss: 0.0176 - acc: 0.9943 - val_loss: 8.1917e-05 - val_acc: 1.0000\n",
            "Epoch 3/3\n",
            "773/772 [==============================] - 7s 9ms/step - loss: 0.0192 - acc: 0.9945 - val_loss: 4.2321e-07 - val_acc: 1.0000\n"
          ],
          "name": "stdout"
        }
      ]
    },
    {
      "cell_type": "markdown",
      "metadata": {
        "id": "lngISppHdQ1h",
        "colab_type": "text"
      },
      "source": [
        "Model evaluate:"
      ]
    },
    {
      "cell_type": "code",
      "metadata": {
        "id": "3oDH6LlBdOv7",
        "colab_type": "code",
        "outputId": "5128bb84-d5d1-47c3-edd7-79c0fbb78699",
        "colab": {
          "base_uri": "https://localhost:8080/",
          "height": 50
        }
      },
      "source": [
        "score, acc = model.evaluate(X_test, Y_test, verbose=1)\n",
        "print(score, acc)"
      ],
      "execution_count": 45,
      "outputs": [
        {
          "output_type": "stream",
          "text": [
            "7172/7172 [==============================] - 1s 76us/step\n",
            "0.2936273631751099 0.9562186279977691\n"
          ],
          "name": "stdout"
        }
      ]
    },
    {
      "cell_type": "markdown",
      "metadata": {
        "id": "wsAP49KyZuOc",
        "colab_type": "text"
      },
      "source": [
        "# **Part 3: Applying data augmentation**"
      ]
    },
    {
      "cell_type": "code",
      "metadata": {
        "id": "CqVZM_hUZxjR",
        "colab_type": "code",
        "outputId": "1f971464-422d-4744-9d6b-0f6bbd26c0c1",
        "colab": {
          "base_uri": "https://localhost:8080/",
          "height": 1000
        }
      },
      "source": [
        "datagen = ImageDataGenerator(\n",
        "    shear_range=0.2,\n",
        "    zoom_range=0.2,\n",
        "    rotation_range=20,\n",
        ")\n",
        "\n",
        "# compute quantities required for featurewise normalization\n",
        "# (std, mean, and principal components if ZCA whitening is applied)\n",
        "datagen.fit(X)\n",
        "\n",
        "skf = KFold(n_folds, shuffle=True).split(X)\n",
        "\n",
        "model.load_weights('initial.h5')\n",
        "# fits the model on batches with real-time data augmentation:\n",
        "for train_index, test_index in skf:\n",
        "    x_train,x_test=X[train_index],X[test_index]\n",
        "    y_train,y_test=Y[train_index],Y[test_index]\n",
        "    model.fit_generator(\n",
        "      datagen.flow(x_train, y_train, batch_size=32),\n",
        "      steps_per_epoch=len(x_train) / 32,\n",
        "      validation_data=datagen.flow(x_test, y_test),\n",
        "      validation_steps=len(x_test) / 32,\n",
        "      epochs=3\n",
        "    )"
      ],
      "execution_count": 28,
      "outputs": [
        {
          "output_type": "stream",
          "text": [
            "Epoch 1/3\n",
            "773/772 [==============================] - 10s 14ms/step - loss: 1.6367 - acc: 0.5087 - val_loss: 0.5759 - val_acc: 0.8044\n",
            "Epoch 2/3\n",
            "773/772 [==============================] - 11s 14ms/step - loss: 0.6613 - acc: 0.7774 - val_loss: 0.3136 - val_acc: 0.8933\n",
            "Epoch 3/3\n",
            "773/772 [==============================] - 10s 14ms/step - loss: 0.4256 - acc: 0.8552 - val_loss: 0.1953 - val_acc: 0.9348\n",
            "Epoch 1/3\n",
            "773/772 [==============================] - 11s 14ms/step - loss: 0.3292 - acc: 0.8900 - val_loss: 0.0796 - val_acc: 0.9727\n",
            "Epoch 2/3\n",
            "773/772 [==============================] - 11s 14ms/step - loss: 0.2912 - acc: 0.9042 - val_loss: 0.0758 - val_acc: 0.9778\n",
            "Epoch 3/3\n",
            "773/772 [==============================] - 11s 14ms/step - loss: 0.2499 - acc: 0.9172 - val_loss: 0.0642 - val_acc: 0.9782\n",
            "Epoch 1/3\n",
            "773/772 [==============================] - 11s 14ms/step - loss: 0.2213 - acc: 0.9286 - val_loss: 0.2211 - val_acc: 0.9334\n",
            "Epoch 2/3\n",
            "773/772 [==============================] - 11s 14ms/step - loss: 0.1907 - acc: 0.9372 - val_loss: 0.1480 - val_acc: 0.9472\n",
            "Epoch 3/3\n",
            "773/772 [==============================] - 11s 14ms/step - loss: 0.1837 - acc: 0.9406 - val_loss: 0.1393 - val_acc: 0.9527\n",
            "Epoch 1/3\n",
            "773/772 [==============================] - 11s 14ms/step - loss: 0.1685 - acc: 0.9447 - val_loss: 0.1655 - val_acc: 0.9432\n",
            "Epoch 2/3\n",
            "773/772 [==============================] - 11s 14ms/step - loss: 0.1551 - acc: 0.9493 - val_loss: 0.4950 - val_acc: 0.8387\n",
            "Epoch 3/3\n",
            "773/772 [==============================] - 11s 14ms/step - loss: 0.1576 - acc: 0.9490 - val_loss: 0.0168 - val_acc: 0.9956\n",
            "Epoch 1/3\n",
            "773/772 [==============================] - 11s 14ms/step - loss: 0.1453 - acc: 0.9526 - val_loss: 0.0367 - val_acc: 0.9862\n",
            "Epoch 2/3\n",
            "773/772 [==============================] - 11s 14ms/step - loss: 0.1420 - acc: 0.9554 - val_loss: 0.1533 - val_acc: 0.9501\n",
            "Epoch 3/3\n",
            "773/772 [==============================] - 10s 13ms/step - loss: 0.1375 - acc: 0.9561 - val_loss: 0.0806 - val_acc: 0.9767\n",
            "Epoch 1/3\n",
            "773/772 [==============================] - 10s 13ms/step - loss: 0.1295 - acc: 0.9575 - val_loss: 0.0455 - val_acc: 0.9825\n",
            "Epoch 2/3\n",
            "773/772 [==============================] - 11s 14ms/step - loss: 0.1242 - acc: 0.9594 - val_loss: 0.0418 - val_acc: 0.9854\n",
            "Epoch 3/3\n",
            "773/772 [==============================] - 10s 13ms/step - loss: 0.1231 - acc: 0.9615 - val_loss: 0.1175 - val_acc: 0.9617\n",
            "Epoch 1/3\n",
            "773/772 [==============================] - 11s 14ms/step - loss: 0.1185 - acc: 0.9620 - val_loss: 0.0470 - val_acc: 0.9851\n",
            "Epoch 2/3\n",
            "773/772 [==============================] - 11s 14ms/step - loss: 0.1141 - acc: 0.9626 - val_loss: 0.0068 - val_acc: 0.9982\n",
            "Epoch 3/3\n",
            "773/772 [==============================] - 10s 13ms/step - loss: 0.1101 - acc: 0.9650 - val_loss: 0.0327 - val_acc: 0.9891\n",
            "Epoch 1/3\n",
            "773/772 [==============================] - 11s 14ms/step - loss: 0.1058 - acc: 0.9669 - val_loss: 0.1610 - val_acc: 0.9464\n",
            "Epoch 2/3\n",
            "773/772 [==============================] - 11s 14ms/step - loss: 0.1043 - acc: 0.9677 - val_loss: 0.0629 - val_acc: 0.9778\n",
            "Epoch 3/3\n",
            "773/772 [==============================] - 10s 13ms/step - loss: 0.1042 - acc: 0.9671 - val_loss: 0.0152 - val_acc: 0.9956\n",
            "Epoch 1/3\n",
            "773/772 [==============================] - 11s 14ms/step - loss: 0.1035 - acc: 0.9685 - val_loss: 0.1734 - val_acc: 0.9417\n",
            "Epoch 2/3\n",
            "773/772 [==============================] - 11s 14ms/step - loss: 0.1037 - acc: 0.9686 - val_loss: 0.0336 - val_acc: 0.9891\n",
            "Epoch 3/3\n",
            "773/772 [==============================] - 11s 14ms/step - loss: 0.0986 - acc: 0.9685 - val_loss: 0.0499 - val_acc: 0.9829\n",
            "Epoch 1/3\n",
            "773/772 [==============================] - 11s 14ms/step - loss: 0.1016 - acc: 0.9696 - val_loss: 0.0676 - val_acc: 0.9734\n",
            "Epoch 2/3\n",
            "773/772 [==============================] - 10s 13ms/step - loss: 0.0930 - acc: 0.9708 - val_loss: 0.0296 - val_acc: 0.9902\n",
            "Epoch 3/3\n",
            "773/772 [==============================] - 10s 13ms/step - loss: 0.0950 - acc: 0.9706 - val_loss: 0.0097 - val_acc: 0.9971\n"
          ],
          "name": "stdout"
        }
      ]
    },
    {
      "cell_type": "markdown",
      "metadata": {
        "id": "62m3cyt9dke2",
        "colab_type": "text"
      },
      "source": [
        "Model evaluation"
      ]
    },
    {
      "cell_type": "code",
      "metadata": {
        "id": "TzpVv_6adnwM",
        "colab_type": "code",
        "outputId": "355e0c1b-50f8-4fcb-8540-83440513b04d",
        "colab": {
          "base_uri": "https://localhost:8080/",
          "height": 50
        }
      },
      "source": [
        "score, acc = model.evaluate(X_test, Y_test, verbose=1)\n",
        "print(score, acc)"
      ],
      "execution_count": 34,
      "outputs": [
        {
          "output_type": "stream",
          "text": [
            "7172/7172 [==============================] - 1s 80us/step\n",
            "0.12932936984590399 0.9556609035136643\n"
          ],
          "name": "stdout"
        }
      ]
    },
    {
      "cell_type": "markdown",
      "metadata": {
        "id": "FCiwhOILhYoD",
        "colab_type": "text"
      },
      "source": [
        "# **Part 4: Using transfer learning**"
      ]
    },
    {
      "cell_type": "markdown",
      "metadata": {
        "id": "Z0K7UsUBI-Qv",
        "colab_type": "text"
      },
      "source": [
        "Data transforamtion for applying VGG transfer learning"
      ]
    },
    {
      "cell_type": "code",
      "metadata": {
        "id": "U5PXgXl1I3OZ",
        "colab_type": "code",
        "colab": {}
      },
      "source": [
        "import numpy as np\n",
        "import cv2\n",
        "\n",
        "def x_to_vgg_input(X):\n",
        "    x = np.reshape(X, (X.shape[0], 28, 28))\n",
        "    x = np.asarray([cv2.resize(i, (32,32)) for i in x], dtype=np.float32)\n",
        "    x = np.repeat(x[..., np.newaxis], 3, -1)\n",
        "    return x"
      ],
      "execution_count": 0,
      "outputs": []
    },
    {
      "cell_type": "markdown",
      "metadata": {
        "id": "B_KM6AcrJLs7",
        "colab_type": "text"
      },
      "source": [
        "Defining NN model"
      ]
    },
    {
      "cell_type": "code",
      "metadata": {
        "id": "Tv1wWWXsI5DV",
        "colab_type": "code",
        "colab": {
          "base_uri": "https://localhost:8080/",
          "height": 50
        },
        "outputId": "f8ae2822-84f5-4fd7-dab5-21b3e0a3fe0b"
      },
      "source": [
        "from keras.models import Model\n",
        "from keras.applications.vgg16 import VGG16\n",
        "from keras.layers import Conv2D, MaxPooling2D, Dropout, Flatten, Dense, Activation, BatchNormalization\n",
        "\n",
        "# load model\n",
        "vgg = VGG16(include_top=False, input_shape=(32, 32, 3))\n",
        "# mark loaded layers as not trainable\n",
        "for layer in vgg.layers:\n",
        "\tlayer.trainable = False\n",
        "\n",
        "# define a new output layer to connect with the last fc layer in vgg\n",
        "x = Flatten()(vgg.layers[-1].output)\n",
        "class1 = Dense(512, activation='relu', kernel_initializer='he_uniform')(x)\n",
        "bn = BatchNormalization()(class1)\n",
        "do = Dropout(0.5)(bn)\n",
        "output_layer = Dense(LABELS, activation='softmax', name='predictions')(do)\n",
        "\n",
        "# combine the original VGG model with the new output layer\n",
        "vgg = Model(inputs=vgg.input, outputs=output_layer)\n",
        "\n",
        "vgg.compile(loss='categorical_crossentropy', optimizer='rmsprop', metrics=['acc'])"
      ],
      "execution_count": 36,
      "outputs": [
        {
          "output_type": "stream",
          "text": [
            "Downloading data from https://github.com/fchollet/deep-learning-models/releases/download/v0.1/vgg16_weights_tf_dim_ordering_tf_kernels_notop.h5\n",
            "58892288/58889256 [==============================] - 1s 0us/step\n"
          ],
          "name": "stdout"
        }
      ]
    },
    {
      "cell_type": "code",
      "metadata": {
        "id": "QBZUIMUWI5Oe",
        "colab_type": "code",
        "colab": {}
      },
      "source": [
        "from keras.preprocessing.image import ImageDataGenerator\n",
        "\n",
        "datagen = ImageDataGenerator(\n",
        "    shear_range=0.2,\n",
        "    zoom_range=0.2,\n",
        "    rotation_range=20,\n",
        ")\n",
        "\n",
        "# compute quantities required for featurewise normalization\n",
        "# (std, mean, and principal components if ZCA whitening is applied)\n",
        "datagen.fit(X)"
      ],
      "execution_count": 0,
      "outputs": []
    },
    {
      "cell_type": "markdown",
      "metadata": {
        "id": "HXO33rGSJ34Z",
        "colab_type": "text"
      },
      "source": [
        "Train the model"
      ]
    },
    {
      "cell_type": "code",
      "metadata": {
        "id": "eAJVy3ArI5V_",
        "colab_type": "code",
        "outputId": "e19b1dc5-40b0-4ea9-fa2a-cc1379dd248a",
        "colab": {
          "base_uri": "https://localhost:8080/",
          "height": 1000
        }
      },
      "source": [
        "# fits the model on batches with real-time data augmentation:\n",
        "skf = KFold(n_folds, shuffle=True).split(X)\n",
        "\n",
        "# fits the model on batches with real-time data augmentation:\n",
        "for train_index, test_index in skf:\n",
        "    x_train,x_test=X[train_index],X[test_index]\n",
        "    y_train,y_test=Y[train_index],Y[test_index]\n",
        "    vgg.fit_generator(\n",
        "      datagen.flow(x_to_vgg_input(x_train), y_train, batch_size=32),\n",
        "      steps_per_epoch=len(x_train) / 32,\n",
        "      validation_data=datagen.flow(x_to_vgg_input(x_test), y_test),\n",
        "      validation_steps=len(x_test) / 32,\n",
        "      epochs=3\n",
        "    )"
      ],
      "execution_count": 38,
      "outputs": [
        {
          "output_type": "stream",
          "text": [
            "Epoch 1/3\n",
            "773/772 [==============================] - 18s 23ms/step - loss: 0.9605 - acc: 0.6881 - val_loss: 0.5249 - val_acc: 0.8285\n",
            "Epoch 2/3\n",
            "773/772 [==============================] - 17s 22ms/step - loss: 0.5059 - acc: 0.8283 - val_loss: 0.4967 - val_acc: 0.8161\n",
            "Epoch 3/3\n",
            "773/772 [==============================] - 17s 22ms/step - loss: 0.4127 - acc: 0.8594 - val_loss: 0.3566 - val_acc: 0.8762\n",
            "Epoch 1/3\n",
            "773/772 [==============================] - 17s 21ms/step - loss: 0.3751 - acc: 0.8715 - val_loss: 0.3257 - val_acc: 0.8980\n",
            "Epoch 2/3\n",
            "773/772 [==============================] - 17s 21ms/step - loss: 0.3522 - acc: 0.8763 - val_loss: 0.3365 - val_acc: 0.8751\n",
            "Epoch 3/3\n",
            "773/772 [==============================] - 16s 21ms/step - loss: 0.3455 - acc: 0.8834 - val_loss: 0.2590 - val_acc: 0.9119\n",
            "Epoch 1/3\n",
            "773/772 [==============================] - 17s 21ms/step - loss: 0.3267 - acc: 0.8883 - val_loss: 0.3198 - val_acc: 0.8827\n",
            "Epoch 2/3\n",
            "773/772 [==============================] - 17s 21ms/step - loss: 0.3178 - acc: 0.8917 - val_loss: 0.2034 - val_acc: 0.9294\n",
            "Epoch 3/3\n",
            "773/772 [==============================] - 16s 21ms/step - loss: 0.3098 - acc: 0.8949 - val_loss: 0.2203 - val_acc: 0.9268\n",
            "Epoch 1/3\n",
            "773/772 [==============================] - 16s 21ms/step - loss: 0.2980 - acc: 0.8975 - val_loss: 0.2068 - val_acc: 0.9279\n",
            "Epoch 2/3\n",
            "773/772 [==============================] - 17s 22ms/step - loss: 0.2951 - acc: 0.8992 - val_loss: 0.2038 - val_acc: 0.9243\n",
            "Epoch 3/3\n",
            "773/772 [==============================] - 16s 21ms/step - loss: 0.3060 - acc: 0.8942 - val_loss: 0.1793 - val_acc: 0.9410\n",
            "Epoch 1/3\n",
            "773/772 [==============================] - 17s 21ms/step - loss: 0.2916 - acc: 0.9014 - val_loss: 0.1808 - val_acc: 0.9363\n",
            "Epoch 2/3\n",
            "773/772 [==============================] - 16s 21ms/step - loss: 0.2906 - acc: 0.9016 - val_loss: 0.2068 - val_acc: 0.9352\n",
            "Epoch 3/3\n",
            "773/772 [==============================] - 16s 21ms/step - loss: 0.3006 - acc: 0.8992 - val_loss: 0.1803 - val_acc: 0.9326\n",
            "Epoch 1/3\n",
            "773/772 [==============================] - 17s 21ms/step - loss: 0.2900 - acc: 0.9015 - val_loss: 0.1667 - val_acc: 0.9454\n",
            "Epoch 2/3\n",
            "773/772 [==============================] - 16s 21ms/step - loss: 0.2886 - acc: 0.9021 - val_loss: 0.2127 - val_acc: 0.9206\n",
            "Epoch 3/3\n",
            "773/772 [==============================] - 16s 21ms/step - loss: 0.2877 - acc: 0.9047 - val_loss: 0.1707 - val_acc: 0.9450\n",
            "Epoch 1/3\n",
            "773/772 [==============================] - 16s 21ms/step - loss: 0.2871 - acc: 0.9055 - val_loss: 0.1910 - val_acc: 0.9373\n",
            "Epoch 2/3\n",
            "773/772 [==============================] - 16s 21ms/step - loss: 0.2800 - acc: 0.9030 - val_loss: 0.1804 - val_acc: 0.9373\n",
            "Epoch 3/3\n",
            "773/772 [==============================] - 16s 21ms/step - loss: 0.2759 - acc: 0.9060 - val_loss: 0.1467 - val_acc: 0.9530\n",
            "Epoch 1/3\n",
            "773/772 [==============================] - 17s 21ms/step - loss: 0.2752 - acc: 0.9051 - val_loss: 0.2445 - val_acc: 0.9118\n",
            "Epoch 2/3\n",
            "773/772 [==============================] - 16s 21ms/step - loss: 0.2706 - acc: 0.9082 - val_loss: 0.1804 - val_acc: 0.9362\n",
            "Epoch 3/3\n",
            "773/772 [==============================] - 16s 21ms/step - loss: 0.2816 - acc: 0.9023 - val_loss: 0.1622 - val_acc: 0.9450\n",
            "Epoch 1/3\n",
            "773/772 [==============================] - 16s 21ms/step - loss: 0.2763 - acc: 0.9063 - val_loss: 0.1415 - val_acc: 0.9526\n",
            "Epoch 2/3\n",
            "773/772 [==============================] - 16s 21ms/step - loss: 0.2749 - acc: 0.9063 - val_loss: 0.1818 - val_acc: 0.9355\n",
            "Epoch 3/3\n",
            "773/772 [==============================] - 17s 22ms/step - loss: 0.2768 - acc: 0.9049 - val_loss: 0.1754 - val_acc: 0.9381\n",
            "Epoch 1/3\n",
            "773/772 [==============================] - 16s 21ms/step - loss: 0.2753 - acc: 0.9074 - val_loss: 0.1638 - val_acc: 0.9483\n",
            "Epoch 2/3\n",
            "773/772 [==============================] - 16s 21ms/step - loss: 0.2742 - acc: 0.9072 - val_loss: 0.1422 - val_acc: 0.9526\n",
            "Epoch 3/3\n",
            "773/772 [==============================] - 16s 21ms/step - loss: 0.2703 - acc: 0.9064 - val_loss: 0.1423 - val_acc: 0.9497\n"
          ],
          "name": "stdout"
        }
      ]
    },
    {
      "cell_type": "markdown",
      "metadata": {
        "id": "jTyeQItxHN13",
        "colab_type": "text"
      },
      "source": [
        "Evaluate the model"
      ]
    },
    {
      "cell_type": "code",
      "metadata": {
        "id": "Xj-Za6gGHX55",
        "colab_type": "code",
        "outputId": "75be0831-7e70-4a39-c636-7519073e532d",
        "colab": {
          "base_uri": "https://localhost:8080/",
          "height": 50
        }
      },
      "source": [
        "score, acc = vgg.evaluate(x_to_vgg_input(X_test), Y_test, verbose=1)\n",
        "print(score, acc)"
      ],
      "execution_count": 41,
      "outputs": [
        {
          "output_type": "stream",
          "text": [
            "7172/7172 [==============================] - 3s 366us/step\n",
            "0.22242178853520186 0.9277746793084216\n"
          ],
          "name": "stdout"
        }
      ]
    }
  ]
}