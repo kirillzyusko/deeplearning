{
  "nbformat": 4,
  "nbformat_minor": 0,
  "metadata": {
    "kernelspec": {
      "name": "python3",
      "display_name": "Python 3"
    },
    "colab": {
      "name": "lab.ipynb",
      "provenance": []
    },
    "accelerator": "GPU"
  },
  "cells": [
    {
      "cell_type": "markdown",
      "metadata": {
        "collapsed": true,
        "id": "WZfImSn8R0d0",
        "colab_type": "text"
      },
      "source": [
        "<b>Google Colab</b> <a href=\"https://colab.research.google.com/github/kirillzyusko/deeplearning/blob/master/5/lab.ipynb\">link</a>"
      ]
    },
    {
      "cell_type": "markdown",
      "metadata": {
        "id": "ABNIE8m59gGm",
        "colab_type": "text"
      },
      "source": [
        "Authorize google + kaggle"
      ]
    },
    {
      "cell_type": "code",
      "metadata": {
        "id": "SBIxqfvSR0d2",
        "colab_type": "code",
        "outputId": "217b311b-329d-4138-adc9-e4f4ea40d924",
        "colab": {
          "base_uri": "https://localhost:8080/",
          "height": 34
        }
      },
      "source": [
        "from googleapiclient.discovery import build\n",
        "import io, os\n",
        "from googleapiclient.http import MediaIoBaseDownload\n",
        "from google.colab import auth\n",
        "auth.authenticate_user()\n",
        "drive_service = build('drive', 'v3')\n",
        "results = drive_service.files().list(\n",
        "        q=\"name = 'kaggle.json'\", fields=\"files(id)\").execute()\n",
        "kaggle_api_key = results.get('files', [])\n",
        "filename = \"/content/.kaggle/kaggle.json\"\n",
        "os.makedirs(os.path.dirname(filename), exist_ok=True)\n",
        "request = drive_service.files().get_media(fileId=kaggle_api_key[0]['id'])\n",
        "fh = io.FileIO(filename, 'wb')\n",
        "downloader = MediaIoBaseDownload(fh, request)\n",
        "done = False\n",
        "while done is False:\n",
        "    status, done = downloader.next_chunk()\n",
        "    print(\"Download %d%%.\" % int(status.progress() * 100))\n",
        "os.chmod(filename, 600)"
      ],
      "execution_count": 1,
      "outputs": [
        {
          "output_type": "stream",
          "text": [
            "Download 100%.\n"
          ],
          "name": "stdout"
        }
      ]
    },
    {
      "cell_type": "markdown",
      "metadata": {
        "id": "CUnvOmrY-uOx",
        "colab_type": "text"
      },
      "source": [
        "Be sure, that we authorized and have an access to kaggle"
      ]
    },
    {
      "cell_type": "code",
      "metadata": {
        "id": "EHH44E0AR0d5",
        "colab_type": "code",
        "outputId": "0fe9c194-1b05-4fe1-e121-2b915d2292db",
        "colab": {
          "base_uri": "https://localhost:8080/",
          "height": 34
        }
      },
      "source": [
        "%ls /content/.kaggle/"
      ],
      "execution_count": 2,
      "outputs": [
        {
          "output_type": "stream",
          "text": [
            "\u001b[0m\u001b[01;32mkaggle.json\u001b[0m*\n"
          ],
          "name": "stdout"
        }
      ]
    },
    {
      "cell_type": "markdown",
      "metadata": {
        "id": "Dsvy8e5J-2DS",
        "colab_type": "text"
      },
      "source": [
        "# **Part 1: Download dataset, extract, split, check data distribution**"
      ]
    },
    {
      "cell_type": "code",
      "metadata": {
        "id": "MWC-mL6h9_JR",
        "colab_type": "code",
        "outputId": "a7f2dc7f-5588-4586-8976-eba1e0cfeffc",
        "colab": {
          "base_uri": "https://localhost:8080/",
          "height": 187
        }
      },
      "source": [
        "!mkdir ~/.kaggle\n",
        "!cp /content/.kaggle/kaggle.json ~/.kaggle/kaggle.json\n",
        "!kaggle competitions download  -c dogs-vs-cats -p /content/kaggle/dogscats"
      ],
      "execution_count": 3,
      "outputs": [
        {
          "output_type": "stream",
          "text": [
            "Warning: Looks like you're using an outdated API Version, please consider updating (server 1.5.6 / client 1.5.4)\n",
            "Downloading sampleSubmission.csv to /content/kaggle/dogscats\n",
            "  0% 0.00/86.8k [00:00<?, ?B/s]\n",
            "100% 86.8k/86.8k [00:00<00:00, 81.9MB/s]\n",
            "Downloading train.zip to /content/kaggle/dogscats\n",
            " 99% 537M/543M [00:15<00:00, 23.3MB/s]\n",
            "100% 543M/543M [00:15<00:00, 36.0MB/s]\n",
            "Downloading test1.zip to /content/kaggle/dogscats\n",
            " 97% 263M/271M [00:04<00:00, 65.7MB/s]\n",
            "100% 271M/271M [00:04<00:00, 57.1MB/s]\n"
          ],
          "name": "stdout"
        }
      ]
    },
    {
      "cell_type": "markdown",
      "metadata": {
        "id": "3FpbBukR-8kJ",
        "colab_type": "text"
      },
      "source": [
        "Extract .zip\n"
      ]
    },
    {
      "cell_type": "code",
      "metadata": {
        "id": "3hebfxSN_U2o",
        "colab_type": "code",
        "colab": {}
      },
      "source": [
        "!unzip kaggle/dogscats/train.zip -d train\n",
        "!unzip kaggle/dogscats/test1.zip -d test"
      ],
      "execution_count": 0,
      "outputs": []
    },
    {
      "cell_type": "code",
      "metadata": {
        "id": "GtNiv6ozrnZk",
        "colab_type": "code",
        "outputId": "c90ca94d-d323-41c3-ea4d-3bf84b41c51d",
        "colab": {
          "base_uri": "https://localhost:8080/",
          "height": 34
        }
      },
      "source": [
        "%ls"
      ],
      "execution_count": 5,
      "outputs": [
        {
          "output_type": "stream",
          "text": [
            "adc.json  \u001b[0m\u001b[01;34mkaggle\u001b[0m/  \u001b[01;34msample_data\u001b[0m/  \u001b[01;34mtest\u001b[0m/  \u001b[01;34mtrain\u001b[0m/\n"
          ],
          "name": "stdout"
        }
      ]
    },
    {
      "cell_type": "code",
      "metadata": {
        "id": "Q2_AYHk5rsTb",
        "colab_type": "code",
        "outputId": "830b6c58-1d11-4bcb-dd9a-b2c5848b8800",
        "colab": {
          "base_uri": "https://localhost:8080/",
          "height": 204
        }
      },
      "source": [
        "import pandas as pd\n",
        "import os\n",
        "\n",
        "TRAIN_PATH = './train/train'\n",
        "TEST_PATH = './test/test1'\n",
        "\n",
        "filenames = os.listdir(TRAIN_PATH)\n",
        "categories = []\n",
        "for filename in filenames:\n",
        "    category = filename.split('.')[0]\n",
        "    if category == 'dog':\n",
        "        categories.append(1)\n",
        "    else:\n",
        "        categories.append(0)\n",
        "\n",
        "df = pd.DataFrame({\n",
        "    'filename': filenames,\n",
        "    'category': categories\n",
        "})\n",
        "\n",
        "df[\"category\"] = df[\"category\"].replace({0: 'cat', 1: 'dog'}) \n",
        "df.head()"
      ],
      "execution_count": 6,
      "outputs": [
        {
          "output_type": "execute_result",
          "data": {
            "text/html": [
              "<div>\n",
              "<style scoped>\n",
              "    .dataframe tbody tr th:only-of-type {\n",
              "        vertical-align: middle;\n",
              "    }\n",
              "\n",
              "    .dataframe tbody tr th {\n",
              "        vertical-align: top;\n",
              "    }\n",
              "\n",
              "    .dataframe thead th {\n",
              "        text-align: right;\n",
              "    }\n",
              "</style>\n",
              "<table border=\"1\" class=\"dataframe\">\n",
              "  <thead>\n",
              "    <tr style=\"text-align: right;\">\n",
              "      <th></th>\n",
              "      <th>filename</th>\n",
              "      <th>category</th>\n",
              "    </tr>\n",
              "  </thead>\n",
              "  <tbody>\n",
              "    <tr>\n",
              "      <th>0</th>\n",
              "      <td>cat.2910.jpg</td>\n",
              "      <td>cat</td>\n",
              "    </tr>\n",
              "    <tr>\n",
              "      <th>1</th>\n",
              "      <td>cat.3176.jpg</td>\n",
              "      <td>cat</td>\n",
              "    </tr>\n",
              "    <tr>\n",
              "      <th>2</th>\n",
              "      <td>cat.6647.jpg</td>\n",
              "      <td>cat</td>\n",
              "    </tr>\n",
              "    <tr>\n",
              "      <th>3</th>\n",
              "      <td>dog.1106.jpg</td>\n",
              "      <td>dog</td>\n",
              "    </tr>\n",
              "    <tr>\n",
              "      <th>4</th>\n",
              "      <td>cat.6265.jpg</td>\n",
              "      <td>cat</td>\n",
              "    </tr>\n",
              "  </tbody>\n",
              "</table>\n",
              "</div>"
            ],
            "text/plain": [
              "       filename category\n",
              "0  cat.2910.jpg      cat\n",
              "1  cat.3176.jpg      cat\n",
              "2  cat.6647.jpg      cat\n",
              "3  dog.1106.jpg      dog\n",
              "4  cat.6265.jpg      cat"
            ]
          },
          "metadata": {
            "tags": []
          },
          "execution_count": 6
        }
      ]
    },
    {
      "cell_type": "code",
      "metadata": {
        "id": "gHyb3POgrzna",
        "colab_type": "code",
        "outputId": "868bb430-f9d9-4ab6-ee37-a74461f91937",
        "colab": {
          "base_uri": "https://localhost:8080/",
          "height": 291
        }
      },
      "source": [
        "df['category'].value_counts().plot.bar()"
      ],
      "execution_count": 0,
      "outputs": [
        {
          "output_type": "execute_result",
          "data": {
            "text/plain": [
              "<matplotlib.axes._subplots.AxesSubplot at 0x7f2fdcf0a4e0>"
            ]
          },
          "metadata": {
            "tags": []
          },
          "execution_count": 7
        },
        {
          "output_type": "display_data",
          "data": {
            "image/png": "[encoded data removed]",
            "text/plain": [
              "<Figure size 432x288 with 1 Axes>"
            ]
          },
          "metadata": {
            "tags": []
          }
        }
      ]
    },
    {
      "cell_type": "markdown",
      "metadata": {
        "id": "YX-kMDkqu7ps",
        "colab_type": "text"
      },
      "source": [
        "Train/Dev split\n"
      ]
    },
    {
      "cell_type": "code",
      "metadata": {
        "id": "7FgMZAnjuW2p",
        "colab_type": "code",
        "colab": {}
      },
      "source": [
        "from sklearn.model_selection import train_test_split\n",
        "\n",
        "train, val = train_test_split(df, test_size=0.20, random_state=42)"
      ],
      "execution_count": 0,
      "outputs": []
    },
    {
      "cell_type": "markdown",
      "metadata": {
        "id": "rqrP8Eccu-uq",
        "colab_type": "text"
      },
      "source": [
        "Check data distribution"
      ]
    },
    {
      "cell_type": "code",
      "metadata": {
        "id": "1UuY0TQluzP3",
        "colab_type": "code",
        "outputId": "4e8f9fe8-0bc8-467c-d127-85624f0dc77a",
        "colab": {
          "base_uri": "https://localhost:8080/",
          "height": 291
        }
      },
      "source": [
        "train['category'].value_counts().plot.bar()"
      ],
      "execution_count": 0,
      "outputs": [
        {
          "output_type": "execute_result",
          "data": {
            "text/plain": [
              "<matplotlib.axes._subplots.AxesSubplot at 0x7f2fcaf9a4e0>"
            ]
          },
          "metadata": {
            "tags": []
          },
          "execution_count": 9
        },
        {
          "output_type": "display_data",
          "data": {
            "image/png": "[encoded data removed]",
            "text/plain": [
              "<Figure size 432x288 with 1 Axes>"
            ]
          },
          "metadata": {
            "tags": []
          }
        }
      ]
    },
    {
      "cell_type": "code",
      "metadata": {
        "id": "ASzyO1gdu02a",
        "colab_type": "code",
        "outputId": "fdb449ca-10f1-482e-8776-b07a713a6b61",
        "colab": {
          "base_uri": "https://localhost:8080/",
          "height": 291
        }
      },
      "source": [
        "val['category'].value_counts().plot.bar()"
      ],
      "execution_count": 0,
      "outputs": [
        {
          "output_type": "execute_result",
          "data": {
            "text/plain": [
              "<matplotlib.axes._subplots.AxesSubplot at 0x7f2fcad679b0>"
            ]
          },
          "metadata": {
            "tags": []
          },
          "execution_count": 10
        },
        {
          "output_type": "display_data",
          "data": {
            "image/png": "[encoded data removed]",
            "text/plain": [
              "<Figure size 432x288 with 1 Axes>"
            ]
          },
          "metadata": {
            "tags": []
          }
        }
      ]
    },
    {
      "cell_type": "markdown",
      "metadata": {
        "id": "BVBo4m6lzBbo",
        "colab_type": "text"
      },
      "source": [
        "Use `ImageDataGenerator` in order to reduce data memory consumption (just with rescaling for improving speed of learning)"
      ]
    },
    {
      "cell_type": "code",
      "metadata": {
        "id": "XilH3-zfzAmu",
        "colab_type": "code",
        "outputId": "50d2da3d-0d92-4508-ae42-982b0059e9d9",
        "colab": {
          "base_uri": "https://localhost:8080/",
          "height": 51
        }
      },
      "source": [
        "from keras.preprocessing.image import ImageDataGenerator, load_img\n",
        "\n",
        "# train\n",
        "train_datagen = ImageDataGenerator(rescale=1./255)\n",
        "\n",
        "total_train = train.shape[0]\n",
        "total_validate = val.shape[0]\n",
        "batch_size = 32  # since Andrew Ng told, that better use 2^n\n",
        "\n",
        "IMAGE_WIDTH=128\n",
        "IMAGE_HEIGHT=128\n",
        "IMAGE_SIZE=(IMAGE_WIDTH, IMAGE_HEIGHT)\n",
        "IMAGE_CHANNELS=3\n",
        "\n",
        "train_generator = train_datagen.flow_from_dataframe(\n",
        "    train, \n",
        "    TRAIN_PATH, \n",
        "    x_col='filename',\n",
        "    y_col='category',\n",
        "    target_size=IMAGE_SIZE,\n",
        "    class_mode='categorical',\n",
        "    batch_size=batch_size\n",
        ")\n",
        "\n",
        "# validation\n",
        "validation_datagen = ImageDataGenerator(rescale=1./255)\n",
        "validation_generator = validation_datagen.flow_from_dataframe(\n",
        "    val, \n",
        "    TRAIN_PATH, \n",
        "    x_col='filename',\n",
        "    y_col='category',\n",
        "    target_size=IMAGE_SIZE,\n",
        "    class_mode='categorical',\n",
        "    batch_size=batch_size\n",
        ")"
      ],
      "execution_count": 9,
      "outputs": [
        {
          "output_type": "stream",
          "text": [
            "Found 20000 validated image filenames belonging to 2 classes.\n",
            "Found 5000 validated image filenames belonging to 2 classes.\n"
          ],
          "name": "stdout"
        }
      ]
    },
    {
      "cell_type": "markdown",
      "metadata": {
        "id": "IcP_Jbl3vNOV",
        "colab_type": "text"
      },
      "source": [
        "# TODO: implement test set preparation "
      ]
    },
    {
      "cell_type": "code",
      "metadata": {
        "id": "3h8l0LYXvI30",
        "colab_type": "code",
        "colab": {}
      },
      "source": [
        ""
      ],
      "execution_count": 0,
      "outputs": []
    },
    {
      "cell_type": "markdown",
      "metadata": {
        "id": "JjcNwIyJvU0V",
        "colab_type": "text"
      },
      "source": [
        "# **Part 2: DNN architecture**"
      ]
    },
    {
      "cell_type": "code",
      "metadata": {
        "id": "85w3ilHfvscC",
        "colab_type": "code",
        "outputId": "bb812e07-2fd6-40fb-a370-2b9363e70038",
        "colab": {
          "base_uri": "https://localhost:8080/",
          "height": 1000
        }
      },
      "source": [
        "from keras.models import Sequential\n",
        "from keras.layers import Conv2D, MaxPooling2D, Dropout, Flatten, Dense, Activation, BatchNormalization\n",
        "\n",
        "IMAGE_WIDTH=128\n",
        "IMAGE_HEIGHT=128\n",
        "IMAGE_SIZE=(IMAGE_WIDTH, IMAGE_HEIGHT)\n",
        "IMAGE_CHANNELS=3\n",
        "\n",
        "model = Sequential()\n",
        "\n",
        "model.add(Conv2D(32, (3, 3), activation='relu', input_shape=(IMAGE_WIDTH, IMAGE_HEIGHT, IMAGE_CHANNELS)))\n",
        "model.add(BatchNormalization())\n",
        "model.add(MaxPooling2D(pool_size=(2, 2)))\n",
        "model.add(Dropout(0.25))\n",
        "\n",
        "model.add(Conv2D(64, (3, 3), activation='relu'))\n",
        "model.add(BatchNormalization())\n",
        "model.add(MaxPooling2D(pool_size=(2, 2)))\n",
        "model.add(Dropout(0.25))\n",
        "\n",
        "model.add(Conv2D(128, (3, 3), activation='relu'))\n",
        "model.add(BatchNormalization())\n",
        "model.add(MaxPooling2D(pool_size=(2, 2)))\n",
        "model.add(Dropout(0.25))\n",
        "\n",
        "model.add(Flatten())\n",
        "model.add(Dense(512, activation='relu'))\n",
        "model.add(BatchNormalization())\n",
        "model.add(Dropout(0.5))\n",
        "model.add(Dense(2, activation='softmax')) # 2 classes: dog and cat\n",
        "\n",
        "model.compile(loss='categorical_crossentropy', optimizer='rmsprop', metrics=['acc'])\n",
        "\n",
        "model.summary()"
      ],
      "execution_count": 10,
      "outputs": [
        {
          "output_type": "stream",
          "text": [
            "WARNING:tensorflow:From /usr/local/lib/python3.6/dist-packages/keras/backend/tensorflow_backend.py:66: The name tf.get_default_graph is deprecated. Please use tf.compat.v1.get_default_graph instead.\n",
            "\n",
            "WARNING:tensorflow:From /usr/local/lib/python3.6/dist-packages/keras/backend/tensorflow_backend.py:541: The name tf.placeholder is deprecated. Please use tf.compat.v1.placeholder instead.\n",
            "\n",
            "WARNING:tensorflow:From /usr/local/lib/python3.6/dist-packages/keras/backend/tensorflow_backend.py:4432: The name tf.random_uniform is deprecated. Please use tf.random.uniform instead.\n",
            "\n",
            "WARNING:tensorflow:From /usr/local/lib/python3.6/dist-packages/keras/backend/tensorflow_backend.py:190: The name tf.get_default_session is deprecated. Please use tf.compat.v1.get_default_session instead.\n",
            "\n",
            "WARNING:tensorflow:From /usr/local/lib/python3.6/dist-packages/keras/backend/tensorflow_backend.py:197: The name tf.ConfigProto is deprecated. Please use tf.compat.v1.ConfigProto instead.\n",
            "\n",
            "WARNING:tensorflow:From /usr/local/lib/python3.6/dist-packages/keras/backend/tensorflow_backend.py:203: The name tf.Session is deprecated. Please use tf.compat.v1.Session instead.\n",
            "\n",
            "WARNING:tensorflow:From /usr/local/lib/python3.6/dist-packages/keras/backend/tensorflow_backend.py:207: The name tf.global_variables is deprecated. Please use tf.compat.v1.global_variables instead.\n",
            "\n",
            "WARNING:tensorflow:From /usr/local/lib/python3.6/dist-packages/keras/backend/tensorflow_backend.py:216: The name tf.is_variable_initialized is deprecated. Please use tf.compat.v1.is_variable_initialized instead.\n",
            "\n",
            "WARNING:tensorflow:From /usr/local/lib/python3.6/dist-packages/keras/backend/tensorflow_backend.py:223: The name tf.variables_initializer is deprecated. Please use tf.compat.v1.variables_initializer instead.\n",
            "\n",
            "WARNING:tensorflow:From /usr/local/lib/python3.6/dist-packages/keras/backend/tensorflow_backend.py:2041: The name tf.nn.fused_batch_norm is deprecated. Please use tf.compat.v1.nn.fused_batch_norm instead.\n",
            "\n",
            "WARNING:tensorflow:From /usr/local/lib/python3.6/dist-packages/keras/backend/tensorflow_backend.py:148: The name tf.placeholder_with_default is deprecated. Please use tf.compat.v1.placeholder_with_default instead.\n",
            "\n",
            "WARNING:tensorflow:From /usr/local/lib/python3.6/dist-packages/keras/backend/tensorflow_backend.py:4267: The name tf.nn.max_pool is deprecated. Please use tf.nn.max_pool2d instead.\n",
            "\n",
            "WARNING:tensorflow:From /usr/local/lib/python3.6/dist-packages/keras/backend/tensorflow_backend.py:3733: calling dropout (from tensorflow.python.ops.nn_ops) with keep_prob is deprecated and will be removed in a future version.\n",
            "Instructions for updating:\n",
            "Please use `rate` instead of `keep_prob`. Rate should be set to `rate = 1 - keep_prob`.\n",
            "WARNING:tensorflow:From /usr/local/lib/python3.6/dist-packages/keras/optimizers.py:793: The name tf.train.Optimizer is deprecated. Please use tf.compat.v1.train.Optimizer instead.\n",
            "\n",
            "WARNING:tensorflow:From /usr/local/lib/python3.6/dist-packages/keras/backend/tensorflow_backend.py:3576: The name tf.log is deprecated. Please use tf.math.log instead.\n",
            "\n",
            "Model: \"sequential_1\"\n",
            "_________________________________________________________________\n",
            "Layer (type)                 Output Shape              Param #   \n",
            "=================================================================\n",
            "conv2d_1 (Conv2D)            (None, 126, 126, 32)      896       \n",
            "_________________________________________________________________\n",
            "batch_normalization_1 (Batch (None, 126, 126, 32)      128       \n",
            "_________________________________________________________________\n",
            "max_pooling2d_1 (MaxPooling2 (None, 63, 63, 32)        0         \n",
            "_________________________________________________________________\n",
            "dropout_1 (Dropout)          (None, 63, 63, 32)        0         \n",
            "_________________________________________________________________\n",
            "conv2d_2 (Conv2D)            (None, 61, 61, 64)        18496     \n",
            "_________________________________________________________________\n",
            "batch_normalization_2 (Batch (None, 61, 61, 64)        256       \n",
            "_________________________________________________________________\n",
            "max_pooling2d_2 (MaxPooling2 (None, 30, 30, 64)        0         \n",
            "_________________________________________________________________\n",
            "dropout_2 (Dropout)          (None, 30, 30, 64)        0         \n",
            "_________________________________________________________________\n",
            "conv2d_3 (Conv2D)            (None, 28, 28, 128)       73856     \n",
            "_________________________________________________________________\n",
            "batch_normalization_3 (Batch (None, 28, 28, 128)       512       \n",
            "_________________________________________________________________\n",
            "max_pooling2d_3 (MaxPooling2 (None, 14, 14, 128)       0         \n",
            "_________________________________________________________________\n",
            "dropout_3 (Dropout)          (None, 14, 14, 128)       0         \n",
            "_________________________________________________________________\n",
            "flatten_1 (Flatten)          (None, 25088)             0         \n",
            "_________________________________________________________________\n",
            "dense_1 (Dense)              (None, 512)               12845568  \n",
            "_________________________________________________________________\n",
            "batch_normalization_4 (Batch (None, 512)               2048      \n",
            "_________________________________________________________________\n",
            "dropout_4 (Dropout)          (None, 512)               0         \n",
            "_________________________________________________________________\n",
            "dense_2 (Dense)              (None, 2)                 1026      \n",
            "=================================================================\n",
            "Total params: 12,942,786\n",
            "Trainable params: 12,941,314\n",
            "Non-trainable params: 1,472\n",
            "_________________________________________________________________\n"
          ],
          "name": "stdout"
        }
      ]
    },
    {
      "cell_type": "code",
      "metadata": {
        "id": "zpOKjQ4axlqS",
        "colab_type": "code",
        "outputId": "70a90194-38de-436f-d9d5-0e512aeea586",
        "colab": {
          "base_uri": "https://localhost:8080/",
          "height": 1000
        }
      },
      "source": [
        "history = model.fit_generator(\n",
        "    train_generator, \n",
        "    epochs=30,\n",
        "    validation_data=validation_generator,\n",
        "    validation_steps=total_validate//batch_size,\n",
        "    steps_per_epoch=total_train//batch_size,\n",
        ")"
      ],
      "execution_count": 11,
      "outputs": [
        {
          "output_type": "stream",
          "text": [
            "WARNING:tensorflow:From /usr/local/lib/python3.6/dist-packages/tensorflow_core/python/ops/math_grad.py:1424: where (from tensorflow.python.ops.array_ops) is deprecated and will be removed in a future version.\n",
            "Instructions for updating:\n",
            "Use tf.where in 2.0, which has the same broadcast rule as np.where\n",
            "WARNING:tensorflow:From /usr/local/lib/python3.6/dist-packages/keras/backend/tensorflow_backend.py:1033: The name tf.assign_add is deprecated. Please use tf.compat.v1.assign_add instead.\n",
            "\n",
            "WARNING:tensorflow:From /usr/local/lib/python3.6/dist-packages/keras/backend/tensorflow_backend.py:1020: The name tf.assign is deprecated. Please use tf.compat.v1.assign instead.\n",
            "\n",
            "Epoch 1/30\n",
            "625/625 [==============================] - 74s 118ms/step - loss: 0.7093 - acc: 0.6717 - val_loss: 0.5103 - val_acc: 0.7496\n",
            "Epoch 2/30\n",
            "625/625 [==============================] - 66s 105ms/step - loss: 0.4665 - acc: 0.7805 - val_loss: 0.6416 - val_acc: 0.7341\n",
            "Epoch 3/30\n",
            "625/625 [==============================] - 65s 104ms/step - loss: 0.3966 - acc: 0.8262 - val_loss: 0.3763 - val_acc: 0.8353\n",
            "Epoch 4/30\n",
            "625/625 [==============================] - 65s 104ms/step - loss: 0.3345 - acc: 0.8579 - val_loss: 0.4270 - val_acc: 0.8072\n",
            "Epoch 5/30\n",
            "625/625 [==============================] - 68s 109ms/step - loss: 0.2936 - acc: 0.8756 - val_loss: 0.4239 - val_acc: 0.8152\n",
            "Epoch 6/30\n",
            "625/625 [==============================] - 72s 116ms/step - loss: 0.2611 - acc: 0.8909 - val_loss: 0.4299 - val_acc: 0.8156\n",
            "Epoch 7/30\n",
            "625/625 [==============================] - 72s 115ms/step - loss: 0.2280 - acc: 0.9082 - val_loss: 0.5841 - val_acc: 0.7260\n",
            "Epoch 8/30\n",
            "625/625 [==============================] - 70s 113ms/step - loss: 0.2104 - acc: 0.9172 - val_loss: 0.4382 - val_acc: 0.8118\n",
            "Epoch 9/30\n",
            "625/625 [==============================] - 68s 108ms/step - loss: 0.1863 - acc: 0.9271 - val_loss: 0.3903 - val_acc: 0.8436\n",
            "Epoch 10/30\n",
            "625/625 [==============================] - 70s 111ms/step - loss: 0.1673 - acc: 0.9358 - val_loss: 0.3700 - val_acc: 0.8390\n",
            "Epoch 11/30\n",
            "625/625 [==============================] - 69s 110ms/step - loss: 0.1590 - acc: 0.9407 - val_loss: 0.4251 - val_acc: 0.8090\n",
            "Epoch 12/30\n",
            "625/625 [==============================] - 69s 110ms/step - loss: 0.1414 - acc: 0.9465 - val_loss: 0.5320 - val_acc: 0.8174\n",
            "Epoch 13/30\n",
            "625/625 [==============================] - 69s 110ms/step - loss: 0.1334 - acc: 0.9488 - val_loss: 1.7060 - val_acc: 0.7536\n",
            "Epoch 14/30\n",
            "625/625 [==============================] - 70s 112ms/step - loss: 0.1262 - acc: 0.9529 - val_loss: 0.5204 - val_acc: 0.8295\n",
            "Epoch 15/30\n",
            "625/625 [==============================] - 70s 111ms/step - loss: 0.1219 - acc: 0.9547 - val_loss: 0.3633 - val_acc: 0.8482\n",
            "Epoch 16/30\n",
            "625/625 [==============================] - 70s 112ms/step - loss: 0.1203 - acc: 0.9568 - val_loss: 0.3989 - val_acc: 0.8579\n",
            "Epoch 17/30\n",
            "625/625 [==============================] - 68s 109ms/step - loss: 0.1136 - acc: 0.9584 - val_loss: 0.3609 - val_acc: 0.8740\n",
            "Epoch 18/30\n",
            "625/625 [==============================] - 68s 109ms/step - loss: 0.1076 - acc: 0.9618 - val_loss: 0.5287 - val_acc: 0.8643\n",
            "Epoch 19/30\n",
            "625/625 [==============================] - 68s 109ms/step - loss: 0.1069 - acc: 0.9612 - val_loss: 0.4021 - val_acc: 0.8531\n",
            "Epoch 20/30\n",
            "625/625 [==============================] - 66s 106ms/step - loss: 0.1011 - acc: 0.9638 - val_loss: 0.3575 - val_acc: 0.8736\n",
            "Epoch 21/30\n",
            "625/625 [==============================] - 67s 108ms/step - loss: 0.0922 - acc: 0.9663 - val_loss: 0.4282 - val_acc: 0.8714\n",
            "Epoch 22/30\n",
            "625/625 [==============================] - 68s 108ms/step - loss: 0.0924 - acc: 0.9668 - val_loss: 0.5847 - val_acc: 0.8514\n",
            "Epoch 23/30\n",
            "625/625 [==============================] - 67s 108ms/step - loss: 0.0851 - acc: 0.9688 - val_loss: 0.7124 - val_acc: 0.8347\n",
            "Epoch 24/30\n",
            "625/625 [==============================] - 67s 107ms/step - loss: 0.0912 - acc: 0.9682 - val_loss: 0.5980 - val_acc: 0.8569\n",
            "Epoch 25/30\n",
            "625/625 [==============================] - 68s 108ms/step - loss: 0.0981 - acc: 0.9671 - val_loss: 0.5196 - val_acc: 0.8561\n",
            "Epoch 26/30\n",
            "625/625 [==============================] - 68s 108ms/step - loss: 0.0864 - acc: 0.9688 - val_loss: 0.4742 - val_acc: 0.8639\n",
            "Epoch 27/30\n",
            "625/625 [==============================] - 68s 109ms/step - loss: 0.0833 - acc: 0.9707 - val_loss: 0.4433 - val_acc: 0.8780\n",
            "Epoch 28/30\n",
            "625/625 [==============================] - 68s 109ms/step - loss: 0.0780 - acc: 0.9736 - val_loss: 0.4612 - val_acc: 0.8814\n",
            "Epoch 29/30\n",
            "625/625 [==============================] - 68s 108ms/step - loss: 0.0863 - acc: 0.9702 - val_loss: 0.7356 - val_acc: 0.8305\n",
            "Epoch 30/30\n",
            "625/625 [==============================] - 67s 107ms/step - loss: 0.0793 - acc: 0.9715 - val_loss: 0.5100 - val_acc: 0.8611\n"
          ],
          "name": "stdout"
        }
      ]
    },
    {
      "cell_type": "markdown",
      "metadata": {
        "id": "tMykkvrHHRzW",
        "colab_type": "text"
      },
      "source": [
        "# **Part 3: Add data augmentation**"
      ]
    },
    {
      "cell_type": "code",
      "metadata": {
        "id": "zQA2ySMDHZhU",
        "colab_type": "code",
        "outputId": "ac94f65d-4f57-4dbc-9deb-388bcf7f7b6e",
        "colab": {
          "base_uri": "https://localhost:8080/",
          "height": 34
        }
      },
      "source": [
        "train_datagen_aug = ImageDataGenerator(\n",
        "    rotation_range=15,\n",
        "    rescale=1./255,\n",
        "    shear_range=0.1,\n",
        "    zoom_range=0.2,\n",
        "    horizontal_flip=True,\n",
        "    width_shift_range=0.1,\n",
        "    height_shift_range=0.1\n",
        ")\n",
        "\n",
        "train_generator_aug = train_datagen_aug.flow_from_dataframe(\n",
        "    train, \n",
        "    TRAIN_PATH, \n",
        "    x_col='filename',\n",
        "    y_col='category',\n",
        "    target_size=IMAGE_SIZE,\n",
        "    class_mode='categorical',\n",
        "    batch_size=batch_size\n",
        ")"
      ],
      "execution_count": 12,
      "outputs": [
        {
          "output_type": "stream",
          "text": [
            "Found 20000 validated image filenames belonging to 2 classes.\n"
          ],
          "name": "stdout"
        }
      ]
    },
    {
      "cell_type": "markdown",
      "metadata": {
        "id": "SCSZ0fjdH8B_",
        "colab_type": "text"
      },
      "source": [
        "And train NN again"
      ]
    },
    {
      "cell_type": "code",
      "metadata": {
        "id": "hRJR_XLRH7Qn",
        "colab_type": "code",
        "outputId": "3b5df553-5f02-4986-a9d4-9044e102cc08",
        "colab": {
          "base_uri": "https://localhost:8080/",
          "height": 1000
        }
      },
      "source": [
        "history = model.fit_generator(\n",
        "    train_generator_aug, \n",
        "    epochs=30,\n",
        "    validation_data=validation_generator,\n",
        "    validation_steps=total_validate//batch_size,\n",
        "    steps_per_epoch=total_train//batch_size,\n",
        ")"
      ],
      "execution_count": 13,
      "outputs": [
        {
          "output_type": "stream",
          "text": [
            "Epoch 1/30\n",
            "625/625 [==============================] - 134s 214ms/step - loss: 0.5200 - acc: 0.8266 - val_loss: 0.3236 - val_acc: 0.8718\n",
            "Epoch 2/30\n",
            "625/625 [==============================] - 131s 209ms/step - loss: 0.3631 - acc: 0.8474 - val_loss: 0.2926 - val_acc: 0.8804\n",
            "Epoch 3/30\n",
            "625/625 [==============================] - 130s 209ms/step - loss: 0.3352 - acc: 0.8573 - val_loss: 0.4228 - val_acc: 0.8434\n",
            "Epoch 4/30\n",
            "625/625 [==============================] - 132s 211ms/step - loss: 0.3273 - acc: 0.8595 - val_loss: 0.9596 - val_acc: 0.7651\n",
            "Epoch 5/30\n",
            "625/625 [==============================] - 132s 211ms/step - loss: 0.3155 - acc: 0.8661 - val_loss: 0.3775 - val_acc: 0.8484\n",
            "Epoch 6/30\n",
            "625/625 [==============================] - 132s 211ms/step - loss: 0.3043 - acc: 0.8717 - val_loss: 0.3074 - val_acc: 0.8776\n",
            "Epoch 7/30\n",
            "625/625 [==============================] - 136s 218ms/step - loss: 0.2946 - acc: 0.8777 - val_loss: 0.3392 - val_acc: 0.8706\n",
            "Epoch 8/30\n",
            "625/625 [==============================] - 137s 219ms/step - loss: 0.3009 - acc: 0.8731 - val_loss: 0.2794 - val_acc: 0.8915\n",
            "Epoch 9/30\n",
            "625/625 [==============================] - 132s 211ms/step - loss: 0.2875 - acc: 0.8776 - val_loss: 0.7670 - val_acc: 0.8205\n",
            "Epoch 10/30\n",
            "625/625 [==============================] - 132s 211ms/step - loss: 0.2885 - acc: 0.8816 - val_loss: 0.2876 - val_acc: 0.8867\n",
            "Epoch 11/30\n",
            "625/625 [==============================] - 132s 211ms/step - loss: 0.2856 - acc: 0.8799 - val_loss: 0.2669 - val_acc: 0.8983\n",
            "Epoch 12/30\n",
            "625/625 [==============================] - 132s 212ms/step - loss: 0.2786 - acc: 0.8831 - val_loss: 0.2242 - val_acc: 0.9088\n",
            "Epoch 13/30\n",
            "625/625 [==============================] - 129s 206ms/step - loss: 0.2752 - acc: 0.8848 - val_loss: 0.2494 - val_acc: 0.9036\n",
            "Epoch 14/30\n",
            "625/625 [==============================] - 128s 205ms/step - loss: 0.2674 - acc: 0.8886 - val_loss: 0.2941 - val_acc: 0.8913\n",
            "Epoch 15/30\n",
            "625/625 [==============================] - 133s 212ms/step - loss: 0.2745 - acc: 0.8849 - val_loss: 0.3130 - val_acc: 0.8829\n",
            "Epoch 16/30\n",
            "625/625 [==============================] - 136s 218ms/step - loss: 0.2676 - acc: 0.8881 - val_loss: 0.2426 - val_acc: 0.9096\n",
            "Epoch 17/30\n",
            "625/625 [==============================] - 137s 219ms/step - loss: 0.2694 - acc: 0.8854 - val_loss: 0.5295 - val_acc: 0.8211\n",
            "Epoch 18/30\n",
            "625/625 [==============================] - 140s 224ms/step - loss: 0.2698 - acc: 0.8886 - val_loss: 0.3058 - val_acc: 0.8875\n",
            "Epoch 19/30\n",
            "625/625 [==============================] - 136s 217ms/step - loss: 0.2599 - acc: 0.8902 - val_loss: 0.2499 - val_acc: 0.9082\n",
            "Epoch 20/30\n",
            "625/625 [==============================] - 134s 214ms/step - loss: 0.2587 - acc: 0.8912 - val_loss: 0.3746 - val_acc: 0.8482\n",
            "Epoch 21/30\n",
            "625/625 [==============================] - 134s 214ms/step - loss: 0.2597 - acc: 0.8939 - val_loss: 0.2646 - val_acc: 0.8992\n",
            "Epoch 22/30\n",
            "625/625 [==============================] - 133s 213ms/step - loss: 0.2599 - acc: 0.8926 - val_loss: 0.2705 - val_acc: 0.8927\n",
            "Epoch 23/30\n",
            "625/625 [==============================] - 132s 212ms/step - loss: 0.2558 - acc: 0.8956 - val_loss: 0.2535 - val_acc: 0.8963\n",
            "Epoch 24/30\n",
            "625/625 [==============================] - 131s 209ms/step - loss: 0.2500 - acc: 0.8975 - val_loss: 0.2782 - val_acc: 0.9012\n",
            "Epoch 25/30\n",
            "625/625 [==============================] - 130s 209ms/step - loss: 0.2458 - acc: 0.8989 - val_loss: 0.2445 - val_acc: 0.9044\n",
            "Epoch 26/30\n",
            "625/625 [==============================] - 131s 209ms/step - loss: 0.2502 - acc: 0.8986 - val_loss: 0.3024 - val_acc: 0.8706\n",
            "Epoch 27/30\n",
            "625/625 [==============================] - 132s 212ms/step - loss: 0.2499 - acc: 0.8962 - val_loss: 0.2517 - val_acc: 0.9006\n",
            "Epoch 28/30\n",
            "625/625 [==============================] - 131s 210ms/step - loss: 0.2389 - acc: 0.9021 - val_loss: 0.2784 - val_acc: 0.8881\n",
            "Epoch 29/30\n",
            "625/625 [==============================] - 129s 207ms/step - loss: 0.2427 - acc: 0.8994 - val_loss: 0.5702 - val_acc: 0.8311\n",
            "Epoch 30/30\n",
            "625/625 [==============================] - 127s 203ms/step - loss: 0.2384 - acc: 0.9031 - val_loss: 0.2329 - val_acc: 0.9128\n"
          ],
          "name": "stdout"
        }
      ]
    },
    {
      "cell_type": "markdown",
      "metadata": {
        "id": "lWJ2k55HQq59",
        "colab_type": "text"
      },
      "source": [
        "# **Part 4: using VGG16**\n",
        "\n"
      ]
    },
    {
      "cell_type": "markdown",
      "metadata": {
        "id": "PICmCUwkSoF-",
        "colab_type": "text"
      },
      "source": [
        "Define model"
      ]
    },
    {
      "cell_type": "code",
      "metadata": {
        "id": "bBHEH7LPQ3tF",
        "colab_type": "code",
        "outputId": "a66d6afc-2a71-4fc0-c07c-452e04c4b6e2",
        "colab": {
          "base_uri": "https://localhost:8080/",
          "height": 1000
        }
      },
      "source": [
        "from keras.models import Model\n",
        "from keras.applications.vgg16 import VGG16\n",
        "\n",
        "# load model\n",
        "vgg = VGG16(include_top=False, input_shape=(224, 224, 3))\n",
        "# mark loaded layers as not trainable\n",
        "for layer in vgg.layers:\n",
        "\tlayer.trainable = False\n",
        "\n",
        "# define a new output layer to connect with the last fc layer in vgg\n",
        "x = Flatten()(vgg.layers[-1].output)\n",
        "class1 = Dense(512, activation='relu', kernel_initializer='he_uniform')(x)\n",
        "bn = BatchNormalization()(class1)\n",
        "do = Dropout(0.5)(bn)\n",
        "output_layer = Dense(2, activation='softmax', name='predictions')(do)\n",
        "\n",
        "# combine the original VGG model with the new output layer\n",
        "vgg = Model(inputs=vgg.input, outputs=output_layer)\n",
        "\n",
        "vgg.compile(loss='categorical_crossentropy', optimizer='rmsprop', metrics=['acc'])\n",
        "\n",
        "history = model.fit_generator(\n",
        "    train_generator_aug, \n",
        "    epochs=30,\n",
        "    validation_data=validation_generator,\n",
        "    validation_steps=total_validate//batch_size,\n",
        "    steps_per_epoch=total_train//batch_size,\n",
        ")"
      ],
      "execution_count": 0,
      "outputs": [
        {
          "output_type": "stream",
          "text": [
            "Epoch 1/30\n",
            "625/625 [==============================] - 133s 213ms/step - loss: 0.3228 - acc: 0.8816 - val_loss: 0.2928 - val_acc: 0.8718\n",
            "Epoch 2/30\n",
            "625/625 [==============================] - 131s 210ms/step - loss: 0.2766 - acc: 0.8890 - val_loss: 0.2544 - val_acc: 0.9004\n",
            "Epoch 3/30\n",
            "625/625 [==============================] - 131s 209ms/step - loss: 0.2596 - acc: 0.8937 - val_loss: 0.2163 - val_acc: 0.9163\n",
            "Epoch 4/30\n",
            "625/625 [==============================] - 129s 207ms/step - loss: 0.2578 - acc: 0.8943 - val_loss: 0.2192 - val_acc: 0.9193\n",
            "Epoch 5/30\n",
            "625/625 [==============================] - 130s 208ms/step - loss: 0.2440 - acc: 0.9004 - val_loss: 0.2389 - val_acc: 0.9175\n",
            "Epoch 6/30\n",
            "625/625 [==============================] - 130s 208ms/step - loss: 0.2401 - acc: 0.9024 - val_loss: 0.2254 - val_acc: 0.9171\n",
            "Epoch 7/30\n",
            "625/625 [==============================] - 131s 209ms/step - loss: 0.2475 - acc: 0.8982 - val_loss: 0.2491 - val_acc: 0.9209\n",
            "Epoch 8/30\n",
            "625/625 [==============================] - 129s 207ms/step - loss: 0.2425 - acc: 0.8999 - val_loss: 0.2763 - val_acc: 0.9012\n",
            "Epoch 9/30\n",
            "625/625 [==============================] - 129s 206ms/step - loss: 0.2418 - acc: 0.8995 - val_loss: 0.2169 - val_acc: 0.9124\n",
            "Epoch 10/30\n",
            "625/625 [==============================] - 129s 207ms/step - loss: 0.2445 - acc: 0.8991 - val_loss: 0.2278 - val_acc: 0.9189\n",
            "Epoch 11/30\n",
            "625/625 [==============================] - 130s 207ms/step - loss: 0.2375 - acc: 0.9021 - val_loss: 0.2169 - val_acc: 0.9279\n",
            "Epoch 12/30\n",
            "625/625 [==============================] - 130s 209ms/step - loss: 0.2434 - acc: 0.8986 - val_loss: 0.2333 - val_acc: 0.9287\n",
            "Epoch 13/30\n",
            "625/625 [==============================] - 135s 216ms/step - loss: 0.2342 - acc: 0.9049 - val_loss: 0.4467 - val_acc: 0.8064\n",
            "Epoch 14/30\n",
            "625/625 [==============================] - 136s 217ms/step - loss: 0.2326 - acc: 0.9058 - val_loss: 0.2448 - val_acc: 0.9002\n",
            "Epoch 15/30\n",
            "625/625 [==============================] - 132s 212ms/step - loss: 0.2343 - acc: 0.9033 - val_loss: 0.2657 - val_acc: 0.8957\n",
            "Epoch 16/30\n",
            "625/625 [==============================] - 131s 209ms/step - loss: 0.2276 - acc: 0.9064 - val_loss: 0.2768 - val_acc: 0.8947\n",
            "Epoch 17/30\n",
            "625/625 [==============================] - 130s 207ms/step - loss: 0.2326 - acc: 0.9062 - val_loss: 0.4921 - val_acc: 0.8591\n",
            "Epoch 18/30\n",
            "625/625 [==============================] - 129s 206ms/step - loss: 0.2331 - acc: 0.9038 - val_loss: 0.2172 - val_acc: 0.9223\n",
            "Epoch 19/30\n",
            "625/625 [==============================] - 129s 207ms/step - loss: 0.2241 - acc: 0.9098 - val_loss: 0.2215 - val_acc: 0.9134\n",
            "Epoch 20/30\n",
            "625/625 [==============================] - 131s 210ms/step - loss: 0.2306 - acc: 0.9070 - val_loss: 0.2299 - val_acc: 0.9255\n",
            "Epoch 21/30\n",
            "625/625 [==============================] - 133s 212ms/step - loss: 0.2273 - acc: 0.9090 - val_loss: 0.2468 - val_acc: 0.9026\n",
            "Epoch 22/30\n",
            "625/625 [==============================] - 131s 209ms/step - loss: 0.2163 - acc: 0.9109 - val_loss: 0.2996 - val_acc: 0.8909\n",
            "Epoch 23/30\n",
            "625/625 [==============================] - 129s 207ms/step - loss: 0.2294 - acc: 0.9072 - val_loss: 0.2423 - val_acc: 0.9054\n",
            "Epoch 24/30\n",
            "625/625 [==============================] - 129s 207ms/step - loss: 0.2214 - acc: 0.9103 - val_loss: 0.3504 - val_acc: 0.8671\n",
            "Epoch 25/30\n",
            "625/625 [==============================] - 129s 206ms/step - loss: 0.2228 - acc: 0.9105 - val_loss: 0.2319 - val_acc: 0.9138\n",
            "Epoch 26/30\n",
            "625/625 [==============================] - 129s 207ms/step - loss: 0.2231 - acc: 0.9083 - val_loss: 0.2417 - val_acc: 0.9080\n",
            "Epoch 27/30\n",
            "625/625 [==============================] - 128s 205ms/step - loss: 0.2251 - acc: 0.9081 - val_loss: 0.2102 - val_acc: 0.9283\n",
            "Epoch 28/30\n",
            "625/625 [==============================] - 128s 205ms/step - loss: 0.2177 - acc: 0.9116 - val_loss: 0.3849 - val_acc: 0.8645\n",
            "Epoch 29/30\n",
            "625/625 [==============================] - 128s 205ms/step - loss: 0.2205 - acc: 0.9093 - val_loss: 0.2145 - val_acc: 0.9231\n",
            "Epoch 30/30\n",
            "625/625 [==============================] - 128s 205ms/step - loss: 0.2196 - acc: 0.9110 - val_loss: 0.3916 - val_acc: 0.8537\n",
            "<keras.callbacks.History object at 0x7fb91bc02c50>\n"
          ],
          "name": "stdout"
        }
      ]
    }
  ]
}