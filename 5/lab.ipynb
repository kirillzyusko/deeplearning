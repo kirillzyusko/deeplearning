{
  "nbformat": 4,
  "nbformat_minor": 0,
  "metadata": {
    "kernelspec": {
      "name": "python3",
      "display_name": "Python 3"
    },
    "colab": {
      "name": "lab.ipynb",
      "provenance": []
    },
    "accelerator": "GPU"
  },
  "cells": [
    {
      "cell_type": "markdown",
      "metadata": {
        "collapsed": true,
        "id": "WZfImSn8R0d0",
        "colab_type": "text"
      },
      "source": [
        "<b>Google Colab</b> <a href=\"https://colab.research.google.com/github/kirillzyusko/deeplearning/blob/master/5/lab.ipynb\">link</a>"
      ]
    },
    {
      "cell_type": "markdown",
      "metadata": {
        "id": "ABNIE8m59gGm",
        "colab_type": "text"
      },
      "source": [
        "Authorize google + kaggle"
      ]
    },
    {
      "cell_type": "code",
      "metadata": {
        "id": "SBIxqfvSR0d2",
        "colab_type": "code",
        "outputId": "460a3cad-8652-4094-ca59-238612edcc86",
        "colab": {
          "base_uri": "https://localhost:8080/",
          "height": 34
        }
      },
      "source": [
        "from googleapiclient.discovery import build\n",
        "import io, os\n",
        "from googleapiclient.http import MediaIoBaseDownload\n",
        "from google.colab import auth\n",
        "auth.authenticate_user()\n",
        "drive_service = build('drive', 'v3')\n",
        "results = drive_service.files().list(\n",
        "        q=\"name = 'kaggle.json'\", fields=\"files(id)\").execute()\n",
        "kaggle_api_key = results.get('files', [])\n",
        "filename = \"/content/.kaggle/kaggle.json\"\n",
        "os.makedirs(os.path.dirname(filename), exist_ok=True)\n",
        "request = drive_service.files().get_media(fileId=kaggle_api_key[0]['id'])\n",
        "fh = io.FileIO(filename, 'wb')\n",
        "downloader = MediaIoBaseDownload(fh, request)\n",
        "done = False\n",
        "while done is False:\n",
        "    status, done = downloader.next_chunk()\n",
        "    print(\"Download %d%%.\" % int(status.progress() * 100))\n",
        "os.chmod(filename, 600)"
      ],
      "execution_count": 25,
      "outputs": [
        {
          "output_type": "stream",
          "text": [
            "Download 100%.\n"
          ],
          "name": "stdout"
        }
      ]
    },
    {
      "cell_type": "markdown",
      "metadata": {
        "id": "CUnvOmrY-uOx",
        "colab_type": "text"
      },
      "source": [
        "Be sure, that we authorized and have an access to kaggle"
      ]
    },
    {
      "cell_type": "code",
      "metadata": {
        "id": "EHH44E0AR0d5",
        "colab_type": "code",
        "outputId": "91c26024-84d7-40fa-e563-a2209255754a",
        "colab": {
          "base_uri": "https://localhost:8080/",
          "height": 34
        }
      },
      "source": [
        "%ls /content/.kaggle/"
      ],
      "execution_count": 26,
      "outputs": [
        {
          "output_type": "stream",
          "text": [
            "\u001b[0m\u001b[01;32mkaggle.json\u001b[0m*\n"
          ],
          "name": "stdout"
        }
      ]
    },
    {
      "cell_type": "markdown",
      "metadata": {
        "id": "Dsvy8e5J-2DS",
        "colab_type": "text"
      },
      "source": [
        "# **Part 1: Download dataset, extract, split, check data distribution**"
      ]
    },
    {
      "cell_type": "code",
      "metadata": {
        "id": "MWC-mL6h9_JR",
        "colab_type": "code",
        "outputId": "b1137d87-9948-492b-f079-da107ecabf32",
        "colab": {
          "base_uri": "https://localhost:8080/",
          "height": 102
        }
      },
      "source": [
        "!mkdir ~/.kaggle\n",
        "!cp /content/.kaggle/kaggle.json ~/.kaggle/kaggle.json\n",
        "!kaggle competitions download  -c dogs-vs-cats -p /content/kaggle/dogscats"
      ],
      "execution_count": 27,
      "outputs": [
        {
          "output_type": "stream",
          "text": [
            "mkdir: cannot create directory ‘/root/.kaggle’: File exists\n",
            "Warning: Looks like you're using an outdated API Version, please consider updating (server 1.5.6 / client 1.5.4)\n",
            "test1.zip: Skipping, found more recently modified local copy (use --force to force download)\n",
            "sampleSubmission.csv: Skipping, found more recently modified local copy (use --force to force download)\n",
            "train.zip: Skipping, found more recently modified local copy (use --force to force download)\n"
          ],
          "name": "stdout"
        }
      ]
    },
    {
      "cell_type": "markdown",
      "metadata": {
        "id": "3FpbBukR-8kJ",
        "colab_type": "text"
      },
      "source": [
        "Extract .zip\n"
      ]
    },
    {
      "cell_type": "code",
      "metadata": {
        "id": "3hebfxSN_U2o",
        "colab_type": "code",
        "colab": {}
      },
      "source": [
        "!unzip kaggle/dogscats/train.zip -d train\n",
        "!unzip kaggle/dogscats/test1.zip -d test"
      ],
      "execution_count": 0,
      "outputs": []
    },
    {
      "cell_type": "code",
      "metadata": {
        "id": "GtNiv6ozrnZk",
        "colab_type": "code",
        "outputId": "4d772f6a-c674-4466-8574-7e4f915f3590",
        "colab": {
          "base_uri": "https://localhost:8080/",
          "height": 34
        }
      },
      "source": [
        "%ls"
      ],
      "execution_count": 28,
      "outputs": [
        {
          "output_type": "stream",
          "text": [
            "adc.json  \u001b[0m\u001b[01;34mkaggle\u001b[0m/  \u001b[01;34msample_data\u001b[0m/  submission.csv  \u001b[01;34mtest\u001b[0m/  \u001b[01;34mtrain\u001b[0m/\n"
          ],
          "name": "stdout"
        }
      ]
    },
    {
      "cell_type": "code",
      "metadata": {
        "id": "Q2_AYHk5rsTb",
        "colab_type": "code",
        "outputId": "85c8df20-01cc-4af5-d5ee-b8c96abf622c",
        "colab": {
          "base_uri": "https://localhost:8080/",
          "height": 204
        }
      },
      "source": [
        "import pandas as pd\n",
        "import os\n",
        "\n",
        "TRAIN_PATH = './train/train'\n",
        "TEST_PATH = './test/test1'\n",
        "\n",
        "filenames = os.listdir(TRAIN_PATH)\n",
        "categories = []\n",
        "for filename in filenames:\n",
        "    category = filename.split('.')[0]\n",
        "    if category == 'dog':\n",
        "        categories.append(1)\n",
        "    else:\n",
        "        categories.append(0)\n",
        "\n",
        "df = pd.DataFrame({\n",
        "    'filename': filenames,\n",
        "    'category': categories\n",
        "})\n",
        "\n",
        "df[\"category\"] = df[\"category\"].replace({0: 'cat', 1: 'dog'}) \n",
        "df.head()"
      ],
      "execution_count": 29,
      "outputs": [
        {
          "output_type": "execute_result",
          "data": {
            "text/html": [
              "<div>\n",
              "<style scoped>\n",
              "    .dataframe tbody tr th:only-of-type {\n",
              "        vertical-align: middle;\n",
              "    }\n",
              "\n",
              "    .dataframe tbody tr th {\n",
              "        vertical-align: top;\n",
              "    }\n",
              "\n",
              "    .dataframe thead th {\n",
              "        text-align: right;\n",
              "    }\n",
              "</style>\n",
              "<table border=\"1\" class=\"dataframe\">\n",
              "  <thead>\n",
              "    <tr style=\"text-align: right;\">\n",
              "      <th></th>\n",
              "      <th>filename</th>\n",
              "      <th>category</th>\n",
              "    </tr>\n",
              "  </thead>\n",
              "  <tbody>\n",
              "    <tr>\n",
              "      <th>0</th>\n",
              "      <td>cat.2910.jpg</td>\n",
              "      <td>cat</td>\n",
              "    </tr>\n",
              "    <tr>\n",
              "      <th>1</th>\n",
              "      <td>cat.3176.jpg</td>\n",
              "      <td>cat</td>\n",
              "    </tr>\n",
              "    <tr>\n",
              "      <th>2</th>\n",
              "      <td>cat.6647.jpg</td>\n",
              "      <td>cat</td>\n",
              "    </tr>\n",
              "    <tr>\n",
              "      <th>3</th>\n",
              "      <td>dog.1106.jpg</td>\n",
              "      <td>dog</td>\n",
              "    </tr>\n",
              "    <tr>\n",
              "      <th>4</th>\n",
              "      <td>cat.6265.jpg</td>\n",
              "      <td>cat</td>\n",
              "    </tr>\n",
              "  </tbody>\n",
              "</table>\n",
              "</div>"
            ],
            "text/plain": [
              "       filename category\n",
              "0  cat.2910.jpg      cat\n",
              "1  cat.3176.jpg      cat\n",
              "2  cat.6647.jpg      cat\n",
              "3  dog.1106.jpg      dog\n",
              "4  cat.6265.jpg      cat"
            ]
          },
          "metadata": {
            "tags": []
          },
          "execution_count": 29
        }
      ]
    },
    {
      "cell_type": "code",
      "metadata": {
        "id": "gHyb3POgrzna",
        "colab_type": "code",
        "outputId": "868bb430-f9d9-4ab6-ee37-a74461f91937",
        "colab": {
          "base_uri": "https://localhost:8080/",
          "height": 291
        }
      },
      "source": [
        "df['category'].value_counts().plot.bar()"
      ],
      "execution_count": 0,
      "outputs": [
        {
          "output_type": "execute_result",
          "data": {
            "text/plain": [
              "<matplotlib.axes._subplots.AxesSubplot at 0x7f2fdcf0a4e0>"
            ]
          },
          "metadata": {
            "tags": []
          },
          "execution_count": 7
        },
        {
          "output_type": "display_data",
          "data": {
            "image/png": "[encoded data removed]",
            "text/plain": [
              "<Figure size 432x288 with 1 Axes>"
            ]
          },
          "metadata": {
            "tags": []
          }
        }
      ]
    },
    {
      "cell_type": "markdown",
      "metadata": {
        "id": "YX-kMDkqu7ps",
        "colab_type": "text"
      },
      "source": [
        "Train/Dev split\n"
      ]
    },
    {
      "cell_type": "code",
      "metadata": {
        "id": "7FgMZAnjuW2p",
        "colab_type": "code",
        "colab": {}
      },
      "source": [
        "from sklearn.model_selection import train_test_split\n",
        "\n",
        "train, val = train_test_split(df, test_size=0.20, random_state=42)"
      ],
      "execution_count": 0,
      "outputs": []
    },
    {
      "cell_type": "markdown",
      "metadata": {
        "id": "rqrP8Eccu-uq",
        "colab_type": "text"
      },
      "source": [
        "Check data distribution"
      ]
    },
    {
      "cell_type": "code",
      "metadata": {
        "id": "1UuY0TQluzP3",
        "colab_type": "code",
        "outputId": "4e8f9fe8-0bc8-467c-d127-85624f0dc77a",
        "colab": {
          "base_uri": "https://localhost:8080/",
          "height": 291
        }
      },
      "source": [
        "train['category'].value_counts().plot.bar()"
      ],
      "execution_count": 0,
      "outputs": [
        {
          "output_type": "execute_result",
          "data": {
            "text/plain": [
              "<matplotlib.axes._subplots.AxesSubplot at 0x7f2fcaf9a4e0>"
            ]
          },
          "metadata": {
            "tags": []
          },
          "execution_count": 9
        },
        {
          "output_type": "display_data",
          "data": {
            "image/png": "[encoded data removed]",
            "text/plain": [
              "<Figure size 432x288 with 1 Axes>"
            ]
          },
          "metadata": {
            "tags": []
          }
        }
      ]
    },
    {
      "cell_type": "code",
      "metadata": {
        "id": "ASzyO1gdu02a",
        "colab_type": "code",
        "outputId": "fdb449ca-10f1-482e-8776-b07a713a6b61",
        "colab": {
          "base_uri": "https://localhost:8080/",
          "height": 291
        }
      },
      "source": [
        "val['category'].value_counts().plot.bar()"
      ],
      "execution_count": 0,
      "outputs": [
        {
          "output_type": "execute_result",
          "data": {
            "text/plain": [
              "<matplotlib.axes._subplots.AxesSubplot at 0x7f2fcad679b0>"
            ]
          },
          "metadata": {
            "tags": []
          },
          "execution_count": 10
        },
        {
          "output_type": "display_data",
          "data": {
            "image/png": "[encoded data removed]",
            "text/plain": [
              "<Figure size 432x288 with 1 Axes>"
            ]
          },
          "metadata": {
            "tags": []
          }
        }
      ]
    },
    {
      "cell_type": "markdown",
      "metadata": {
        "id": "BVBo4m6lzBbo",
        "colab_type": "text"
      },
      "source": [
        "Use `ImageDataGenerator` in order to reduce data memory consumption (just with rescaling for improving speed of learning)"
      ]
    },
    {
      "cell_type": "code",
      "metadata": {
        "id": "XilH3-zfzAmu",
        "colab_type": "code",
        "outputId": "da4f770a-773c-4366-cb84-b79b95fdd820",
        "colab": {
          "base_uri": "https://localhost:8080/",
          "height": 51
        }
      },
      "source": [
        "from keras.preprocessing.image import ImageDataGenerator, load_img\n",
        "\n",
        "# train\n",
        "train_datagen = ImageDataGenerator(rescale=1./255)\n",
        "\n",
        "total_train = train.shape[0]\n",
        "total_validate = val.shape[0]\n",
        "batch_size = 32  # since Andrew Ng told, that better use 2^n\n",
        "\n",
        "IMAGE_WIDTH=128\n",
        "IMAGE_HEIGHT=128\n",
        "IMAGE_SIZE=(IMAGE_WIDTH, IMAGE_HEIGHT)\n",
        "IMAGE_CHANNELS=3\n",
        "\n",
        "train_generator = train_datagen.flow_from_dataframe(\n",
        "    train, \n",
        "    TRAIN_PATH, \n",
        "    x_col='filename',\n",
        "    y_col='category',\n",
        "    target_size=IMAGE_SIZE,\n",
        "    class_mode='categorical',\n",
        "    batch_size=batch_size\n",
        ")\n",
        "\n",
        "# validation\n",
        "validation_datagen = ImageDataGenerator(rescale=1./255)\n",
        "validation_generator = validation_datagen.flow_from_dataframe(\n",
        "    val, \n",
        "    TRAIN_PATH, \n",
        "    x_col='filename',\n",
        "    y_col='category',\n",
        "    target_size=IMAGE_SIZE,\n",
        "    class_mode='categorical',\n",
        "    batch_size=batch_size\n",
        ")"
      ],
      "execution_count": 31,
      "outputs": [
        {
          "output_type": "stream",
          "text": [
            "Found 20000 validated image filenames belonging to 2 classes.\n",
            "Found 5000 validated image filenames belonging to 2 classes.\n"
          ],
          "name": "stdout"
        }
      ]
    },
    {
      "cell_type": "markdown",
      "metadata": {
        "id": "IcP_Jbl3vNOV",
        "colab_type": "text"
      },
      "source": [
        "And the same processing for test set:"
      ]
    },
    {
      "cell_type": "code",
      "metadata": {
        "id": "3h8l0LYXvI30",
        "colab_type": "code",
        "outputId": "02825d89-648d-4d1f-8fb0-ec8400a55e33",
        "colab": {
          "base_uri": "https://localhost:8080/",
          "height": 34
        }
      },
      "source": [
        "test_filenames = os.listdir(TEST_PATH)\n",
        "test_df = pd.DataFrame({\n",
        "    'filename': test_filenames\n",
        "})\n",
        "nb_samples = test_df.shape[0]\n",
        "\n",
        "test_gen = ImageDataGenerator(rescale=1./255)\n",
        "test_generator = test_gen.flow_from_dataframe(\n",
        "    test_df, \n",
        "    TEST_PATH, \n",
        "    x_col='filename',\n",
        "    y_col=None,\n",
        "    class_mode=None,\n",
        "    target_size=IMAGE_SIZE,\n",
        "    batch_size=batch_size,\n",
        "    shuffle=False\n",
        ")"
      ],
      "execution_count": 32,
      "outputs": [
        {
          "output_type": "stream",
          "text": [
            "Found 12500 validated image filenames.\n"
          ],
          "name": "stdout"
        }
      ]
    },
    {
      "cell_type": "markdown",
      "metadata": {
        "id": "JjcNwIyJvU0V",
        "colab_type": "text"
      },
      "source": [
        "# **Part 2: DNN architecture**"
      ]
    },
    {
      "cell_type": "code",
      "metadata": {
        "id": "85w3ilHfvscC",
        "colab_type": "code",
        "outputId": "6428a0f5-ea7e-4047-8236-28bfd3d900e5",
        "colab": {
          "base_uri": "https://localhost:8080/",
          "height": 731
        }
      },
      "source": [
        "from keras.models import Sequential\n",
        "from keras.layers import Conv2D, MaxPooling2D, Dropout, Flatten, Dense, Activation, BatchNormalization\n",
        "\n",
        "IMAGE_WIDTH=128\n",
        "IMAGE_HEIGHT=128\n",
        "IMAGE_SIZE=(IMAGE_WIDTH, IMAGE_HEIGHT)\n",
        "IMAGE_CHANNELS=3\n",
        "\n",
        "model = Sequential()\n",
        "\n",
        "model.add(Conv2D(32, (3, 3), activation='relu', input_shape=(IMAGE_WIDTH, IMAGE_HEIGHT, IMAGE_CHANNELS)))\n",
        "model.add(BatchNormalization())\n",
        "model.add(MaxPooling2D(pool_size=(2, 2)))\n",
        "model.add(Dropout(0.25))\n",
        "\n",
        "model.add(Conv2D(64, (3, 3), activation='relu'))\n",
        "model.add(BatchNormalization())\n",
        "model.add(MaxPooling2D(pool_size=(2, 2)))\n",
        "model.add(Dropout(0.25))\n",
        "\n",
        "model.add(Conv2D(128, (3, 3), activation='relu'))\n",
        "model.add(BatchNormalization())\n",
        "model.add(MaxPooling2D(pool_size=(2, 2)))\n",
        "model.add(Dropout(0.25))\n",
        "\n",
        "model.add(Flatten())\n",
        "model.add(Dense(512, activation='relu'))\n",
        "model.add(BatchNormalization())\n",
        "model.add(Dropout(0.5))\n",
        "model.add(Dense(2, activation='softmax')) # 2 classes: dog and cat\n",
        "\n",
        "model.compile(loss='categorical_crossentropy', optimizer='rmsprop', metrics=['acc'])\n",
        "\n",
        "model.summary()\n",
        "\n",
        "model.save_weights('initial.h5')"
      ],
      "execution_count": 33,
      "outputs": [
        {
          "output_type": "stream",
          "text": [
            "Model: \"sequential_2\"\n",
            "_________________________________________________________________\n",
            "Layer (type)                 Output Shape              Param #   \n",
            "=================================================================\n",
            "conv2d_4 (Conv2D)            (None, 126, 126, 32)      896       \n",
            "_________________________________________________________________\n",
            "batch_normalization_7 (Batch (None, 126, 126, 32)      128       \n",
            "_________________________________________________________________\n",
            "max_pooling2d_4 (MaxPooling2 (None, 63, 63, 32)        0         \n",
            "_________________________________________________________________\n",
            "dropout_7 (Dropout)          (None, 63, 63, 32)        0         \n",
            "_________________________________________________________________\n",
            "conv2d_5 (Conv2D)            (None, 61, 61, 64)        18496     \n",
            "_________________________________________________________________\n",
            "batch_normalization_8 (Batch (None, 61, 61, 64)        256       \n",
            "_________________________________________________________________\n",
            "max_pooling2d_5 (MaxPooling2 (None, 30, 30, 64)        0         \n",
            "_________________________________________________________________\n",
            "dropout_8 (Dropout)          (None, 30, 30, 64)        0         \n",
            "_________________________________________________________________\n",
            "conv2d_6 (Conv2D)            (None, 28, 28, 128)       73856     \n",
            "_________________________________________________________________\n",
            "batch_normalization_9 (Batch (None, 28, 28, 128)       512       \n",
            "_________________________________________________________________\n",
            "max_pooling2d_6 (MaxPooling2 (None, 14, 14, 128)       0         \n",
            "_________________________________________________________________\n",
            "dropout_9 (Dropout)          (None, 14, 14, 128)       0         \n",
            "_________________________________________________________________\n",
            "flatten_4 (Flatten)          (None, 25088)             0         \n",
            "_________________________________________________________________\n",
            "dense_5 (Dense)              (None, 512)               12845568  \n",
            "_________________________________________________________________\n",
            "batch_normalization_10 (Batc (None, 512)               2048      \n",
            "_________________________________________________________________\n",
            "dropout_10 (Dropout)         (None, 512)               0         \n",
            "_________________________________________________________________\n",
            "dense_6 (Dense)              (None, 2)                 1026      \n",
            "=================================================================\n",
            "Total params: 12,942,786\n",
            "Trainable params: 12,941,314\n",
            "Non-trainable params: 1,472\n",
            "_________________________________________________________________\n"
          ],
          "name": "stdout"
        }
      ]
    },
    {
      "cell_type": "code",
      "metadata": {
        "id": "zpOKjQ4axlqS",
        "colab_type": "code",
        "outputId": "98eade16-b9fd-443d-b159-779ed4fa98d9",
        "colab": {
          "base_uri": "https://localhost:8080/",
          "height": 986
        }
      },
      "source": [
        "model.load_weights('initial.h5')\n",
        "history = model.fit_generator(\n",
        "    train_generator, \n",
        "    epochs=30,\n",
        "    validation_data=validation_generator,\n",
        "    validation_steps=total_validate//batch_size,\n",
        "    steps_per_epoch=total_train//batch_size,\n",
        ")"
      ],
      "execution_count": 34,
      "outputs": [
        {
          "output_type": "stream",
          "text": [
            "Epoch 1/30\n",
            "625/625 [==============================] - 70s 112ms/step - loss: 0.7187 - acc: 0.6778 - val_loss: 0.5629 - val_acc: 0.7202\n",
            "Epoch 2/30\n",
            "625/625 [==============================] - 69s 110ms/step - loss: 0.4611 - acc: 0.7826 - val_loss: 0.7389 - val_acc: 0.7122\n",
            "Epoch 3/30\n",
            "625/625 [==============================] - 69s 111ms/step - loss: 0.3909 - acc: 0.8258 - val_loss: 0.3826 - val_acc: 0.8313\n",
            "Epoch 4/30\n",
            "624/625 [============================>.] - ETA: 0s - loss: 0.3416 - acc: 0.8530Epoch 5/30\n",
            "625/625 [==============================] - 69s 110ms/step - loss: 0.3005 - acc: 0.8731 - val_loss: 0.5113 - val_acc: 0.8064\n",
            "Epoch 6/30\n",
            "625/625 [==============================] - 69s 111ms/step - loss: 0.2675 - acc: 0.8882 - val_loss: 0.4164 - val_acc: 0.8090\n",
            "Epoch 7/30\n",
            "625/625 [==============================] - 69s 110ms/step - loss: 0.2431 - acc: 0.9012 - val_loss: 0.5699 - val_acc: 0.8092\n",
            "Epoch 8/30\n",
            "625/625 [==============================] - 69s 110ms/step - loss: 0.2180 - acc: 0.9139 - val_loss: 0.4090 - val_acc: 0.8255\n",
            "Epoch 9/30\n",
            "625/625 [==============================] - 68s 109ms/step - loss: 0.1974 - acc: 0.9231 - val_loss: 0.4653 - val_acc: 0.8758\n",
            "Epoch 10/30\n",
            "625/625 [==============================] - 68s 108ms/step - loss: 0.1789 - acc: 0.9294 - val_loss: 0.3616 - val_acc: 0.8674\n",
            "Epoch 11/30\n",
            "625/625 [==============================] - 68s 109ms/step - loss: 0.1729 - acc: 0.9341 - val_loss: 0.3391 - val_acc: 0.8704\n",
            "Epoch 12/30\n",
            "624/625 [============================>.] - ETA: 0s - loss: 0.1515 - acc: 0.9425Epoch 13/30\n",
            "625/625 [==============================] - 67s 107ms/step - loss: 0.1467 - acc: 0.9457 - val_loss: 0.3851 - val_acc: 0.8525\n",
            "Epoch 14/30\n",
            "625/625 [==============================] - 68s 109ms/step - loss: 0.1330 - acc: 0.9520 - val_loss: 0.3747 - val_acc: 0.8504\n",
            "Epoch 15/30\n",
            "625/625 [==============================] - 67s 108ms/step - loss: 0.1269 - acc: 0.9525 - val_loss: 0.4108 - val_acc: 0.8865\n",
            "Epoch 16/30\n",
            "625/625 [==============================] - 67s 107ms/step - loss: 0.1252 - acc: 0.9540 - val_loss: 0.4315 - val_acc: 0.8671\n",
            "Epoch 17/30\n",
            "624/625 [============================>.] - ETA: 0s - loss: 0.1136 - acc: 0.9584Epoch 18/30\n",
            "625/625 [==============================] - 67s 107ms/step - loss: 0.1115 - acc: 0.9606 - val_loss: 0.4902 - val_acc: 0.8682\n",
            "Epoch 19/30\n",
            "625/625 [==============================] - 67s 108ms/step - loss: 0.1058 - acc: 0.9612 - val_loss: 0.3977 - val_acc: 0.8706\n",
            "Epoch 20/30\n",
            "625/625 [==============================] - 67s 108ms/step - loss: 0.1090 - acc: 0.9603 - val_loss: 1.5145 - val_acc: 0.7287\n",
            "Epoch 21/30\n",
            "625/625 [==============================] - 66s 106ms/step - loss: 0.1061 - acc: 0.9623 - val_loss: 0.6800 - val_acc: 0.8484\n",
            "Epoch 22/30\n",
            "625/625 [==============================] - 66s 106ms/step - loss: 0.1021 - acc: 0.9642 - val_loss: 0.4664 - val_acc: 0.8684\n",
            "Epoch 23/30\n",
            "625/625 [==============================] - 67s 107ms/step - loss: 0.1045 - acc: 0.9623 - val_loss: 1.9472 - val_acc: 0.7003\n",
            "Epoch 24/30\n",
            "625/625 [==============================] - 67s 107ms/step - loss: 0.0987 - acc: 0.9625 - val_loss: 0.4816 - val_acc: 0.8690\n",
            "Epoch 25/30\n",
            "625/625 [==============================] - 67s 108ms/step - loss: 0.0950 - acc: 0.9667 - val_loss: 0.5093 - val_acc: 0.8597\n",
            "Epoch 26/30\n",
            "625/625 [==============================] - 67s 108ms/step - loss: 0.1054 - acc: 0.9616 - val_loss: 0.5796 - val_acc: 0.8114\n",
            "Epoch 27/30\n",
            "625/625 [==============================] - 67s 107ms/step - loss: 0.0956 - acc: 0.9668 - val_loss: 0.4505 - val_acc: 0.8826\n",
            "Epoch 28/30\n",
            "625/625 [==============================] - 67s 107ms/step - loss: 0.0998 - acc: 0.9653 - val_loss: 1.6506 - val_acc: 0.7754\n",
            "Epoch 29/30\n",
            "625/625 [==============================] - 67s 106ms/step - loss: 0.0960 - acc: 0.9637 - val_loss: 0.6556 - val_acc: 0.8366\n",
            "Epoch 30/30\n",
            "625/625 [==============================] - 67s 107ms/step - loss: 0.0874 - acc: 0.9689 - val_loss: 0.5028 - val_acc: 0.8843\n"
          ],
          "name": "stdout"
        }
      ]
    },
    {
      "cell_type": "markdown",
      "metadata": {
        "id": "tMykkvrHHRzW",
        "colab_type": "text"
      },
      "source": [
        "# **Part 3: Add data augmentation**"
      ]
    },
    {
      "cell_type": "code",
      "metadata": {
        "id": "zQA2ySMDHZhU",
        "colab_type": "code",
        "outputId": "673fe9d0-9110-407e-8c70-441a3015cf25",
        "colab": {
          "base_uri": "https://localhost:8080/",
          "height": 34
        }
      },
      "source": [
        "train_datagen_aug = ImageDataGenerator(\n",
        "    rotation_range=15,\n",
        "    rescale=1./255,\n",
        "    shear_range=0.1,\n",
        "    zoom_range=0.2,\n",
        "    horizontal_flip=True,\n",
        "    width_shift_range=0.1,\n",
        "    height_shift_range=0.1\n",
        ")\n",
        "\n",
        "train_generator_aug = train_datagen_aug.flow_from_dataframe(\n",
        "    train, \n",
        "    TRAIN_PATH, \n",
        "    x_col='filename',\n",
        "    y_col='category',\n",
        "    target_size=IMAGE_SIZE,\n",
        "    class_mode='categorical',\n",
        "    batch_size=batch_size\n",
        ")"
      ],
      "execution_count": 35,
      "outputs": [
        {
          "output_type": "stream",
          "text": [
            "Found 20000 validated image filenames belonging to 2 classes.\n"
          ],
          "name": "stdout"
        }
      ]
    },
    {
      "cell_type": "markdown",
      "metadata": {
        "id": "SCSZ0fjdH8B_",
        "colab_type": "text"
      },
      "source": [
        "And train NN again"
      ]
    },
    {
      "cell_type": "code",
      "metadata": {
        "id": "hRJR_XLRH7Qn",
        "colab_type": "code",
        "outputId": "ab1d24e9-5e1f-4db5-96e3-6b76e2af5c45",
        "colab": {
          "base_uri": "https://localhost:8080/",
          "height": 1000
        }
      },
      "source": [
        "model.load_weights('initial.h5')\n",
        "history_aug = model.fit_generator(\n",
        "    train_generator_aug, \n",
        "    epochs=30,\n",
        "    validation_data=validation_generator,\n",
        "    validation_steps=total_validate//batch_size,\n",
        "    steps_per_epoch=total_train//batch_size,\n",
        ")"
      ],
      "execution_count": 36,
      "outputs": [
        {
          "output_type": "stream",
          "text": [
            "Epoch 1/30\n",
            "625/625 [==============================] - 131s 209ms/step - loss: 0.7658 - acc: 0.6423 - val_loss: 0.5819 - val_acc: 0.6875\n",
            "Epoch 2/30\n",
            "625/625 [==============================] - 128s 205ms/step - loss: 0.5294 - acc: 0.7419 - val_loss: 0.4447 - val_acc: 0.7925\n",
            "Epoch 3/30\n",
            "625/625 [==============================] - 129s 206ms/step - loss: 0.4713 - acc: 0.7805 - val_loss: 0.5107 - val_acc: 0.7500\n",
            "Epoch 4/30\n",
            "625/625 [==============================] - 129s 206ms/step - loss: 0.4306 - acc: 0.8026 - val_loss: 0.4313 - val_acc: 0.8078\n",
            "Epoch 5/30\n",
            "625/625 [==============================] - 127s 203ms/step - loss: 0.4044 - acc: 0.8173 - val_loss: 0.4806 - val_acc: 0.7838\n",
            "Epoch 6/30\n",
            "625/625 [==============================] - 127s 204ms/step - loss: 0.3865 - acc: 0.8282 - val_loss: 0.3588 - val_acc: 0.8436\n",
            "Epoch 7/30\n",
            "625/625 [==============================] - 130s 207ms/step - loss: 0.3672 - acc: 0.8380 - val_loss: 0.3343 - val_acc: 0.8617\n",
            "Epoch 8/30\n",
            "625/625 [==============================] - 129s 207ms/step - loss: 0.3583 - acc: 0.8427 - val_loss: 0.5087 - val_acc: 0.8158\n",
            "Epoch 9/30\n",
            "625/625 [==============================] - 129s 207ms/step - loss: 0.3472 - acc: 0.8463 - val_loss: 0.3501 - val_acc: 0.8748\n",
            "Epoch 10/30\n",
            "625/625 [==============================] - 131s 210ms/step - loss: 0.3306 - acc: 0.8538 - val_loss: 0.4152 - val_acc: 0.8321\n",
            "Epoch 11/30\n",
            "625/625 [==============================] - 134s 214ms/step - loss: 0.3305 - acc: 0.8569 - val_loss: 0.3218 - val_acc: 0.8698\n",
            "Epoch 12/30\n",
            "625/625 [==============================] - 134s 214ms/step - loss: 0.3179 - acc: 0.8631 - val_loss: 0.3028 - val_acc: 0.8762\n",
            "Epoch 13/30\n",
            "625/625 [==============================] - 132s 212ms/step - loss: 0.3120 - acc: 0.8658 - val_loss: 0.3236 - val_acc: 0.8712\n",
            "Epoch 14/30\n",
            "625/625 [==============================] - 128s 206ms/step - loss: 0.3048 - acc: 0.8685 - val_loss: 0.3487 - val_acc: 0.8738\n",
            "Epoch 15/30\n",
            "625/625 [==============================] - 128s 205ms/step - loss: 0.3050 - acc: 0.8697 - val_loss: 0.2749 - val_acc: 0.9006\n",
            "Epoch 16/30\n",
            "625/625 [==============================] - 131s 210ms/step - loss: 0.2916 - acc: 0.8776 - val_loss: 0.3957 - val_acc: 0.8527\n",
            "Epoch 17/30\n",
            "625/625 [==============================] - 133s 212ms/step - loss: 0.2931 - acc: 0.8753 - val_loss: 0.2971 - val_acc: 0.8798\n",
            "Epoch 18/30\n",
            "625/625 [==============================] - 133s 213ms/step - loss: 0.2863 - acc: 0.8794 - val_loss: 0.6522 - val_acc: 0.7669\n",
            "Epoch 19/30\n",
            "625/625 [==============================] - 133s 213ms/step - loss: 0.2862 - acc: 0.8774 - val_loss: 0.2801 - val_acc: 0.9032\n",
            "Epoch 20/30\n",
            "625/625 [==============================] - 132s 211ms/step - loss: 0.2801 - acc: 0.8833 - val_loss: 0.3330 - val_acc: 0.8794\n",
            "Epoch 21/30\n",
            "625/625 [==============================] - 132s 211ms/step - loss: 0.2815 - acc: 0.8802 - val_loss: 0.2912 - val_acc: 0.8784\n",
            "Epoch 22/30\n",
            "625/625 [==============================] - 131s 210ms/step - loss: 0.2732 - acc: 0.8856 - val_loss: 0.3620 - val_acc: 0.8464\n",
            "Epoch 23/30\n",
            "625/625 [==============================] - 131s 210ms/step - loss: 0.2671 - acc: 0.8890 - val_loss: 0.3213 - val_acc: 0.8736\n",
            "Epoch 24/30\n",
            "625/625 [==============================] - 132s 210ms/step - loss: 0.2677 - acc: 0.8894 - val_loss: 0.3443 - val_acc: 0.8788\n",
            "Epoch 25/30\n",
            "625/625 [==============================] - 133s 212ms/step - loss: 0.2620 - acc: 0.8900 - val_loss: 0.2514 - val_acc: 0.9153\n",
            "Epoch 26/30\n",
            "625/625 [==============================] - 133s 212ms/step - loss: 0.2597 - acc: 0.8921 - val_loss: 0.2657 - val_acc: 0.8975\n",
            "Epoch 27/30\n",
            "625/625 [==============================] - 133s 212ms/step - loss: 0.2654 - acc: 0.8876 - val_loss: 0.3496 - val_acc: 0.8277\n",
            "Epoch 28/30\n",
            "625/625 [==============================] - 133s 213ms/step - loss: 0.2587 - acc: 0.8907 - val_loss: 0.2753 - val_acc: 0.9040\n",
            "Epoch 29/30\n",
            "625/625 [==============================] - 133s 212ms/step - loss: 0.2538 - acc: 0.8950 - val_loss: 0.2658 - val_acc: 0.9028\n",
            "Epoch 30/30\n",
            "625/625 [==============================] - 133s 214ms/step - loss: 0.2572 - acc: 0.8922 - val_loss: 0.2261 - val_acc: 0.9175\n"
          ],
          "name": "stdout"
        }
      ]
    },
    {
      "cell_type": "markdown",
      "metadata": {
        "id": "lWJ2k55HQq59",
        "colab_type": "text"
      },
      "source": [
        "# **Part 4: using VGG16**\n",
        "\n"
      ]
    },
    {
      "cell_type": "markdown",
      "metadata": {
        "id": "PICmCUwkSoF-",
        "colab_type": "text"
      },
      "source": [
        "Define model"
      ]
    },
    {
      "cell_type": "code",
      "metadata": {
        "id": "bBHEH7LPQ3tF",
        "colab_type": "code",
        "outputId": "906647ce-273e-4da0-d2b0-e3c4f0d03ac3",
        "colab": {
          "base_uri": "https://localhost:8080/",
          "height": 1000
        }
      },
      "source": [
        "from keras.models import Model\n",
        "from keras.applications.vgg16 import VGG16\n",
        "\n",
        "# load model\n",
        "vgg = VGG16(include_top=False, input_shape=(IMAGE_HEIGHT, IMAGE_WIDTH, IMAGE_CHANNELS))\n",
        "# mark loaded layers as not trainable\n",
        "for layer in vgg.layers:\n",
        "\tlayer.trainable = False\n",
        "\n",
        "# define a new output layer to connect with the last fc layer in vgg\n",
        "x = Flatten()(vgg.layers[-1].output)\n",
        "class1 = Dense(512, activation='relu', kernel_initializer='he_uniform')(x)\n",
        "bn = BatchNormalization()(class1)\n",
        "do = Dropout(0.5)(bn)\n",
        "output_layer = Dense(2, activation='softmax', name='predictions')(do)\n",
        "\n",
        "# combine the original VGG model with the new output layer\n",
        "vgg = Model(inputs=vgg.input, outputs=output_layer)\n",
        "\n",
        "vgg.compile(loss='categorical_crossentropy', optimizer='rmsprop', metrics=['acc'])\n",
        "\n",
        "history_vgg = vgg.fit_generator(\n",
        "    train_generator_aug, \n",
        "    epochs=30,\n",
        "    validation_data=validation_generator,\n",
        "    validation_steps=total_validate//batch_size,\n",
        "    steps_per_epoch=total_train//batch_size,\n",
        ")"
      ],
      "execution_count": 0,
      "outputs": [
        {
          "output_type": "stream",
          "text": [
            "Epoch 1/30\n",
            "625/625 [==============================] - 136s 217ms/step - loss: 0.3982 - acc: 0.8335 - val_loss: 0.4179 - val_acc: 0.8173\n",
            "Epoch 2/30\n",
            "625/625 [==============================] - 133s 213ms/step - loss: 0.3186 - acc: 0.8579 - val_loss: 0.2939 - val_acc: 0.8676\n",
            "Epoch 3/30\n",
            "625/625 [==============================] - 133s 212ms/step - loss: 0.3087 - acc: 0.8661 - val_loss: 0.2499 - val_acc: 0.8937\n",
            "Epoch 4/30\n",
            "625/625 [==============================] - 134s 215ms/step - loss: 0.2974 - acc: 0.8723 - val_loss: 0.2387 - val_acc: 0.8939\n",
            "Epoch 5/30\n",
            "625/625 [==============================] - 133s 213ms/step - loss: 0.2922 - acc: 0.8712 - val_loss: 0.2548 - val_acc: 0.8893\n",
            "Epoch 6/30\n",
            "625/625 [==============================] - 134s 214ms/step - loss: 0.2930 - acc: 0.8721 - val_loss: 0.2307 - val_acc: 0.9024\n",
            "Epoch 7/30\n",
            "625/625 [==============================] - 133s 213ms/step - loss: 0.2872 - acc: 0.8763 - val_loss: 0.2348 - val_acc: 0.9004\n",
            "Epoch 8/30\n",
            "625/625 [==============================] - 133s 212ms/step - loss: 0.2847 - acc: 0.8787 - val_loss: 0.2233 - val_acc: 0.9016\n",
            "Epoch 9/30\n",
            "625/625 [==============================] - 132s 211ms/step - loss: 0.2820 - acc: 0.8787 - val_loss: 0.2297 - val_acc: 0.8986\n",
            "Epoch 10/30\n",
            "625/625 [==============================] - 131s 210ms/step - loss: 0.2798 - acc: 0.8795 - val_loss: 0.2239 - val_acc: 0.9068\n",
            "Epoch 11/30\n",
            "625/625 [==============================] - 133s 213ms/step - loss: 0.2761 - acc: 0.8817 - val_loss: 0.2570 - val_acc: 0.8921\n",
            "Epoch 12/30\n",
            "625/625 [==============================] - 132s 211ms/step - loss: 0.2817 - acc: 0.8804 - val_loss: 0.2278 - val_acc: 0.9022\n",
            "Epoch 13/30\n",
            "625/625 [==============================] - 133s 212ms/step - loss: 0.2746 - acc: 0.8821 - val_loss: 0.2254 - val_acc: 0.9018\n",
            "Epoch 14/30\n",
            "625/625 [==============================] - 132s 211ms/step - loss: 0.2786 - acc: 0.8804 - val_loss: 0.2304 - val_acc: 0.9028\n",
            "Epoch 15/30\n",
            "625/625 [==============================] - 132s 211ms/step - loss: 0.2750 - acc: 0.8837 - val_loss: 0.2162 - val_acc: 0.9074\n",
            "Epoch 16/30\n",
            "625/625 [==============================] - 130s 208ms/step - loss: 0.2728 - acc: 0.8831 - val_loss: 0.2243 - val_acc: 0.9020\n",
            "Epoch 17/30\n",
            "625/625 [==============================] - 128s 205ms/step - loss: 0.2740 - acc: 0.8854 - val_loss: 0.2183 - val_acc: 0.9052\n",
            "Epoch 18/30\n",
            "625/625 [==============================] - 129s 206ms/step - loss: 0.2704 - acc: 0.8848 - val_loss: 0.2200 - val_acc: 0.9074\n",
            "Epoch 19/30\n",
            "625/625 [==============================] - 128s 205ms/step - loss: 0.2719 - acc: 0.8860 - val_loss: 0.2471 - val_acc: 0.8911\n",
            "Epoch 20/30\n",
            "625/625 [==============================] - 128s 205ms/step - loss: 0.2651 - acc: 0.8880 - val_loss: 0.2372 - val_acc: 0.8996\n",
            "Epoch 21/30\n",
            "625/625 [==============================] - 128s 204ms/step - loss: 0.2637 - acc: 0.8898 - val_loss: 0.2260 - val_acc: 0.9036\n",
            "Epoch 22/30\n",
            "625/625 [==============================] - 131s 210ms/step - loss: 0.2642 - acc: 0.8891 - val_loss: 0.2404 - val_acc: 0.9004\n",
            "Epoch 23/30\n",
            "625/625 [==============================] - 131s 209ms/step - loss: 0.2669 - acc: 0.8876 - val_loss: 0.2281 - val_acc: 0.9050\n",
            "Epoch 24/30\n",
            "625/625 [==============================] - 136s 217ms/step - loss: 0.2646 - acc: 0.8901 - val_loss: 0.2446 - val_acc: 0.8939\n",
            "Epoch 25/30\n",
            "625/625 [==============================] - 134s 214ms/step - loss: 0.2655 - acc: 0.8875 - val_loss: 0.2203 - val_acc: 0.9056\n",
            "Epoch 26/30\n",
            "625/625 [==============================] - 134s 215ms/step - loss: 0.2648 - acc: 0.8891 - val_loss: 0.2373 - val_acc: 0.8971\n",
            "Epoch 27/30\n",
            "625/625 [==============================] - 133s 213ms/step - loss: 0.2626 - acc: 0.8863 - val_loss: 0.2331 - val_acc: 0.8979\n",
            "Epoch 28/30\n",
            "625/625 [==============================] - 133s 212ms/step - loss: 0.2623 - acc: 0.8915 - val_loss: 0.2180 - val_acc: 0.9032\n",
            "Epoch 29/30\n",
            "625/625 [==============================] - 133s 212ms/step - loss: 0.2642 - acc: 0.8891 - val_loss: 0.2307 - val_acc: 0.9016\n",
            "Epoch 30/30\n",
            "625/625 [==============================] - 133s 212ms/step - loss: 0.2620 - acc: 0.8891 - val_loss: 0.2261 - val_acc: 0.9020\n"
          ],
          "name": "stdout"
        }
      ]
    },
    {
      "cell_type": "markdown",
      "metadata": {
        "id": "rRIvrw4_e9BA",
        "colab_type": "text"
      },
      "source": [
        "Save model"
      ]
    },
    {
      "cell_type": "code",
      "metadata": {
        "id": "Er6lVJYOe6t4",
        "colab_type": "code",
        "colab": {}
      },
      "source": [
        "vgg.save_weights('vgg16-v1.h5')"
      ],
      "execution_count": 0,
      "outputs": []
    },
    {
      "cell_type": "markdown",
      "metadata": {
        "id": "JQz8GIpIfNuI",
        "colab_type": "text"
      },
      "source": [
        "And download it"
      ]
    },
    {
      "cell_type": "code",
      "metadata": {
        "id": "XvJskxWyfPiF",
        "colab_type": "code",
        "colab": {}
      },
      "source": [
        "from google.colab import files\n",
        "files.download('vgg16-v1.h5')"
      ],
      "execution_count": 0,
      "outputs": []
    },
    {
      "cell_type": "markdown",
      "metadata": {
        "id": "PaUAWZVT5yn-",
        "colab_type": "text"
      },
      "source": [
        "# **Part 5: Kaggle results**"
      ]
    },
    {
      "cell_type": "code",
      "metadata": {
        "id": "XXM_uiA358r-",
        "colab_type": "code",
        "colab": {}
      },
      "source": [
        "import numpy as np\n",
        "\n",
        "predict = vgg.predict_generator(test_generator, steps=np.ceil(nb_samples/batch_size))"
      ],
      "execution_count": 0,
      "outputs": []
    },
    {
      "cell_type": "code",
      "metadata": {
        "id": "Km2-XMwr7-Jl",
        "colab_type": "code",
        "colab": {}
      },
      "source": [
        "# For categoral classication the prediction will come with probability of each category.\n",
        "# So we will pick the category that have the highest probability with numpy average max\n",
        "test_df['category'] = np.argmax(predict, axis=-1)"
      ],
      "execution_count": 0,
      "outputs": []
    },
    {
      "cell_type": "code",
      "metadata": {
        "id": "3niTYyLE8MJ6",
        "colab_type": "code",
        "colab": {}
      },
      "source": [
        "label_map = dict((v,k) for k,v in train_generator.class_indices.items())\n",
        "test_df['category'] = test_df['category'].replace(label_map)\n",
        "\n",
        "test_df['category'] = test_df['category'].replace({ 'dog': 1, 'cat': 0 })"
      ],
      "execution_count": 0,
      "outputs": []
    },
    {
      "cell_type": "markdown",
      "metadata": {
        "id": "7lKDeED68en4",
        "colab_type": "text"
      },
      "source": [
        "Visualize Result"
      ]
    },
    {
      "cell_type": "code",
      "metadata": {
        "id": "tq9YW3Rv8eCG",
        "colab_type": "code",
        "outputId": "9425ca5d-5b0f-4445-b280-d7d9b53fd39d",
        "colab": {
          "base_uri": "https://localhost:8080/",
          "height": 279
        }
      },
      "source": [
        "test_df['category'].value_counts().plot.bar()"
      ],
      "execution_count": 0,
      "outputs": [
        {
          "output_type": "execute_result",
          "data": {
            "text/plain": [
              "<matplotlib.axes._subplots.AxesSubplot at 0x7fe8d5bbe940>"
            ]
          },
          "metadata": {
            "tags": []
          },
          "execution_count": 22
        },
        {
          "output_type": "display_data",
          "data": {
            "image/png": "[encoded data removed]",
            "text/plain": [
              "<Figure size 432x288 with 1 Axes>"
            ]
          },
          "metadata": {
            "tags": []
          }
        }
      ]
    },
    {
      "cell_type": "markdown",
      "metadata": {
        "id": "tVJQp2028nAi",
        "colab_type": "text"
      },
      "source": [
        "Write predicted values to `submission.csv`"
      ]
    },
    {
      "cell_type": "code",
      "metadata": {
        "id": "qsrG-WM88nT6",
        "colab_type": "code",
        "colab": {}
      },
      "source": [
        "submission_df = test_df.copy()\n",
        "submission_df['id'] = submission_df['filename'].str.split('.').str[0]\n",
        "submission_df['label'] = submission_df['category']\n",
        "submission_df.drop(['filename', 'category'], axis=1, inplace=True)\n",
        "submission_df.to_csv('submission.csv', index=False)"
      ],
      "execution_count": 0,
      "outputs": []
    },
    {
      "cell_type": "markdown",
      "metadata": {
        "id": "XKym1vCMD8IW",
        "colab_type": "text"
      },
      "source": [
        "Download `submission.csv` file"
      ]
    },
    {
      "cell_type": "code",
      "metadata": {
        "id": "KJ-l8byFD7cO",
        "colab_type": "code",
        "colab": {}
      },
      "source": [
        "files.download('submission.csv')"
      ],
      "execution_count": 0,
      "outputs": []
    }
  ]
}