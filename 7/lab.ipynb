{
  "nbformat": 4,
  "nbformat_minor": 0,
  "metadata": {
    "kernelspec": {
      "name": "python3",
      "display_name": "Python 3"
    },
    "colab": {
      "name": "lab.ipynb",
      "provenance": []
    },
    "accelerator": "TPU"
  },
  "cells": [
    {
      "cell_type": "markdown",
      "metadata": {
        "collapsed": true,
        "id": "WZfImSn8R0d0",
        "colab_type": "text"
      },
      "source": [
        "<b>Google Colab</b> <a href=\"https://colab.research.google.com/github/kirillzyusko/deeplearning/blob/master/7/lab.ipynb\">link</a>"
      ]
    },
    {
      "cell_type": "markdown",
      "metadata": {
        "id": "5g0sOvfQO1nc",
        "colab_type": "text"
      },
      "source": [
        "# **Part 1:**"
      ]
    },
    {
      "cell_type": "markdown",
      "metadata": {
        "id": "S6Xdl2_LPDxg",
        "colab_type": "text"
      },
      "source": [
        ""
      ]
    },
    {
      "cell_type": "code",
      "metadata": {
        "id": "cca54DmnPD5S",
        "colab_type": "code",
        "colab": {}
      },
      "source": [
        ""
      ],
      "execution_count": 0,
      "outputs": []
    },
    {
      "cell_type": "markdown",
      "metadata": {
        "id": "6etXKKLfO2h5",
        "colab_type": "text"
      },
      "source": [
        "# **Part 2:**"
      ]
    },
    {
      "cell_type": "markdown",
      "metadata": {
        "id": "KX_C74u7PEdI",
        "colab_type": "text"
      },
      "source": [
        ""
      ]
    },
    {
      "cell_type": "code",
      "metadata": {
        "id": "S4RXxcNuPEkh",
        "colab_type": "code",
        "colab": {}
      },
      "source": [
        ""
      ],
      "execution_count": 0,
      "outputs": []
    },
    {
      "cell_type": "markdown",
      "metadata": {
        "id": "eIrvEkMaO2uP",
        "colab_type": "text"
      },
      "source": [
        "# **Part 3:**"
      ]
    },
    {
      "cell_type": "markdown",
      "metadata": {
        "id": "PlaKV6VOPFCI",
        "colab_type": "text"
      },
      "source": [
        ""
      ]
    },
    {
      "cell_type": "code",
      "metadata": {
        "id": "r-pGLa_TPFH6",
        "colab_type": "code",
        "colab": {}
      },
      "source": [
        ""
      ],
      "execution_count": 0,
      "outputs": []
    },
    {
      "cell_type": "markdown",
      "metadata": {
        "id": "1M7MEHJSO22X",
        "colab_type": "text"
      },
      "source": [
        "# **Part 4:**"
      ]
    },
    {
      "cell_type": "markdown",
      "metadata": {
        "id": "50EL3cv5PFyH",
        "colab_type": "text"
      },
      "source": [
        ""
      ]
    },
    {
      "cell_type": "code",
      "metadata": {
        "id": "eNZLyrdiPF4A",
        "colab_type": "code",
        "colab": {}
      },
      "source": [
        ""
      ],
      "execution_count": 0,
      "outputs": []
    }
  ]
}